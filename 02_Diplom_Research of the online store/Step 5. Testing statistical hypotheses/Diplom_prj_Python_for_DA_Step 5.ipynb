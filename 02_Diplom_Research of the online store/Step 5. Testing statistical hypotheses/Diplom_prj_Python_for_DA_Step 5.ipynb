{
 "cells": [
  {
   "cell_type": "markdown",
   "metadata": {},
   "source": [
    "# **Описание проекта: исследование интернет-магазина «Подарочек»**"
   ]
  },
  {
   "cell_type": "markdown",
   "metadata": {},
   "source": [
    "В качестве тестового задания исследуйте данные онлайн-магазина подарков.\n",
    "\n",
    "Магазин зачастую отправляет товары по почте, работает как с оптовыми, так и с розничными покупателями. \n",
    "\n",
    "Вы должны применить Python для анализа данных и показать, что можете самостоятельно решить задачу по исследованию данных, сегментации клиентов и проверке статистических гипотез."
   ]
  },
  {
   "cell_type": "markdown",
   "metadata": {},
   "source": [
    "## Описание данных"
   ]
  },
  {
   "cell_type": "markdown",
   "metadata": {},
   "source": [
    "__Основной датасет (df)__\n",
    "- entry_date — дата записи;\n",
    "- order_id — идентификационный номер заказа;\n",
    "- customer_id — идентификационный номер клиента;\n",
    "- quantity — количество;\n",
    "- price — цена;\n",
    "- name_clust — автоматически присвоенная группа записи на основе названия;\n",
    "- entry_id — идентификационный номер записи;\n",
    "- country_id — идентификационный номер страны.\n",
    "\n",
    "__Текстовое описание записей (df_text)__\n",
    "- entry_id — идентификационный номер записи;\n",
    "- entry — запись."
   ]
  },
  {
   "cell_type": "markdown",
   "metadata": {},
   "source": [
    "Датасеты содержит данные, которые несут в себе информацию о клиентах онлайн магазина Подарочек\n",
    "- основной датасет содержит информацию о заказах, включая дату, идентификаторы заказов и клиентов, количество товаров, их цену\n",
    "\n",
    "- текстовый датасет дополняет основной датасет описаниями записей"
   ]
  },
  {
   "cell_type": "markdown",
   "metadata": {},
   "source": [
    "__Цель работы__\n",
    "\n",
    "- Необходимо исследовать данные онлайн-магазина подарков с целью анализа поведения клиентов, сегментации их на основе различных характеристик и проверки статистических гипотез. \n",
    "- Данный проект  поможет  как понять исследуемых клиентов,так и  улучшить взаимодействие компании  с ними, что приведет к повышению эффективность бизнесса компании.\n",
    "\n",
    "__План работы:__ <a name=\"chapter0\"></a>\n",
    "- [Шаг 1. Получение, осмотр и объединение данных](#chapter1)\n",
    "  - Загрузка данных из csv-файлов в датафреймы.\n",
    "  - Изучить общую информацию о датафреймах.\n",
    "  -  Проверить наличие пропусков и принять решение о их заполнении.\n",
    "  - Проверить наличие дубликатов и принять решение о их удалении.\n",
    "  - Привести типы данных в каждом столбце к нужным форматам.\n",
    "  -  Проверить соответствие идентификационных номеров.\n",
    "  -  Объединить информацию из всех датафреймов в один.\n",
    "-  [Шаг 2. Предобработка и начало исследовательского анализа](#chapter2)\n",
    "   -  Найдите выбросы и аномальные значения в столбцах price и quantity, рассчитайте сумму стоимости каждой товарной позиции в датасете, примите и реализуйте решение о сохранении или отбрасывании подозрительных данных.\n",
    "   -  Изучите столбцы order_id, customer_id, name_clust, entry_id и country_id.\n",
    "   -  Изучите полноту данных, анализируя время записей. Посчитайте по месяцам количество дней, в которых не было продаж. Выберите период для анализа, содержащий основную часть данных, и далее работайте только с актуальными данными.\n",
    "\n",
    "- [Шаг 3. Расчёт метрик](#chapter3)\n",
    "    - Оцените по часам и дням недели количество заказов и количество уникальных покупателей. Постройте графики и сделайте вывод о наличии цикличности в покупательской активности.\n",
    "    - Рассчитайте по месяцам среднюю выручку с клиента в день и количество уникальных покупателей. Сделайте вывод о наличии или отсутствии сезонности, если это возможно.\n",
    "    - Рассчитайте стики-фактор за второй и третий квартал 2019 года.\n",
    "    - Составьте профиль каждого клиента, включите в профиль количество заказов, дату первого и последнего заказа, общую сумму всех заказов, среднюю цену заказа, а также другие показатели по вашему выбору.\n",
    "    - Разделите клиентов на возвратных и нет по признаку наличия повторных покупок, для каждой из групп на основе профилей клиентов (когда это возможно) рассчитайте средние показатели и оцените их.\n",
    "- [Шаг 4. Проведение RFM-сегментацию клиентов](#chapter4)\n",
    "    - разделите клиентов на группы по методике RFM;\n",
    "    - оцените получившиеся группы, найдите похожие и различающиеся;\n",
    "    - сформулируйте рекомендации для бизнеса по взаимодействию с сегментами, сопроводив их подходящими графиками и таблицами.\n",
    "- [Шаг 5.Проверка статистических гипотез](#chapter5)\n",
    "    - Сравните доли возвратных и невозвратных клиентов за второй и третий квартал 2019 года при помощи подходящего статистического теста.\n",
    "    - Сравните средние чеки в странах с country_id, равному 3, 6 и 24. На основе статистических тестов сделайте вывод о том, отличаются ли средние чеки в этих странах или нет.\n",
    "    - Сформулируйте собственную гипотезу и проверьте её.\n",
    "- [Шаг 6. Выводы по проекту](#chapter6)\n",
    "    - Опишите полученные результаты и зафиксируйте итоговый вывод проведённого исследования."
   ]
  },
  {
   "cell_type": "markdown",
   "metadata": {},
   "source": [
    "# Шаг 5. Проверка статистических гипотез <a name=\"chapter5\"></a>"
   ]
  },
  {
   "cell_type": "markdown",
   "metadata": {},
   "source": [
    "1. Сравните доли возвратных и невозвратных клиентов за второй и третий квартал 2019 года при помощи подходящего статистического теста."
   ]
  },
  {
   "cell_type": "markdown",
   "metadata": {},
   "source": [
    "для сравнения долей предлагается использовать Z-тест"
   ]
  },
  {
   "cell_type": "markdown",
   "metadata": {},
   "source": [
    "шаги\n",
    "- отфильруем по кварталам\n",
    "- группируем по клинетаи и оасчёт метрики\n",
    "- класификация на возвртаных и нет"
   ]
  },
  {
   "cell_type": "code",
   "execution_count": 179,
   "metadata": {
    "scrolled": true
   },
   "outputs": [
    {
     "name": "stderr",
     "output_type": "stream",
     "text": [
      "/tmp/ipykernel_31/3206537748.py:6: FutureWarning:\n",
      "\n",
      "Treating datetime data as categorical rather than numeric in `.describe` is deprecated and will be removed in a future version of pandas. Specify `datetime_is_numeric=True` to silence this warning and adopt the future behavior now.\n",
      "\n"
     ]
    },
    {
     "data": {
      "text/plain": [
       "count                   40254\n",
       "unique                   3186\n",
       "top       2019-05-22 13:01:00\n",
       "freq                      166\n",
       "first     2019-04-01 08:22:00\n",
       "last      2019-06-29 16:44:00\n",
       "Name: entry_date, dtype: object"
      ]
     },
     "metadata": {},
     "output_type": "display_data"
    },
    {
     "name": "stderr",
     "output_type": "stream",
     "text": [
      "/tmp/ipykernel_31/3206537748.py:7: FutureWarning:\n",
      "\n",
      "Treating datetime data as categorical rather than numeric in `.describe` is deprecated and will be removed in a future version of pandas. Specify `datetime_is_numeric=True` to silence this warning and adopt the future behavior now.\n",
      "\n"
     ]
    },
    {
     "data": {
      "text/plain": [
       "count                   47740\n",
       "unique                   3404\n",
       "top       2019-09-21 14:40:00\n",
       "freq                      268\n",
       "first     2019-07-01 08:16:00\n",
       "last      2019-09-29 18:53:00\n",
       "Name: entry_date, dtype: object"
      ]
     },
     "metadata": {},
     "output_type": "display_data"
    }
   ],
   "source": [
    "import pandas as pd\n",
    "\n",
    "# Фильтрация \n",
    "q2_data = analysis_period[(analysis_period['entry_date'] >= '2019-04-01') & (analysis_period['entry_date'] <= '2019-06-30')]\n",
    "q3_data = analysis_period[(analysis_period['entry_date'] >= '2019-07-01') & (analysis_period['entry_date'] <= '2019-09-30')]\n",
    "display(q2_data['entry_date'].describe())\n",
    "display(q3_data['entry_date'].describe())"
   ]
  },
  {
   "cell_type": "code",
   "execution_count": 180,
   "metadata": {
    "scrolled": true
   },
   "outputs": [],
   "source": [
    "import pandas as pd\n",
    "\n",
    "# Фильтрация \n",
    "q2_data = analysis_period[(analysis_period['entry_date'] >= '2019-04-01') & (analysis_period['entry_date'] <= '2019-06-30')]\n",
    "q3_data = analysis_period[(analysis_period['entry_date'] >= '2019-07-01') & (analysis_period['entry_date'] <= '2019-09-30')]"
   ]
  },
  {
   "cell_type": "code",
   "execution_count": 181,
   "metadata": {},
   "outputs": [
    {
     "data": {
      "text/html": [
       "<div>\n",
       "<style scoped>\n",
       "    .dataframe tbody tr th:only-of-type {\n",
       "        vertical-align: middle;\n",
       "    }\n",
       "\n",
       "    .dataframe tbody tr th {\n",
       "        vertical-align: top;\n",
       "    }\n",
       "\n",
       "    .dataframe thead th {\n",
       "        text-align: right;\n",
       "    }\n",
       "</style>\n",
       "<table border=\"1\" class=\"dataframe\">\n",
       "  <thead>\n",
       "    <tr style=\"text-align: right;\">\n",
       "      <th></th>\n",
       "      <th>customer_id</th>\n",
       "      <th>order_id</th>\n",
       "    </tr>\n",
       "  </thead>\n",
       "  <tbody>\n",
       "    <tr>\n",
       "      <th>0</th>\n",
       "      <td>1713</td>\n",
       "      <td>1</td>\n",
       "    </tr>\n",
       "    <tr>\n",
       "      <th>1</th>\n",
       "      <td>1717</td>\n",
       "      <td>4</td>\n",
       "    </tr>\n",
       "    <tr>\n",
       "      <th>2</th>\n",
       "      <td>1719</td>\n",
       "      <td>1</td>\n",
       "    </tr>\n",
       "    <tr>\n",
       "      <th>3</th>\n",
       "      <td>1728</td>\n",
       "      <td>2</td>\n",
       "    </tr>\n",
       "    <tr>\n",
       "      <th>4</th>\n",
       "      <td>1737</td>\n",
       "      <td>1</td>\n",
       "    </tr>\n",
       "    <tr>\n",
       "      <th>...</th>\n",
       "      <td>...</td>\n",
       "      <td>...</td>\n",
       "    </tr>\n",
       "    <tr>\n",
       "      <th>1832</th>\n",
       "      <td>7644</td>\n",
       "      <td>1</td>\n",
       "    </tr>\n",
       "    <tr>\n",
       "      <th>1833</th>\n",
       "      <td>7645</td>\n",
       "      <td>1</td>\n",
       "    </tr>\n",
       "    <tr>\n",
       "      <th>1834</th>\n",
       "      <td>7646</td>\n",
       "      <td>1</td>\n",
       "    </tr>\n",
       "    <tr>\n",
       "      <th>1835</th>\n",
       "      <td>7647</td>\n",
       "      <td>1</td>\n",
       "    </tr>\n",
       "    <tr>\n",
       "      <th>1836</th>\n",
       "      <td>7653</td>\n",
       "      <td>2</td>\n",
       "    </tr>\n",
       "  </tbody>\n",
       "</table>\n",
       "<p>1837 rows × 2 columns</p>\n",
       "</div>"
      ],
      "text/plain": [
       "      customer_id  order_id\n",
       "0            1713         1\n",
       "1            1717         4\n",
       "2            1719         1\n",
       "3            1728         2\n",
       "4            1737         1\n",
       "...           ...       ...\n",
       "1832         7644         1\n",
       "1833         7645         1\n",
       "1834         7646         1\n",
       "1835         7647         1\n",
       "1836         7653         2\n",
       "\n",
       "[1837 rows x 2 columns]"
      ]
     },
     "metadata": {},
     "output_type": "display_data"
    },
    {
     "data": {
      "text/html": [
       "<div>\n",
       "<style scoped>\n",
       "    .dataframe tbody tr th:only-of-type {\n",
       "        vertical-align: middle;\n",
       "    }\n",
       "\n",
       "    .dataframe tbody tr th {\n",
       "        vertical-align: top;\n",
       "    }\n",
       "\n",
       "    .dataframe thead th {\n",
       "        text-align: right;\n",
       "    }\n",
       "</style>\n",
       "<table border=\"1\" class=\"dataframe\">\n",
       "  <thead>\n",
       "    <tr style=\"text-align: right;\">\n",
       "      <th></th>\n",
       "      <th>customer_id</th>\n",
       "      <th>order_id</th>\n",
       "    </tr>\n",
       "  </thead>\n",
       "  <tbody>\n",
       "    <tr>\n",
       "      <th>0</th>\n",
       "      <td>1717</td>\n",
       "      <td>2</td>\n",
       "    </tr>\n",
       "    <tr>\n",
       "      <th>1</th>\n",
       "      <td>1718</td>\n",
       "      <td>1</td>\n",
       "    </tr>\n",
       "    <tr>\n",
       "      <th>2</th>\n",
       "      <td>1722</td>\n",
       "      <td>1</td>\n",
       "    </tr>\n",
       "    <tr>\n",
       "      <th>3</th>\n",
       "      <td>1728</td>\n",
       "      <td>2</td>\n",
       "    </tr>\n",
       "    <tr>\n",
       "      <th>4</th>\n",
       "      <td>1735</td>\n",
       "      <td>2</td>\n",
       "    </tr>\n",
       "    <tr>\n",
       "      <th>...</th>\n",
       "      <td>...</td>\n",
       "      <td>...</td>\n",
       "    </tr>\n",
       "    <tr>\n",
       "      <th>1958</th>\n",
       "      <td>7638</td>\n",
       "      <td>3</td>\n",
       "    </tr>\n",
       "    <tr>\n",
       "      <th>1959</th>\n",
       "      <td>7640</td>\n",
       "      <td>1</td>\n",
       "    </tr>\n",
       "    <tr>\n",
       "      <th>1960</th>\n",
       "      <td>7642</td>\n",
       "      <td>1</td>\n",
       "    </tr>\n",
       "    <tr>\n",
       "      <th>1961</th>\n",
       "      <td>7648</td>\n",
       "      <td>2</td>\n",
       "    </tr>\n",
       "    <tr>\n",
       "      <th>1962</th>\n",
       "      <td>7653</td>\n",
       "      <td>1</td>\n",
       "    </tr>\n",
       "  </tbody>\n",
       "</table>\n",
       "<p>1963 rows × 2 columns</p>\n",
       "</div>"
      ],
      "text/plain": [
       "      customer_id  order_id\n",
       "0            1717         2\n",
       "1            1718         1\n",
       "2            1722         1\n",
       "3            1728         2\n",
       "4            1735         2\n",
       "...           ...       ...\n",
       "1958         7638         3\n",
       "1959         7640         1\n",
       "1960         7642         1\n",
       "1961         7648         2\n",
       "1962         7653         1\n",
       "\n",
       "[1963 rows x 2 columns]"
      ]
     },
     "metadata": {},
     "output_type": "display_data"
    }
   ],
   "source": [
    "# Группировка данных по клиентам\n",
    "q2_customer_orders = q2_data.groupby('customer_id')['order_id'].nunique().reset_index()\n",
    "q3_customer_orders = q3_data.groupby('customer_id')['order_id'].nunique().reset_index()\n",
    "display(q2_customer_orders)\n",
    "display(q3_customer_orders)"
   ]
  },
  {
   "cell_type": "code",
   "execution_count": 182,
   "metadata": {},
   "outputs": [
    {
     "data": {
      "text/html": [
       "<div>\n",
       "<style scoped>\n",
       "    .dataframe tbody tr th:only-of-type {\n",
       "        vertical-align: middle;\n",
       "    }\n",
       "\n",
       "    .dataframe tbody tr th {\n",
       "        vertical-align: top;\n",
       "    }\n",
       "\n",
       "    .dataframe thead th {\n",
       "        text-align: right;\n",
       "    }\n",
       "</style>\n",
       "<table border=\"1\" class=\"dataframe\">\n",
       "  <thead>\n",
       "    <tr style=\"text-align: right;\">\n",
       "      <th></th>\n",
       "      <th>customer_id</th>\n",
       "      <th>order_id</th>\n",
       "      <th>type</th>\n",
       "    </tr>\n",
       "  </thead>\n",
       "  <tbody>\n",
       "    <tr>\n",
       "      <th>0</th>\n",
       "      <td>1713</td>\n",
       "      <td>1</td>\n",
       "      <td>невозвратный</td>\n",
       "    </tr>\n",
       "    <tr>\n",
       "      <th>1</th>\n",
       "      <td>1717</td>\n",
       "      <td>4</td>\n",
       "      <td>возвратный</td>\n",
       "    </tr>\n",
       "    <tr>\n",
       "      <th>2</th>\n",
       "      <td>1719</td>\n",
       "      <td>1</td>\n",
       "      <td>невозвратный</td>\n",
       "    </tr>\n",
       "    <tr>\n",
       "      <th>3</th>\n",
       "      <td>1728</td>\n",
       "      <td>2</td>\n",
       "      <td>возвратный</td>\n",
       "    </tr>\n",
       "    <tr>\n",
       "      <th>4</th>\n",
       "      <td>1737</td>\n",
       "      <td>1</td>\n",
       "      <td>невозвратный</td>\n",
       "    </tr>\n",
       "    <tr>\n",
       "      <th>...</th>\n",
       "      <td>...</td>\n",
       "      <td>...</td>\n",
       "      <td>...</td>\n",
       "    </tr>\n",
       "    <tr>\n",
       "      <th>1832</th>\n",
       "      <td>7644</td>\n",
       "      <td>1</td>\n",
       "      <td>невозвратный</td>\n",
       "    </tr>\n",
       "    <tr>\n",
       "      <th>1833</th>\n",
       "      <td>7645</td>\n",
       "      <td>1</td>\n",
       "      <td>невозвратный</td>\n",
       "    </tr>\n",
       "    <tr>\n",
       "      <th>1834</th>\n",
       "      <td>7646</td>\n",
       "      <td>1</td>\n",
       "      <td>невозвратный</td>\n",
       "    </tr>\n",
       "    <tr>\n",
       "      <th>1835</th>\n",
       "      <td>7647</td>\n",
       "      <td>1</td>\n",
       "      <td>невозвратный</td>\n",
       "    </tr>\n",
       "    <tr>\n",
       "      <th>1836</th>\n",
       "      <td>7653</td>\n",
       "      <td>2</td>\n",
       "      <td>возвратный</td>\n",
       "    </tr>\n",
       "  </tbody>\n",
       "</table>\n",
       "<p>1837 rows × 3 columns</p>\n",
       "</div>"
      ],
      "text/plain": [
       "      customer_id  order_id          type\n",
       "0            1713         1  невозвратный\n",
       "1            1717         4    возвратный\n",
       "2            1719         1  невозвратный\n",
       "3            1728         2    возвратный\n",
       "4            1737         1  невозвратный\n",
       "...           ...       ...           ...\n",
       "1832         7644         1  невозвратный\n",
       "1833         7645         1  невозвратный\n",
       "1834         7646         1  невозвратный\n",
       "1835         7647         1  невозвратный\n",
       "1836         7653         2    возвратный\n",
       "\n",
       "[1837 rows x 3 columns]"
      ]
     },
     "metadata": {},
     "output_type": "display_data"
    },
    {
     "data": {
      "text/html": [
       "<div>\n",
       "<style scoped>\n",
       "    .dataframe tbody tr th:only-of-type {\n",
       "        vertical-align: middle;\n",
       "    }\n",
       "\n",
       "    .dataframe tbody tr th {\n",
       "        vertical-align: top;\n",
       "    }\n",
       "\n",
       "    .dataframe thead th {\n",
       "        text-align: right;\n",
       "    }\n",
       "</style>\n",
       "<table border=\"1\" class=\"dataframe\">\n",
       "  <thead>\n",
       "    <tr style=\"text-align: right;\">\n",
       "      <th></th>\n",
       "      <th>customer_id</th>\n",
       "      <th>order_id</th>\n",
       "      <th>type</th>\n",
       "    </tr>\n",
       "  </thead>\n",
       "  <tbody>\n",
       "    <tr>\n",
       "      <th>0</th>\n",
       "      <td>1717</td>\n",
       "      <td>2</td>\n",
       "      <td>возвратный</td>\n",
       "    </tr>\n",
       "    <tr>\n",
       "      <th>1</th>\n",
       "      <td>1718</td>\n",
       "      <td>1</td>\n",
       "      <td>невозвратный</td>\n",
       "    </tr>\n",
       "    <tr>\n",
       "      <th>2</th>\n",
       "      <td>1722</td>\n",
       "      <td>1</td>\n",
       "      <td>невозвратный</td>\n",
       "    </tr>\n",
       "    <tr>\n",
       "      <th>3</th>\n",
       "      <td>1728</td>\n",
       "      <td>2</td>\n",
       "      <td>возвратный</td>\n",
       "    </tr>\n",
       "    <tr>\n",
       "      <th>4</th>\n",
       "      <td>1735</td>\n",
       "      <td>2</td>\n",
       "      <td>возвратный</td>\n",
       "    </tr>\n",
       "    <tr>\n",
       "      <th>...</th>\n",
       "      <td>...</td>\n",
       "      <td>...</td>\n",
       "      <td>...</td>\n",
       "    </tr>\n",
       "    <tr>\n",
       "      <th>1958</th>\n",
       "      <td>7638</td>\n",
       "      <td>3</td>\n",
       "      <td>возвратный</td>\n",
       "    </tr>\n",
       "    <tr>\n",
       "      <th>1959</th>\n",
       "      <td>7640</td>\n",
       "      <td>1</td>\n",
       "      <td>невозвратный</td>\n",
       "    </tr>\n",
       "    <tr>\n",
       "      <th>1960</th>\n",
       "      <td>7642</td>\n",
       "      <td>1</td>\n",
       "      <td>невозвратный</td>\n",
       "    </tr>\n",
       "    <tr>\n",
       "      <th>1961</th>\n",
       "      <td>7648</td>\n",
       "      <td>2</td>\n",
       "      <td>возвратный</td>\n",
       "    </tr>\n",
       "    <tr>\n",
       "      <th>1962</th>\n",
       "      <td>7653</td>\n",
       "      <td>1</td>\n",
       "      <td>невозвратный</td>\n",
       "    </tr>\n",
       "  </tbody>\n",
       "</table>\n",
       "<p>1963 rows × 3 columns</p>\n",
       "</div>"
      ],
      "text/plain": [
       "      customer_id  order_id          type\n",
       "0            1717         2    возвратный\n",
       "1            1718         1  невозвратный\n",
       "2            1722         1  невозвратный\n",
       "3            1728         2    возвратный\n",
       "4            1735         2    возвратный\n",
       "...           ...       ...           ...\n",
       "1958         7638         3    возвратный\n",
       "1959         7640         1  невозвратный\n",
       "1960         7642         1  невозвратный\n",
       "1961         7648         2    возвратный\n",
       "1962         7653         1  невозвратный\n",
       "\n",
       "[1963 rows x 3 columns]"
      ]
     },
     "metadata": {},
     "output_type": "display_data"
    }
   ],
   "source": [
    "import pandas as pd\n",
    "\n",
    "# Классификация клиентов на возвратных и невозвратных\n",
    "q2_customer_orders['type'] = q2_customer_orders['order_id'].apply(lambda x: 'возвратный' if x > 1 else 'невозвратный')\n",
    "q3_customer_orders['type'] = q3_customer_orders['order_id'].apply(lambda x: 'возвратный' if x > 1 else 'невозвратный')\n",
    "display(q2_customer_orders)\n",
    "display(q3_customer_orders)"
   ]
  },
  {
   "cell_type": "code",
   "execution_count": 183,
   "metadata": {},
   "outputs": [
    {
     "name": "stdout",
     "output_type": "stream",
     "text": [
      "                Q2    Q3\n",
      "невозвратный  1127  1202\n",
      "возвратный     710   761\n"
     ]
    }
   ],
   "source": [
    "# Подсчет количества возвратных и невозвратных клиентов\n",
    "q2_counts = q2_customer_orders['type'].value_counts()\n",
    "q3_counts = q3_customer_orders['type'].value_counts()\n",
    "\n",
    "# Создание таблицы для теста\n",
    "contingency_table = pd.DataFrame({'Q2': q2_counts, 'Q3': q3_counts}).fillna(0)\n",
    "\n",
    "print(contingency_table)"
   ]
  },
  {
   "cell_type": "code",
   "execution_count": 184,
   "metadata": {},
   "outputs": [
    {
     "data": {
      "text/html": [
       "<div>\n",
       "<style scoped>\n",
       "    .dataframe tbody tr th:only-of-type {\n",
       "        vertical-align: middle;\n",
       "    }\n",
       "\n",
       "    .dataframe tbody tr th {\n",
       "        vertical-align: top;\n",
       "    }\n",
       "\n",
       "    .dataframe thead th {\n",
       "        text-align: right;\n",
       "    }\n",
       "</style>\n",
       "<table border=\"1\" class=\"dataframe\">\n",
       "  <thead>\n",
       "    <tr style=\"text-align: right;\">\n",
       "      <th></th>\n",
       "      <th>customer_id</th>\n",
       "      <th>order_id</th>\n",
       "    </tr>\n",
       "  </thead>\n",
       "  <tbody>\n",
       "    <tr>\n",
       "      <th>count</th>\n",
       "      <td>1837.000000</td>\n",
       "      <td>1837.000000</td>\n",
       "    </tr>\n",
       "    <tr>\n",
       "      <th>mean</th>\n",
       "      <td>4694.522591</td>\n",
       "      <td>1.838868</td>\n",
       "    </tr>\n",
       "    <tr>\n",
       "      <th>std</th>\n",
       "      <td>1714.938093</td>\n",
       "      <td>1.903486</td>\n",
       "    </tr>\n",
       "    <tr>\n",
       "      <th>min</th>\n",
       "      <td>1713.000000</td>\n",
       "      <td>1.000000</td>\n",
       "    </tr>\n",
       "    <tr>\n",
       "      <th>25%</th>\n",
       "      <td>3209.000000</td>\n",
       "      <td>1.000000</td>\n",
       "    </tr>\n",
       "    <tr>\n",
       "      <th>50%</th>\n",
       "      <td>4749.000000</td>\n",
       "      <td>1.000000</td>\n",
       "    </tr>\n",
       "    <tr>\n",
       "      <th>75%</th>\n",
       "      <td>6169.000000</td>\n",
       "      <td>2.000000</td>\n",
       "    </tr>\n",
       "    <tr>\n",
       "      <th>max</th>\n",
       "      <td>7653.000000</td>\n",
       "      <td>39.000000</td>\n",
       "    </tr>\n",
       "  </tbody>\n",
       "</table>\n",
       "</div>"
      ],
      "text/plain": [
       "       customer_id     order_id\n",
       "count  1837.000000  1837.000000\n",
       "mean   4694.522591     1.838868\n",
       "std    1714.938093     1.903486\n",
       "min    1713.000000     1.000000\n",
       "25%    3209.000000     1.000000\n",
       "50%    4749.000000     1.000000\n",
       "75%    6169.000000     2.000000\n",
       "max    7653.000000    39.000000"
      ]
     },
     "execution_count": 184,
     "metadata": {},
     "output_type": "execute_result"
    }
   ],
   "source": [
    "q2_customer_orders.describe()"
   ]
  },
  {
   "cell_type": "code",
   "execution_count": 185,
   "metadata": {},
   "outputs": [
    {
     "data": {
      "image/png": "[encoded data removed]",
      "text/plain": [
       "<Figure size 720x432 with 1 Axes>"
      ]
     },
     "metadata": {
      "needs_background": "light"
     },
     "output_type": "display_data"
    }
   ],
   "source": [
    "import pandas as pd\n",
    "import matplotlib.pyplot as plt\n",
    "import seaborn as sns\n",
    "\n",
    "# Данные для второго квартала\n",
    "data_q2 = q2_customer_orders['order_id']\n",
    "\n",
    "# Построение гистограммы\n",
    "plt.figure(figsize=(10, 6))\n",
    "sns.histplot(data_q2, bins=30)\n",
    "plt.title('Распределение количества заказов во втором квартале 2019 года')\n",
    "plt.xlabel('Количество заказов')\n",
    "plt.ylabel('Частота')\n",
    "plt.show()"
   ]
  },
  {
   "cell_type": "code",
   "execution_count": 186,
   "metadata": {
    "scrolled": true
   },
   "outputs": [
    {
     "data": {
      "text/html": [
       "<div>\n",
       "<style scoped>\n",
       "    .dataframe tbody tr th:only-of-type {\n",
       "        vertical-align: middle;\n",
       "    }\n",
       "\n",
       "    .dataframe tbody tr th {\n",
       "        vertical-align: top;\n",
       "    }\n",
       "\n",
       "    .dataframe thead th {\n",
       "        text-align: right;\n",
       "    }\n",
       "</style>\n",
       "<table border=\"1\" class=\"dataframe\">\n",
       "  <thead>\n",
       "    <tr style=\"text-align: right;\">\n",
       "      <th></th>\n",
       "      <th>customer_id</th>\n",
       "      <th>order_id</th>\n",
       "    </tr>\n",
       "  </thead>\n",
       "  <tbody>\n",
       "    <tr>\n",
       "      <th>count</th>\n",
       "      <td>1963.000000</td>\n",
       "      <td>1963.000000</td>\n",
       "    </tr>\n",
       "    <tr>\n",
       "      <th>mean</th>\n",
       "      <td>4760.292919</td>\n",
       "      <td>1.830362</td>\n",
       "    </tr>\n",
       "    <tr>\n",
       "      <th>std</th>\n",
       "      <td>1719.118046</td>\n",
       "      <td>1.815174</td>\n",
       "    </tr>\n",
       "    <tr>\n",
       "      <th>min</th>\n",
       "      <td>1717.000000</td>\n",
       "      <td>1.000000</td>\n",
       "    </tr>\n",
       "    <tr>\n",
       "      <th>25%</th>\n",
       "      <td>3289.500000</td>\n",
       "      <td>1.000000</td>\n",
       "    </tr>\n",
       "    <tr>\n",
       "      <th>50%</th>\n",
       "      <td>4757.000000</td>\n",
       "      <td>1.000000</td>\n",
       "    </tr>\n",
       "    <tr>\n",
       "      <th>75%</th>\n",
       "      <td>6256.500000</td>\n",
       "      <td>2.000000</td>\n",
       "    </tr>\n",
       "    <tr>\n",
       "      <th>max</th>\n",
       "      <td>7653.000000</td>\n",
       "      <td>32.000000</td>\n",
       "    </tr>\n",
       "  </tbody>\n",
       "</table>\n",
       "</div>"
      ],
      "text/plain": [
       "       customer_id     order_id\n",
       "count  1963.000000  1963.000000\n",
       "mean   4760.292919     1.830362\n",
       "std    1719.118046     1.815174\n",
       "min    1717.000000     1.000000\n",
       "25%    3289.500000     1.000000\n",
       "50%    4757.000000     1.000000\n",
       "75%    6256.500000     2.000000\n",
       "max    7653.000000    32.000000"
      ]
     },
     "execution_count": 186,
     "metadata": {},
     "output_type": "execute_result"
    }
   ],
   "source": [
    "q3_customer_orders.describe()"
   ]
  },
  {
   "cell_type": "code",
   "execution_count": 187,
   "metadata": {},
   "outputs": [
    {
     "data": {
      "image/png": "[encoded data removed]",
      "text/plain": [
       "<Figure size 720x432 with 1 Axes>"
      ]
     },
     "metadata": {
      "needs_background": "light"
     },
     "output_type": "display_data"
    }
   ],
   "source": [
    "import pandas as pd\n",
    "import matplotlib.pyplot as plt\n",
    "import seaborn as sns\n",
    "\n",
    "# Данные для третьего квартала\n",
    "data_q3 = q3_customer_orders['order_id']\n",
    "\n",
    "# Построение гистограммы\n",
    "plt.figure(figsize=(10, 6))\n",
    "sns.histplot(data_q3, bins=30)\n",
    "plt.title('Распределение количества заказов в третьем квартале 2019 года')\n",
    "plt.xlabel('Количество заказов')\n",
    "plt.ylabel('Частота')\n",
    "plt.show()"
   ]
  },
  {
   "cell_type": "markdown",
   "metadata": {},
   "source": [
    "данные распределены схожим образом в обоих кварталах."
   ]
  },
  {
   "cell_type": "code",
   "execution_count": 188,
   "metadata": {},
   "outputs": [
    {
     "name": "stdout",
     "output_type": "stream",
     "text": [
      "Z-статистика: -0.07413413721799754\n",
      "p-значение: 0.9409036524133968\n"
     ]
    }
   ],
   "source": [
    "from statsmodels.stats.proportion import proportions_ztest\n",
    "\n",
    "# Количество возвратных и невозвратных клиентов за каждый квартал\n",
    "q2_returning = q2_counts['возвратный']\n",
    "q2_non_returning = q2_counts['невозвратный']\n",
    "q3_returning = q3_counts['возвратный']\n",
    "q3_non_returning = q3_counts['невозвратный']\n",
    "\n",
    "# Общее количество клиентов за каждый квартал\n",
    "n_q2 = q2_returning + q2_non_returning\n",
    "n_q3 = q3_returning + q3_non_returning\n",
    "\n",
    "# Количество возвратных клиентов за каждый квартал\n",
    "counts = [q2_returning, q3_returning]\n",
    "\n",
    "# Общее количество клиентов за каждый квартал\n",
    "nobs = [n_q2, n_q3]\n",
    "\n",
    "# Выполнение Z-теста для пропорций\n",
    "stat, pval = proportions_ztest(counts, nobs)\n",
    "\n",
    "print(f\"Z-статистика: {stat}\")\n",
    "print(f\"p-значение: {pval}\")"
   ]
  },
  {
   "cell_type": "markdown",
   "metadata": {},
   "source": [
    "- выводы\n",
    "  - Z-статистика: -0.0741 указывает на незначительное различие между долями возвратных клиентов во втором и третьем кварталах 2019 года.\n",
    "  - p-значение (p-value): 0.9409 значительно превышает уровень значимости 0.05, нет статист значимых различий,то есть не отклоняем нулевую гипотезу"
   ]
  },
  {
   "cell_type": "markdown",
   "metadata": {},
   "source": [
    "2. Сравните средние чеки в странах с country_id, равному 3, 6 и 24. На основе статистических тестов сделайте вывод о том, отличаются ли средние чеки в этих странах или нет."
   ]
  },
  {
   "cell_type": "code",
   "execution_count": 189,
   "metadata": {},
   "outputs": [
    {
     "data": {
      "text/plain": [
       "array([ 6,  3, 24])"
      ]
     },
     "metadata": {},
     "output_type": "display_data"
    },
    {
     "name": "stdout",
     "output_type": "stream",
     "text": [
      "   country_id   total_cost\n",
      "0           3  1667.637654\n",
      "1           6  1769.217194\n",
      "2          24  2087.190840\n"
     ]
    }
   ],
   "source": [
    "import pandas as pd\n",
    "\n",
    "# Фильтрация данных для стран с country_id 3, 6 и 24\n",
    "country_ids = [3, 6, 24]\n",
    "filtered_data_3_6_24 = analysis_period[analysis_period['country_id'].isin(country_ids)]\n",
    "display(filtered_data_3_6_24['country_id'].unique())\n",
    "\n",
    "# Рассчет среднего чека для каждой страны\n",
    "country_means = filtered_data_3_6_24.groupby('country_id')['total_cost'].mean().reset_index()\n",
    "print(country_means)"
   ]
  },
  {
   "cell_type": "code",
   "execution_count": 190,
   "metadata": {},
   "outputs": [
    {
     "name": "stdout",
     "output_type": "stream",
     "text": [
      "t-тест (страна 3 и страна 6): t-статистика: -3.858332084231635, p-значение: 0.0001171670936360917\n",
      "t-тест (страна 3 и страна 24): t-статистика: -3.1028048714018777, p-значение: 0.0023302456942105552\n",
      "t-тест (страна 6 и страна 24): t-статистика: -2.3641537837125117, p-значение: 0.019510759864204995\n"
     ]
    }
   ],
   "source": [
    "from scipy.stats import ttest_ind\n",
    "\n",
    "# Данные для стран с country_id 3, 6 и 24\n",
    "data_3 = filtered_data_3_6_24[filtered_data_3_6_24['country_id'] == 3]['total_cost']\n",
    "data_6 = filtered_data_3_6_24[filtered_data_3_6_24['country_id'] == 6]['total_cost']\n",
    "data_24 = filtered_data_3_6_24[filtered_data_3_6_24['country_id'] == 24]['total_cost']\n",
    "\n",
    "# Выполнение t-тестов для сравнения средних двух независимых групп\n",
    "\n",
    "# Сравнение стран 3 и 6\n",
    "t_stat_3_6, p_value_3_6 = ttest_ind(data_3, data_6, equal_var=False)\n",
    "print(f\"t-тест (страна 3 и страна 6): t-статистика: {t_stat_3_6}, p-значение: {p_value_3_6}\")\n",
    "\n",
    "# Сравнение стран 3 и 24\n",
    "t_stat_3_24, p_value_3_24 = ttest_ind(data_3, data_24, equal_var=False)\n",
    "print(f\"t-тест (страна 3 и страна 24): t-статистика: {t_stat_3_24}, p-значение: {p_value_3_24}\")\n",
    "\n",
    "# Сравнение стран 6 и 24\n",
    "t_stat_6_24, p_value_6_24 = ttest_ind(data_6, data_24, equal_var=False)\n",
    "print(f\"t-тест (страна 6 и страна 24): t-статистика: {t_stat_6_24}, p-значение: {p_value_6_24}\")"
   ]
  },
  {
   "cell_type": "markdown",
   "metadata": {},
   "source": [
    "- во всех тестах р=значение меньше 0.05\n",
    "- значит отклоняем нулнвую гипотеуз\n",
    "\n",
    "__На основании t-тестов можно сделать вывод, что средние чеки в странах с country_id 3, 6 и 24 статистически значимо различаются.__"
   ]
  },
  {
   "cell_type": "markdown",
   "metadata": {},
   "source": [
    "3. Сформулируйте собственную гипотезу и проверьте её."
   ]
  },
  {
   "cell_type": "markdown",
   "metadata": {},
   "source": [
    "Средние чеки клиентов по покупкам в выходные, выше, чем средние чеки клиентов в будни"
   ]
  },
  {
   "cell_type": "code",
   "execution_count": 195,
   "metadata": {},
   "outputs": [
    {
     "data": {
      "text/plain": [
       "array(['Saturday', 'Sunday', 'Monday', 'Wednesday', 'Thursday', 'Friday'],\n",
       "      dtype=object)"
      ]
     },
     "metadata": {},
     "output_type": "display_data"
    }
   ],
   "source": [
    "import pandas as pd\n",
    "\n",
    "# Добавим столбец с названием дня недели\n",
    "analysis_period['day_name'] = analysis_period['entry_date'].dt.day_name()\n",
    "display(analysis_period['day_name'].unique())"
   ]
  },
  {
   "cell_type": "code",
   "execution_count": 196,
   "metadata": {},
   "outputs": [
    {
     "data": {
      "text/plain": [
       "array(['Saturday', 'Sunday'], dtype=object)"
      ]
     },
     "metadata": {},
     "output_type": "display_data"
    },
    {
     "data": {
      "text/plain": [
       "array(['Monday', 'Wednesday', 'Thursday', 'Friday'], dtype=object)"
      ]
     },
     "metadata": {},
     "output_type": "display_data"
    }
   ],
   "source": [
    "# Разделим данные на две группы: покупки в выходные и в будние дни\n",
    "sat_sun_data = analysis_period[analysis_period['day_name'].isin(['Saturday', 'Sunday'])]\n",
    "mn_fr_data = analysis_period[analysis_period['day_name'].isin(['Monday', 'Tuesday', 'Wednesday', 'Thursday', 'Friday'])]\n",
    "display(sat_sun_data['day_name'].unique())\n",
    "display(mn_fr_data['day_name'].unique())"
   ]
  },
  {
   "cell_type": "code",
   "execution_count": 197,
   "metadata": {},
   "outputs": [
    {
     "name": "stdout",
     "output_type": "stream",
     "text": [
      "Средний чек в выходные дни: 1238.05083522948\n",
      "Средний чек в будние дни: 1109.9641129128365\n"
     ]
    }
   ],
   "source": [
    "# Рассчитаем средний чек для каждой группы\n",
    "sat_sun_mean = sat_sun_data['total_cost'].mean()\n",
    "mn_fr_mean = mn_fr_data['total_cost'].mean()\n",
    "\n",
    "print(f\"Средний чек в выходные дни: {sat_sun_mean}\")\n",
    "print(f\"Средний чек в будние дни: {mn_fr_mean}\")"
   ]
  },
  {
   "cell_type": "code",
   "execution_count": 198,
   "metadata": {},
   "outputs": [
    {
     "name": "stdout",
     "output_type": "stream",
     "text": [
      "t-статистика: 24.551589490390768\n",
      "p-значение: 7.792396831790474e-133\n"
     ]
    }
   ],
   "source": [
    "from scipy.stats import ttest_ind\n",
    "\n",
    "# Данные для выходных и будних дней\n",
    "sat_sun_total_cost = sat_sun_data['total_cost']\n",
    "mn_fr_total_cost = mn_fr_data['total_cost']\n",
    "\n",
    "# Выполнение t-теста для сравнения средних двух независимых групп\n",
    "t_stat, p_value = ttest_ind(sat_sun_total_cost, mn_fr_total_cost, equal_var=False)\n",
    "\n",
    "print(f\"t-статистика: {t_stat}\")\n",
    "print(f\"p-значение: {p_value}\")"
   ]
  },
  {
   "cell_type": "markdown",
   "metadata": {},
   "source": [
    "- отклоняем нулевую гипотезу\n",
    "- средние чеки в выходные дни статистически значимо отличаются от средних чеков в будние дни"
   ]
  },
  {
   "cell_type": "markdown",
   "metadata": {},
   "source": [
    "<div class=\"alert alert-info\">\n",
    "  <b> * <a href=\"#chapter0\">к содержанию</a> </b> \n",
    "</div>"
   ]
  },
  {
   "cell_type": "markdown",
   "metadata": {},
   "source": [
    "---"
   ]
  }
 ],
 "metadata": {
  "ExecuteTimeLog": [
   {
    "duration": 931,
    "start_time": "2024-11-22T08:45:52.483Z"
   },
   {
    "duration": 564,
    "start_time": "2024-11-22T08:46:11.628Z"
   },
   {
    "duration": 4,
    "start_time": "2024-11-22T08:50:17.200Z"
   },
   {
    "duration": 61,
    "start_time": "2024-11-22T08:56:24.445Z"
   },
   {
    "duration": 6,
    "start_time": "2024-11-22T08:56:45.171Z"
   },
   {
    "duration": 42,
    "start_time": "2024-11-22T08:58:55.386Z"
   },
   {
    "duration": 52,
    "start_time": "2024-11-22T08:59:05.471Z"
   },
   {
    "duration": 497,
    "start_time": "2024-11-22T08:59:29.624Z"
   },
   {
    "duration": 6,
    "start_time": "2024-11-22T09:07:10.266Z"
   },
   {
    "duration": 22,
    "start_time": "2024-11-22T09:07:15.880Z"
   },
   {
    "duration": 49,
    "start_time": "2024-11-22T09:07:54.644Z"
   },
   {
    "duration": 9,
    "start_time": "2024-11-22T09:08:11.060Z"
   },
   {
    "duration": 7,
    "start_time": "2024-11-22T09:09:58.403Z"
   },
   {
    "duration": 29,
    "start_time": "2024-11-22T09:10:14.846Z"
   },
   {
    "duration": 5,
    "start_time": "2024-11-22T09:10:25.691Z"
   },
   {
    "duration": 22,
    "start_time": "2024-11-22T09:10:49.003Z"
   },
   {
    "duration": 4,
    "start_time": "2024-11-22T09:24:31.861Z"
   },
   {
    "duration": 11,
    "start_time": "2024-11-22T09:24:51.613Z"
   },
   {
    "duration": 88,
    "start_time": "2024-11-22T09:26:31.846Z"
   },
   {
    "duration": 88,
    "start_time": "2024-11-22T09:27:00.849Z"
   },
   {
    "duration": 644,
    "start_time": "2024-11-22T09:27:26.583Z"
   },
   {
    "duration": 53,
    "start_time": "2024-11-22T09:27:27.229Z"
   },
   {
    "duration": 34,
    "start_time": "2024-11-22T09:27:28.408Z"
   },
   {
    "duration": 9,
    "start_time": "2024-11-22T09:27:29.331Z"
   },
   {
    "duration": 18,
    "start_time": "2024-11-22T09:27:31.196Z"
   },
   {
    "duration": 6,
    "start_time": "2024-11-22T09:27:32.613Z"
   },
   {
    "duration": 11,
    "start_time": "2024-11-22T09:27:34.033Z"
   },
   {
    "duration": 8,
    "start_time": "2024-11-22T09:27:40.248Z"
   },
   {
    "duration": 84,
    "start_time": "2024-11-22T09:29:00.239Z"
   },
   {
    "duration": 72,
    "start_time": "2024-11-22T09:29:40.817Z"
   },
   {
    "duration": 815,
    "start_time": "2024-11-22T09:30:35.748Z"
   },
   {
    "duration": 60,
    "start_time": "2024-11-22T09:30:36.564Z"
   },
   {
    "duration": 23,
    "start_time": "2024-11-22T09:30:36.782Z"
   },
   {
    "duration": 10,
    "start_time": "2024-11-22T09:30:37.798Z"
   },
   {
    "duration": 17,
    "start_time": "2024-11-22T09:30:39.585Z"
   },
   {
    "duration": 5,
    "start_time": "2024-11-22T09:30:42.382Z"
   },
   {
    "duration": 9,
    "start_time": "2024-11-22T09:30:43.354Z"
   },
   {
    "duration": 6,
    "start_time": "2024-11-22T09:32:05.420Z"
   },
   {
    "duration": 69,
    "start_time": "2024-11-22T09:32:13.642Z"
   },
   {
    "duration": 72,
    "start_time": "2024-11-22T09:33:50.179Z"
   },
   {
    "duration": 82,
    "start_time": "2024-11-22T09:34:07.437Z"
   },
   {
    "duration": 69,
    "start_time": "2024-11-22T09:34:18.764Z"
   },
   {
    "duration": 3,
    "start_time": "2024-11-22T09:35:15.318Z"
   },
   {
    "duration": 4,
    "start_time": "2024-11-22T09:35:28.174Z"
   },
   {
    "duration": 6,
    "start_time": "2024-11-22T09:36:59.789Z"
   },
   {
    "duration": 5,
    "start_time": "2024-11-22T09:37:29.298Z"
   },
   {
    "duration": 80,
    "start_time": "2024-11-22T09:39:49.544Z"
   },
   {
    "duration": 163,
    "start_time": "2024-11-22T09:40:09.405Z"
   },
   {
    "duration": 6,
    "start_time": "2024-11-22T09:41:41.815Z"
   },
   {
    "duration": 4,
    "start_time": "2024-11-22T09:41:47.682Z"
   },
   {
    "duration": 4,
    "start_time": "2024-11-22T09:43:03.196Z"
   },
   {
    "duration": 70,
    "start_time": "2024-11-22T09:45:19.142Z"
   },
   {
    "duration": 6,
    "start_time": "2024-11-22T09:46:29.114Z"
   },
   {
    "duration": 1299,
    "start_time": "2024-11-22T09:46:38.529Z"
   },
   {
    "duration": 3,
    "start_time": "2024-11-22T09:48:28.182Z"
   },
   {
    "duration": 5,
    "start_time": "2024-11-22T09:49:09.738Z"
   },
   {
    "duration": 4,
    "start_time": "2024-11-22T09:52:01.964Z"
   },
   {
    "duration": 70,
    "start_time": "2024-11-22T09:52:18.984Z"
   },
   {
    "duration": 8,
    "start_time": "2024-11-22T09:52:25.047Z"
   },
   {
    "duration": 7,
    "start_time": "2024-11-22T09:52:48.824Z"
   },
   {
    "duration": 61,
    "start_time": "2024-11-22T09:55:56.776Z"
   },
   {
    "duration": 63,
    "start_time": "2024-11-22T09:56:10.238Z"
   },
   {
    "duration": 100,
    "start_time": "2024-11-22T10:41:40.976Z"
   },
   {
    "duration": 95,
    "start_time": "2024-11-22T10:48:47.789Z"
   },
   {
    "duration": 444,
    "start_time": "2024-11-22T10:58:11.180Z"
   },
   {
    "duration": 53,
    "start_time": "2024-11-22T10:58:11.626Z"
   },
   {
    "duration": 22,
    "start_time": "2024-11-22T10:58:16.711Z"
   },
   {
    "duration": 9,
    "start_time": "2024-11-22T10:58:22.546Z"
   },
   {
    "duration": 18,
    "start_time": "2024-11-22T10:58:30.532Z"
   },
   {
    "duration": 5,
    "start_time": "2024-11-22T10:58:32.275Z"
   },
   {
    "duration": 10,
    "start_time": "2024-11-22T10:58:40.676Z"
   },
   {
    "duration": 3,
    "start_time": "2024-11-22T10:58:47.038Z"
   },
   {
    "duration": 4,
    "start_time": "2024-11-22T10:58:50.812Z"
   },
   {
    "duration": 70,
    "start_time": "2024-11-22T10:58:53.778Z"
   },
   {
    "duration": 5,
    "start_time": "2024-11-22T10:58:55.138Z"
   },
   {
    "duration": 77,
    "start_time": "2024-11-22T10:59:25.522Z"
   },
   {
    "duration": 72,
    "start_time": "2024-11-22T10:59:49.130Z"
   },
   {
    "duration": 5,
    "start_time": "2024-11-22T10:59:51.065Z"
   },
   {
    "duration": 83,
    "start_time": "2024-11-22T10:59:52.160Z"
   },
   {
    "duration": 579,
    "start_time": "2024-11-22T11:00:30.794Z"
   },
   {
    "duration": 43,
    "start_time": "2024-11-22T11:00:32.289Z"
   },
   {
    "duration": 22,
    "start_time": "2024-11-22T11:00:33.535Z"
   },
   {
    "duration": 9,
    "start_time": "2024-11-22T11:00:38.454Z"
   },
   {
    "duration": 18,
    "start_time": "2024-11-22T11:00:42.323Z"
   },
   {
    "duration": 6,
    "start_time": "2024-11-22T11:00:43.499Z"
   },
   {
    "duration": 9,
    "start_time": "2024-11-22T11:00:46.418Z"
   },
   {
    "duration": 3,
    "start_time": "2024-11-22T11:00:48.058Z"
   },
   {
    "duration": 3,
    "start_time": "2024-11-22T11:00:48.878Z"
   },
   {
    "duration": 71,
    "start_time": "2024-11-22T11:00:50.106Z"
   },
   {
    "duration": 6,
    "start_time": "2024-11-22T11:00:58.298Z"
   },
   {
    "duration": 72,
    "start_time": "2024-11-22T11:02:08.442Z"
   },
   {
    "duration": 7,
    "start_time": "2024-11-22T11:02:24.417Z"
   },
   {
    "duration": 7,
    "start_time": "2024-11-22T11:04:03.995Z"
   },
   {
    "duration": 85,
    "start_time": "2024-11-22T11:04:19.735Z"
   },
   {
    "duration": 108,
    "start_time": "2024-11-22T11:04:33.589Z"
   },
   {
    "duration": 76,
    "start_time": "2024-11-22T11:04:53.427Z"
   },
   {
    "duration": 83,
    "start_time": "2024-11-22T11:05:04.364Z"
   },
   {
    "duration": 81,
    "start_time": "2024-11-22T11:05:07.147Z"
   },
   {
    "duration": 4,
    "start_time": "2024-11-22T11:05:13.411Z"
   },
   {
    "duration": 3,
    "start_time": "2024-11-22T11:05:14.442Z"
   },
   {
    "duration": 1362,
    "start_time": "2024-11-22T11:05:18.189Z"
   },
   {
    "duration": 4,
    "start_time": "2024-11-22T11:05:33.586Z"
   },
   {
    "duration": 7,
    "start_time": "2024-11-22T11:05:34.266Z"
   },
   {
    "duration": 60,
    "start_time": "2024-11-22T11:05:44.129Z"
   },
   {
    "duration": 98,
    "start_time": "2024-11-22T11:05:49.627Z"
   },
   {
    "duration": 25,
    "start_time": "2024-11-22T11:50:07.338Z"
   },
   {
    "duration": 25,
    "start_time": "2024-11-22T11:50:24.337Z"
   },
   {
    "duration": 1057,
    "start_time": "2024-11-22T12:04:18.384Z"
   },
   {
    "duration": 140,
    "start_time": "2024-11-22T12:04:28.932Z"
   },
   {
    "duration": 313,
    "start_time": "2024-11-22T12:05:13.071Z"
   },
   {
    "duration": 215,
    "start_time": "2024-11-22T12:06:31.702Z"
   },
   {
    "duration": 135,
    "start_time": "2024-11-22T12:06:50.846Z"
   },
   {
    "duration": 147,
    "start_time": "2024-11-22T12:06:51.676Z"
   },
   {
    "duration": 2,
    "start_time": "2024-11-22T12:08:07.763Z"
   },
   {
    "duration": 13,
    "start_time": "2024-11-22T12:08:47.394Z"
   },
   {
    "duration": 18,
    "start_time": "2024-11-22T12:11:06.774Z"
   },
   {
    "duration": 17,
    "start_time": "2024-11-22T12:14:21.782Z"
   },
   {
    "duration": 17,
    "start_time": "2024-11-22T12:14:42.240Z"
   },
   {
    "duration": 8,
    "start_time": "2024-11-22T12:15:00.984Z"
   },
   {
    "duration": 3,
    "start_time": "2024-11-22T12:15:12.746Z"
   },
   {
    "duration": 20,
    "start_time": "2024-11-22T12:17:42.543Z"
   },
   {
    "duration": 20,
    "start_time": "2024-11-22T12:18:11.318Z"
   },
   {
    "duration": 22,
    "start_time": "2024-11-22T12:21:24.952Z"
   },
   {
    "duration": 71,
    "start_time": "2024-11-22T12:23:20.048Z"
   },
   {
    "duration": 28,
    "start_time": "2024-11-22T12:23:51.896Z"
   },
   {
    "duration": 4,
    "start_time": "2024-11-22T12:26:53.464Z"
   },
   {
    "duration": 21,
    "start_time": "2024-11-22T12:27:57.454Z"
   },
   {
    "duration": 12,
    "start_time": "2024-11-22T12:28:40.360Z"
   },
   {
    "duration": 13,
    "start_time": "2024-11-22T12:30:13.951Z"
   },
   {
    "duration": 29,
    "start_time": "2024-11-22T12:31:58.607Z"
   },
   {
    "duration": 64,
    "start_time": "2024-11-22T12:32:38.248Z"
   },
   {
    "duration": 110,
    "start_time": "2024-11-22T12:32:39.977Z"
   },
   {
    "duration": 4,
    "start_time": "2024-11-22T12:32:42.129Z"
   },
   {
    "duration": 24,
    "start_time": "2024-11-22T12:32:43.779Z"
   },
   {
    "duration": 131,
    "start_time": "2024-11-22T12:32:49.040Z"
   },
   {
    "duration": 147,
    "start_time": "2024-11-22T12:32:49.915Z"
   },
   {
    "duration": 18,
    "start_time": "2024-11-22T12:32:54.318Z"
   },
   {
    "duration": 17,
    "start_time": "2024-11-22T12:32:55.166Z"
   },
   {
    "duration": 16,
    "start_time": "2024-11-22T12:33:30.275Z"
   },
   {
    "duration": 21,
    "start_time": "2024-11-22T12:33:30.976Z"
   },
   {
    "duration": 21,
    "start_time": "2024-11-22T12:33:32.319Z"
   },
   {
    "duration": 3,
    "start_time": "2024-11-22T12:35:17.192Z"
   },
   {
    "duration": 4,
    "start_time": "2024-11-22T12:35:34.813Z"
   },
   {
    "duration": 4,
    "start_time": "2024-11-22T12:35:55.208Z"
   },
   {
    "duration": 35,
    "start_time": "2024-11-22T12:37:15.782Z"
   },
   {
    "duration": 26,
    "start_time": "2024-11-22T12:37:32.743Z"
   },
   {
    "duration": 11,
    "start_time": "2024-11-22T12:37:53.312Z"
   },
   {
    "duration": 72,
    "start_time": "2024-11-22T12:38:18.557Z"
   },
   {
    "duration": 40,
    "start_time": "2024-11-22T12:42:12.910Z"
   },
   {
    "duration": 1492,
    "start_time": "2024-11-22T12:45:29.117Z"
   },
   {
    "duration": 71,
    "start_time": "2024-11-22T12:45:40.687Z"
   },
   {
    "duration": 24,
    "start_time": "2024-11-22T12:45:50.127Z"
   },
   {
    "duration": 52,
    "start_time": "2024-11-22T12:46:49.597Z"
   },
   {
    "duration": 19,
    "start_time": "2024-11-22T12:50:23.411Z"
   },
   {
    "duration": 6464,
    "start_time": "2024-11-22T12:51:01.927Z"
   },
   {
    "duration": 11,
    "start_time": "2024-11-22T12:54:56.637Z"
   },
   {
    "duration": 1156,
    "start_time": "2024-11-22T17:51:12.665Z"
   },
   {
    "duration": 113,
    "start_time": "2024-11-22T17:51:15.414Z"
   },
   {
    "duration": 32,
    "start_time": "2024-11-22T17:51:19.411Z"
   },
   {
    "duration": 11,
    "start_time": "2024-11-22T17:51:28.030Z"
   },
   {
    "duration": 23,
    "start_time": "2024-11-22T17:51:30.788Z"
   },
   {
    "duration": 6,
    "start_time": "2024-11-22T17:51:33.737Z"
   },
   {
    "duration": 17,
    "start_time": "2024-11-22T17:51:36.316Z"
   },
   {
    "duration": 3,
    "start_time": "2024-11-22T17:51:40.832Z"
   },
   {
    "duration": 4,
    "start_time": "2024-11-22T17:51:41.571Z"
   },
   {
    "duration": 123,
    "start_time": "2024-11-22T17:51:44.906Z"
   },
   {
    "duration": 7,
    "start_time": "2024-11-22T17:51:46.259Z"
   },
   {
    "duration": 122,
    "start_time": "2024-11-22T17:51:48.016Z"
   },
   {
    "duration": 133,
    "start_time": "2024-11-22T17:51:48.625Z"
   },
   {
    "duration": 4,
    "start_time": "2024-11-22T17:51:52.688Z"
   },
   {
    "duration": 4,
    "start_time": "2024-11-22T17:51:53.508Z"
   },
   {
    "duration": 1318,
    "start_time": "2024-11-22T17:51:55.149Z"
   },
   {
    "duration": 6,
    "start_time": "2024-11-22T17:52:02.546Z"
   },
   {
    "duration": 10,
    "start_time": "2024-11-22T17:52:03.038Z"
   },
   {
    "duration": 85,
    "start_time": "2024-11-22T17:52:31.502Z"
   },
   {
    "duration": 125,
    "start_time": "2024-11-22T17:52:34.476Z"
   },
   {
    "duration": 85,
    "start_time": "2024-11-22T17:53:32.027Z"
   },
   {
    "duration": 126,
    "start_time": "2024-11-22T17:53:33.763Z"
   },
   {
    "duration": 4,
    "start_time": "2024-11-22T17:53:38.056Z"
   },
   {
    "duration": 27,
    "start_time": "2024-11-22T17:53:38.880Z"
   },
   {
    "duration": 1095,
    "start_time": "2024-11-22T17:53:43.622Z"
   },
   {
    "duration": 171,
    "start_time": "2024-11-22T17:53:53.727Z"
   },
   {
    "duration": 21,
    "start_time": "2024-11-22T17:54:09.296Z"
   },
   {
    "duration": 19,
    "start_time": "2024-11-22T17:54:10.216Z"
   },
   {
    "duration": 26,
    "start_time": "2024-11-22T17:54:11.036Z"
   },
   {
    "duration": 16,
    "start_time": "2024-11-22T17:54:59.977Z"
   },
   {
    "duration": 29,
    "start_time": "2024-11-22T17:55:02.131Z"
   },
   {
    "duration": 47,
    "start_time": "2024-11-22T17:55:07.049Z"
   },
   {
    "duration": 12,
    "start_time": "2024-11-22T17:55:11.401Z"
   },
   {
    "duration": 56,
    "start_time": "2024-11-22T17:55:12.776Z"
   },
   {
    "duration": 9,
    "start_time": "2024-11-22T17:55:17.410Z"
   },
   {
    "duration": 6539,
    "start_time": "2024-11-22T17:55:19.243Z"
   },
   {
    "duration": 14,
    "start_time": "2024-11-22T17:56:08.021Z"
   },
   {
    "duration": 35,
    "start_time": "2024-11-22T17:57:13.048Z"
   },
   {
    "duration": 79,
    "start_time": "2024-11-22T17:59:15.296Z"
   },
   {
    "duration": 2,
    "start_time": "2024-11-22T18:07:58.529Z"
   },
   {
    "duration": 10,
    "start_time": "2024-11-22T18:08:28.536Z"
   },
   {
    "duration": 63,
    "start_time": "2024-11-22T18:11:24.145Z"
   },
   {
    "duration": 49,
    "start_time": "2024-11-22T18:11:29.056Z"
   },
   {
    "duration": 56,
    "start_time": "2024-11-22T18:11:37.472Z"
   },
   {
    "duration": 50,
    "start_time": "2024-11-22T18:15:24.170Z"
   },
   {
    "duration": 14,
    "start_time": "2024-11-22T18:16:32.273Z"
   },
   {
    "duration": 9,
    "start_time": "2024-11-22T18:17:15.380Z"
   },
   {
    "duration": 14,
    "start_time": "2024-11-22T18:17:22.872Z"
   },
   {
    "duration": 10,
    "start_time": "2024-11-22T18:18:41.821Z"
   },
   {
    "duration": 150,
    "start_time": "2024-11-22T18:26:52.916Z"
   },
   {
    "duration": 311,
    "start_time": "2024-11-22T18:28:59.424Z"
   },
   {
    "duration": 7,
    "start_time": "2024-11-22T18:32:37.300Z"
   },
   {
    "duration": 9,
    "start_time": "2024-11-22T18:33:07.740Z"
   },
   {
    "duration": 16,
    "start_time": "2024-11-22T18:37:55.025Z"
   },
   {
    "duration": 284,
    "start_time": "2024-11-22T18:42:42.403Z"
   },
   {
    "duration": 43,
    "start_time": "2024-11-22T18:45:50.913Z"
   },
   {
    "duration": 309,
    "start_time": "2024-11-22T18:46:58.461Z"
   },
   {
    "duration": 30,
    "start_time": "2024-11-22T18:59:22.311Z"
   },
   {
    "duration": 15,
    "start_time": "2024-11-22T18:59:40.220Z"
   },
   {
    "duration": 20,
    "start_time": "2024-11-22T19:00:05.099Z"
   },
   {
    "duration": 16,
    "start_time": "2024-11-22T19:03:12.902Z"
   },
   {
    "duration": 109,
    "start_time": "2024-11-22T19:04:09.121Z"
   },
   {
    "duration": 26,
    "start_time": "2024-11-22T19:04:13.550Z"
   },
   {
    "duration": 29,
    "start_time": "2024-11-22T19:06:36.681Z"
   },
   {
    "duration": 12,
    "start_time": "2024-11-22T19:06:48.967Z"
   },
   {
    "duration": 89,
    "start_time": "2024-11-22T19:08:15.815Z"
   },
   {
    "duration": 49,
    "start_time": "2024-11-23T12:07:38.231Z"
   },
   {
    "duration": 961,
    "start_time": "2024-11-23T12:08:15.661Z"
   },
   {
    "duration": 96,
    "start_time": "2024-11-23T12:08:17.647Z"
   },
   {
    "duration": 32,
    "start_time": "2024-11-23T12:08:21.455Z"
   },
   {
    "duration": 11,
    "start_time": "2024-11-23T12:08:22.709Z"
   },
   {
    "duration": 25,
    "start_time": "2024-11-23T12:08:24.778Z"
   },
   {
    "duration": 6,
    "start_time": "2024-11-23T12:08:26.582Z"
   },
   {
    "duration": 12,
    "start_time": "2024-11-23T12:08:27.711Z"
   },
   {
    "duration": 5,
    "start_time": "2024-11-23T12:08:31.363Z"
   },
   {
    "duration": 4,
    "start_time": "2024-11-23T12:08:32.372Z"
   },
   {
    "duration": 106,
    "start_time": "2024-11-23T12:08:33.124Z"
   },
   {
    "duration": 6,
    "start_time": "2024-11-23T12:08:33.569Z"
   },
   {
    "duration": 146,
    "start_time": "2024-11-23T12:08:34.085Z"
   },
   {
    "duration": 114,
    "start_time": "2024-11-23T12:08:34.290Z"
   },
   {
    "duration": 4,
    "start_time": "2024-11-23T12:08:34.764Z"
   },
   {
    "duration": 5,
    "start_time": "2024-11-23T12:08:35.077Z"
   },
   {
    "duration": 1449,
    "start_time": "2024-11-23T12:08:37.719Z"
   },
   {
    "duration": 8,
    "start_time": "2024-11-23T12:08:41.419Z"
   },
   {
    "duration": 10,
    "start_time": "2024-11-23T12:08:42.129Z"
   },
   {
    "duration": 97,
    "start_time": "2024-11-23T12:08:44.154Z"
   },
   {
    "duration": 141,
    "start_time": "2024-11-23T12:08:45.283Z"
   },
   {
    "duration": 4,
    "start_time": "2024-11-23T12:08:47.521Z"
   },
   {
    "duration": 28,
    "start_time": "2024-11-23T12:08:48.334Z"
   },
   {
    "duration": 1179,
    "start_time": "2024-11-23T12:08:49.382Z"
   },
   {
    "duration": 179,
    "start_time": "2024-11-23T12:08:50.563Z"
   },
   {
    "duration": 26,
    "start_time": "2024-11-23T12:08:53.699Z"
   },
   {
    "duration": 22,
    "start_time": "2024-11-23T12:08:54.459Z"
   },
   {
    "duration": 31,
    "start_time": "2024-11-23T12:08:55.192Z"
   },
   {
    "duration": 15,
    "start_time": "2024-11-23T12:08:56.835Z"
   },
   {
    "duration": 29,
    "start_time": "2024-11-23T12:09:10.172Z"
   },
   {
    "duration": 50,
    "start_time": "2024-11-23T12:09:11.379Z"
   },
   {
    "duration": 13,
    "start_time": "2024-11-23T12:09:12.376Z"
   },
   {
    "duration": 71,
    "start_time": "2024-11-23T12:09:13.118Z"
   },
   {
    "duration": 8,
    "start_time": "2024-11-23T12:09:14.156Z"
   },
   {
    "duration": 7043,
    "start_time": "2024-11-23T12:09:14.628Z"
   },
   {
    "duration": 11,
    "start_time": "2024-11-23T12:09:21.674Z"
   },
   {
    "duration": 80,
    "start_time": "2024-11-23T12:09:21.687Z"
   },
   {
    "duration": 8,
    "start_time": "2024-11-23T12:09:21.769Z"
   },
   {
    "duration": 9,
    "start_time": "2024-11-23T12:09:21.779Z"
   },
   {
    "duration": 73,
    "start_time": "2024-11-23T12:09:21.791Z"
   },
   {
    "duration": 13,
    "start_time": "2024-11-23T12:09:21.866Z"
   },
   {
    "duration": 15,
    "start_time": "2024-11-23T12:09:21.881Z"
   },
   {
    "duration": 11,
    "start_time": "2024-11-23T12:09:21.920Z"
   },
   {
    "duration": 316,
    "start_time": "2024-11-23T12:09:22.434Z"
   },
   {
    "duration": 18,
    "start_time": "2024-11-23T12:09:24.483Z"
   },
   {
    "duration": 323,
    "start_time": "2024-11-23T12:09:25.159Z"
   },
   {
    "duration": 52,
    "start_time": "2024-11-23T12:09:26.202Z"
   },
   {
    "duration": 12,
    "start_time": "2024-11-23T12:09:26.739Z"
   },
   {
    "duration": 30,
    "start_time": "2024-11-23T12:09:27.207Z"
   },
   {
    "duration": 114,
    "start_time": "2024-11-23T12:09:27.751Z"
   },
   {
    "duration": 62,
    "start_time": "2024-11-23T12:09:31.134Z"
   },
   {
    "duration": 70,
    "start_time": "2024-11-23T12:11:15.998Z"
   },
   {
    "duration": 61,
    "start_time": "2024-11-23T12:12:34.570Z"
   },
   {
    "duration": 83,
    "start_time": "2024-11-23T12:12:53.154Z"
   },
   {
    "duration": 35,
    "start_time": "2024-11-23T12:13:26.489Z"
   },
   {
    "duration": 33,
    "start_time": "2024-11-23T12:14:09.332Z"
   },
   {
    "duration": 368,
    "start_time": "2024-11-23T12:16:20.031Z"
   },
   {
    "duration": 346,
    "start_time": "2024-11-23T12:16:46.093Z"
   },
   {
    "duration": 102,
    "start_time": "2024-11-23T12:35:24.766Z"
   },
   {
    "duration": 73,
    "start_time": "2024-11-23T12:36:07.940Z"
   },
   {
    "duration": 430,
    "start_time": "2024-11-23T12:37:08.924Z"
   },
   {
    "duration": 53,
    "start_time": "2024-11-23T13:05:10.734Z"
   },
   {
    "duration": 30,
    "start_time": "2024-11-23T13:05:42.920Z"
   },
   {
    "duration": 160,
    "start_time": "2024-11-23T13:06:09.339Z"
   },
   {
    "duration": 9,
    "start_time": "2024-11-23T13:06:35.668Z"
   },
   {
    "duration": 10,
    "start_time": "2024-11-23T13:07:15.833Z"
   },
   {
    "duration": 6,
    "start_time": "2024-11-23T13:07:58.018Z"
   },
   {
    "duration": 8,
    "start_time": "2024-11-23T13:08:15.421Z"
   },
   {
    "duration": 3,
    "start_time": "2024-11-23T13:08:33.424Z"
   },
   {
    "duration": 387,
    "start_time": "2024-11-23T13:14:44.113Z"
   },
   {
    "duration": 46,
    "start_time": "2024-11-23T13:15:35.324Z"
   },
   {
    "duration": 47,
    "start_time": "2024-11-23T13:15:52.099Z"
   },
   {
    "duration": 8,
    "start_time": "2024-11-23T13:22:03.747Z"
   },
   {
    "duration": 20,
    "start_time": "2024-11-23T13:22:16.158Z"
   },
   {
    "duration": 52,
    "start_time": "2024-11-23T13:22:29.365Z"
   },
   {
    "duration": 7,
    "start_time": "2024-11-23T13:23:04.813Z"
   },
   {
    "duration": 10,
    "start_time": "2024-11-23T13:23:16.742Z"
   },
   {
    "duration": 24,
    "start_time": "2024-11-23T13:23:27.302Z"
   },
   {
    "duration": 8,
    "start_time": "2024-11-23T13:23:52.864Z"
   },
   {
    "duration": 10,
    "start_time": "2024-11-23T13:24:42.611Z"
   },
   {
    "duration": 583,
    "start_time": "2024-11-23T14:44:38.430Z"
   },
   {
    "duration": 85,
    "start_time": "2024-11-23T14:44:41.982Z"
   },
   {
    "duration": 33,
    "start_time": "2024-11-23T14:44:46.282Z"
   },
   {
    "duration": 11,
    "start_time": "2024-11-23T14:44:48.476Z"
   },
   {
    "duration": 34,
    "start_time": "2024-11-23T14:44:50.964Z"
   },
   {
    "duration": 6,
    "start_time": "2024-11-23T14:44:53.876Z"
   },
   {
    "duration": 12,
    "start_time": "2024-11-23T14:44:54.733Z"
   },
   {
    "duration": 4,
    "start_time": "2024-11-23T14:45:05.179Z"
   },
   {
    "duration": 4,
    "start_time": "2024-11-23T14:45:06.202Z"
   },
   {
    "duration": 90,
    "start_time": "2024-11-23T14:45:07.391Z"
   },
   {
    "duration": 7,
    "start_time": "2024-11-23T14:45:08.359Z"
   },
   {
    "duration": 101,
    "start_time": "2024-11-23T14:45:11.750Z"
   },
   {
    "duration": 101,
    "start_time": "2024-11-23T14:45:12.477Z"
   },
   {
    "duration": 4,
    "start_time": "2024-11-23T14:45:14.799Z"
   },
   {
    "duration": 4,
    "start_time": "2024-11-23T14:45:21.912Z"
   },
   {
    "duration": 1481,
    "start_time": "2024-11-23T14:45:25.834Z"
   },
   {
    "duration": 6,
    "start_time": "2024-11-23T14:45:30.711Z"
   },
   {
    "duration": 11,
    "start_time": "2024-11-23T14:45:33.552Z"
   },
   {
    "duration": 84,
    "start_time": "2024-11-23T14:45:38.322Z"
   },
   {
    "duration": 145,
    "start_time": "2024-11-23T14:45:43.235Z"
   },
   {
    "duration": 4,
    "start_time": "2024-11-23T14:46:17.024Z"
   },
   {
    "duration": 28,
    "start_time": "2024-11-23T14:46:20.252Z"
   },
   {
    "duration": 182,
    "start_time": "2024-11-23T14:46:21.890Z"
   },
   {
    "duration": 188,
    "start_time": "2024-11-23T14:46:30.572Z"
   },
   {
    "duration": 20,
    "start_time": "2024-11-23T14:46:38.839Z"
   },
   {
    "duration": 19,
    "start_time": "2024-11-23T14:46:41.648Z"
   },
   {
    "duration": 21,
    "start_time": "2024-11-23T14:46:46.785Z"
   },
   {
    "duration": 14,
    "start_time": "2024-11-23T14:46:50.865Z"
   },
   {
    "duration": 34,
    "start_time": "2024-11-23T14:46:54.612Z"
   },
   {
    "duration": 43,
    "start_time": "2024-11-23T14:46:59.971Z"
   },
   {
    "duration": 13,
    "start_time": "2024-11-23T14:47:02.205Z"
   },
   {
    "duration": 69,
    "start_time": "2024-11-23T14:47:05.659Z"
   },
   {
    "duration": 8,
    "start_time": "2024-11-23T14:47:10.574Z"
   },
   {
    "duration": 7393,
    "start_time": "2024-11-23T14:47:15.982Z"
   },
   {
    "duration": 11,
    "start_time": "2024-11-23T14:47:32.554Z"
   },
   {
    "duration": 65,
    "start_time": "2024-11-23T14:47:33.362Z"
   },
   {
    "duration": 7,
    "start_time": "2024-11-23T14:47:34.467Z"
   },
   {
    "duration": 7,
    "start_time": "2024-11-23T14:47:36.647Z"
   },
   {
    "duration": 51,
    "start_time": "2024-11-23T14:47:39.661Z"
   },
   {
    "duration": 13,
    "start_time": "2024-11-23T14:47:40.948Z"
   },
   {
    "duration": 12,
    "start_time": "2024-11-23T14:47:43.437Z"
   },
   {
    "duration": 14,
    "start_time": "2024-11-23T14:47:45.205Z"
   },
   {
    "duration": 360,
    "start_time": "2024-11-23T14:47:49.699Z"
   },
   {
    "duration": 17,
    "start_time": "2024-11-23T14:47:56.447Z"
   },
   {
    "duration": 467,
    "start_time": "2024-11-23T14:47:57.280Z"
   },
   {
    "duration": 43,
    "start_time": "2024-11-23T14:48:01.664Z"
   },
   {
    "duration": 15,
    "start_time": "2024-11-23T14:48:02.373Z"
   },
   {
    "duration": 35,
    "start_time": "2024-11-23T14:48:03.210Z"
   },
   {
    "duration": 115,
    "start_time": "2024-11-23T14:48:06.572Z"
   },
   {
    "duration": 1024,
    "start_time": "2024-11-23T19:03:43.320Z"
   },
   {
    "duration": 329,
    "start_time": "2024-11-23T19:03:47.425Z"
   },
   {
    "duration": 32,
    "start_time": "2024-11-23T19:03:50.803Z"
   },
   {
    "duration": 9,
    "start_time": "2024-11-23T19:03:52.327Z"
   },
   {
    "duration": 24,
    "start_time": "2024-11-23T19:03:54.280Z"
   },
   {
    "duration": 5,
    "start_time": "2024-11-23T19:03:55.546Z"
   },
   {
    "duration": 9,
    "start_time": "2024-11-23T19:03:56.174Z"
   },
   {
    "duration": 3,
    "start_time": "2024-11-23T19:03:57.898Z"
   },
   {
    "duration": 4,
    "start_time": "2024-11-23T19:03:58.626Z"
   },
   {
    "duration": 100,
    "start_time": "2024-11-23T19:03:59.140Z"
   },
   {
    "duration": 6,
    "start_time": "2024-11-23T19:03:59.805Z"
   },
   {
    "duration": 113,
    "start_time": "2024-11-23T19:04:01.446Z"
   },
   {
    "duration": 103,
    "start_time": "2024-11-23T19:04:01.996Z"
   },
   {
    "duration": 4,
    "start_time": "2024-11-23T19:04:04.211Z"
   },
   {
    "duration": 4,
    "start_time": "2024-11-23T19:04:04.862Z"
   },
   {
    "duration": 1258,
    "start_time": "2024-11-23T19:04:06.171Z"
   },
   {
    "duration": 5,
    "start_time": "2024-11-23T19:04:07.898Z"
   },
   {
    "duration": 8,
    "start_time": "2024-11-23T19:04:08.721Z"
   },
   {
    "duration": 80,
    "start_time": "2024-11-23T19:04:10.498Z"
   },
   {
    "duration": 120,
    "start_time": "2024-11-23T19:04:11.910Z"
   },
   {
    "duration": 4,
    "start_time": "2024-11-23T19:04:15.514Z"
   },
   {
    "duration": 24,
    "start_time": "2024-11-23T19:04:16.087Z"
   },
   {
    "duration": 1111,
    "start_time": "2024-11-23T19:04:17.421Z"
   },
   {
    "duration": 166,
    "start_time": "2024-11-23T19:04:18.534Z"
   },
   {
    "duration": 20,
    "start_time": "2024-11-23T19:04:21.521Z"
   },
   {
    "duration": 19,
    "start_time": "2024-11-23T19:04:22.070Z"
   },
   {
    "duration": 30,
    "start_time": "2024-11-23T19:04:22.642Z"
   },
   {
    "duration": 14,
    "start_time": "2024-11-23T19:04:23.664Z"
   },
   {
    "duration": 23,
    "start_time": "2024-11-23T19:04:24.792Z"
   },
   {
    "duration": 48,
    "start_time": "2024-11-23T19:04:26.022Z"
   },
   {
    "duration": 12,
    "start_time": "2024-11-23T19:04:27.147Z"
   },
   {
    "duration": 59,
    "start_time": "2024-11-23T19:04:28.479Z"
   },
   {
    "duration": 8,
    "start_time": "2024-11-23T19:04:29.525Z"
   },
   {
    "duration": 6318,
    "start_time": "2024-11-23T19:04:30.122Z"
   },
   {
    "duration": 9,
    "start_time": "2024-11-23T19:04:36.442Z"
   },
   {
    "duration": 69,
    "start_time": "2024-11-23T19:04:36.453Z"
   },
   {
    "duration": 8,
    "start_time": "2024-11-23T19:04:36.524Z"
   },
   {
    "duration": 11,
    "start_time": "2024-11-23T19:04:36.534Z"
   },
   {
    "duration": 68,
    "start_time": "2024-11-23T19:04:36.546Z"
   },
   {
    "duration": 10,
    "start_time": "2024-11-23T19:04:36.615Z"
   },
   {
    "duration": 13,
    "start_time": "2024-11-23T19:04:36.627Z"
   },
   {
    "duration": 34,
    "start_time": "2024-11-23T19:04:36.641Z"
   },
   {
    "duration": 301,
    "start_time": "2024-11-23T19:04:38.040Z"
   },
   {
    "duration": 16,
    "start_time": "2024-11-23T19:04:40.279Z"
   },
   {
    "duration": 265,
    "start_time": "2024-11-23T19:04:40.663Z"
   },
   {
    "duration": 40,
    "start_time": "2024-11-23T19:04:41.481Z"
   },
   {
    "duration": 10,
    "start_time": "2024-11-23T19:04:41.892Z"
   },
   {
    "duration": 28,
    "start_time": "2024-11-23T19:04:42.305Z"
   },
   {
    "duration": 98,
    "start_time": "2024-11-23T19:04:42.739Z"
   },
   {
    "duration": 60,
    "start_time": "2024-11-23T19:04:45.788Z"
   },
   {
    "duration": 32,
    "start_time": "2024-11-23T19:04:46.398Z"
   },
   {
    "duration": 349,
    "start_time": "2024-11-23T19:04:46.952Z"
   },
   {
    "duration": 29,
    "start_time": "2024-11-23T19:04:48.489Z"
   },
   {
    "duration": 328,
    "start_time": "2024-11-23T19:04:48.960Z"
   },
   {
    "duration": 107,
    "start_time": "2024-11-23T19:04:51.320Z"
   },
   {
    "duration": 67,
    "start_time": "2024-11-23T19:04:51.629Z"
   },
   {
    "duration": 399,
    "start_time": "2024-11-23T19:04:52.135Z"
   },
   {
    "duration": 52,
    "start_time": "2024-11-23T19:04:55.139Z"
   },
   {
    "duration": 9,
    "start_time": "2024-11-23T19:04:55.961Z"
   },
   {
    "duration": 9,
    "start_time": "2024-11-23T19:04:56.778Z"
   },
   {
    "duration": 6,
    "start_time": "2024-11-23T19:04:57.764Z"
   },
   {
    "duration": 5,
    "start_time": "2024-11-23T19:05:01.710Z"
   },
   {
    "duration": 3,
    "start_time": "2024-11-23T19:05:02.684Z"
   },
   {
    "duration": 63,
    "start_time": "2024-11-23T19:05:05.243Z"
   },
   {
    "duration": 6,
    "start_time": "2024-11-23T19:05:06.704Z"
   },
   {
    "duration": 15,
    "start_time": "2024-11-23T19:05:07.183Z"
   },
   {
    "duration": 8,
    "start_time": "2024-11-23T19:05:07.718Z"
   },
   {
    "duration": 19,
    "start_time": "2024-11-23T19:05:08.261Z"
   },
   {
    "duration": 9,
    "start_time": "2024-11-23T19:05:08.821Z"
   },
   {
    "duration": 10,
    "start_time": "2024-11-23T19:05:09.381Z"
   },
   {
    "duration": 416,
    "start_time": "2024-11-23T19:05:14.050Z"
   },
   {
    "duration": 447,
    "start_time": "2024-11-23T19:10:09.271Z"
   },
   {
    "duration": 16,
    "start_time": "2024-11-23T19:20:20.170Z"
   },
   {
    "duration": 4,
    "start_time": "2024-11-23T19:22:23.146Z"
   },
   {
    "duration": 14,
    "start_time": "2024-11-23T19:26:03.758Z"
   },
   {
    "duration": 20,
    "start_time": "2024-11-23T19:26:11.730Z"
   },
   {
    "duration": 31,
    "start_time": "2024-11-23T19:26:57.476Z"
   },
   {
    "duration": 19,
    "start_time": "2024-11-23T19:28:43.762Z"
   },
   {
    "duration": 15,
    "start_time": "2024-11-23T19:32:24.569Z"
   },
   {
    "duration": 7,
    "start_time": "2024-11-23T19:32:49.356Z"
   },
   {
    "duration": 15,
    "start_time": "2024-11-23T19:33:09.728Z"
   },
   {
    "duration": 14,
    "start_time": "2024-11-23T19:35:22.614Z"
   },
   {
    "duration": 11,
    "start_time": "2024-11-23T19:35:50.470Z"
   },
   {
    "duration": 9,
    "start_time": "2024-11-23T19:36:58.152Z"
   },
   {
    "duration": 29,
    "start_time": "2024-11-23T19:37:11.055Z"
   },
   {
    "duration": 19,
    "start_time": "2024-11-23T19:37:12.493Z"
   },
   {
    "duration": 7,
    "start_time": "2024-11-23T19:37:13.325Z"
   },
   {
    "duration": 22,
    "start_time": "2024-11-23T19:39:01.648Z"
   },
   {
    "duration": 30,
    "start_time": "2024-11-23T19:39:02.878Z"
   },
   {
    "duration": 19,
    "start_time": "2024-11-23T19:39:08.821Z"
   },
   {
    "duration": 8,
    "start_time": "2024-11-23T19:39:09.842Z"
   },
   {
    "duration": 8,
    "start_time": "2024-11-23T19:39:11.090Z"
   },
   {
    "duration": 28,
    "start_time": "2024-11-23T19:39:18.954Z"
   },
   {
    "duration": 19,
    "start_time": "2024-11-23T19:39:20.796Z"
   },
   {
    "duration": 7,
    "start_time": "2024-11-23T19:39:21.775Z"
   },
   {
    "duration": 8,
    "start_time": "2024-11-23T19:39:23.278Z"
   },
   {
    "duration": 7,
    "start_time": "2024-11-23T19:40:07.705Z"
   },
   {
    "duration": 6,
    "start_time": "2024-11-23T19:41:20.032Z"
   },
   {
    "duration": 8,
    "start_time": "2024-11-23T19:41:37.763Z"
   },
   {
    "duration": 15,
    "start_time": "2024-11-23T19:44:14.844Z"
   },
   {
    "duration": 16,
    "start_time": "2024-11-23T19:45:33.129Z"
   },
   {
    "duration": 12,
    "start_time": "2024-11-23T19:45:45.875Z"
   },
   {
    "duration": 447,
    "start_time": "2024-11-23T19:47:28.841Z"
   },
   {
    "duration": 68,
    "start_time": "2024-11-23T19:48:10.305Z"
   },
   {
    "duration": 30,
    "start_time": "2024-11-23T19:49:18.097Z"
   },
   {
    "duration": 963,
    "start_time": "2024-11-24T04:44:50.024Z"
   },
   {
    "duration": 109,
    "start_time": "2024-11-24T04:44:55.561Z"
   },
   {
    "duration": 25,
    "start_time": "2024-11-24T04:44:59.886Z"
   },
   {
    "duration": 10,
    "start_time": "2024-11-24T04:45:03.051Z"
   },
   {
    "duration": 19,
    "start_time": "2024-11-24T04:45:04.984Z"
   },
   {
    "duration": 7,
    "start_time": "2024-11-24T04:45:08.160Z"
   },
   {
    "duration": 12,
    "start_time": "2024-11-24T04:45:08.864Z"
   },
   {
    "duration": 4,
    "start_time": "2024-11-24T04:45:09.682Z"
   },
   {
    "duration": 4,
    "start_time": "2024-11-24T04:45:10.020Z"
   },
   {
    "duration": 127,
    "start_time": "2024-11-24T04:45:10.753Z"
   },
   {
    "duration": 7,
    "start_time": "2024-11-24T04:45:11.258Z"
   },
   {
    "duration": 116,
    "start_time": "2024-11-24T04:45:11.986Z"
   },
   {
    "duration": 101,
    "start_time": "2024-11-24T04:45:12.344Z"
   },
   {
    "duration": 4,
    "start_time": "2024-11-24T04:45:12.868Z"
   },
   {
    "duration": 4,
    "start_time": "2024-11-24T04:45:13.310Z"
   },
   {
    "duration": 1361,
    "start_time": "2024-11-24T04:45:14.194Z"
   },
   {
    "duration": 5,
    "start_time": "2024-11-24T04:45:15.557Z"
   },
   {
    "duration": 8,
    "start_time": "2024-11-24T04:45:15.669Z"
   },
   {
    "duration": 81,
    "start_time": "2024-11-24T04:45:18.510Z"
   },
   {
    "duration": 143,
    "start_time": "2024-11-24T04:45:34.904Z"
   },
   {
    "duration": 81,
    "start_time": "2024-11-24T04:45:51.992Z"
   },
   {
    "duration": 4,
    "start_time": "2024-11-24T04:46:07.231Z"
   },
   {
    "duration": 26,
    "start_time": "2024-11-24T04:46:08.261Z"
   },
   {
    "duration": 1017,
    "start_time": "2024-11-24T04:46:32.623Z"
   },
   {
    "duration": 202,
    "start_time": "2024-11-24T04:46:33.643Z"
   },
   {
    "duration": 36,
    "start_time": "2024-11-24T04:46:34.058Z"
   },
   {
    "duration": 24,
    "start_time": "2024-11-24T04:46:34.677Z"
   },
   {
    "duration": 24,
    "start_time": "2024-11-24T04:46:35.133Z"
   },
   {
    "duration": 14,
    "start_time": "2024-11-24T04:46:36.417Z"
   },
   {
    "duration": 25,
    "start_time": "2024-11-24T04:46:37.481Z"
   },
   {
    "duration": 46,
    "start_time": "2024-11-24T04:46:38.264Z"
   },
   {
    "duration": 14,
    "start_time": "2024-11-24T04:46:44.610Z"
   },
   {
    "duration": 56,
    "start_time": "2024-11-24T04:46:46.570Z"
   },
   {
    "duration": 7,
    "start_time": "2024-11-24T04:46:52.188Z"
   },
   {
    "duration": 6195,
    "start_time": "2024-11-24T04:46:52.716Z"
   },
   {
    "duration": 10,
    "start_time": "2024-11-24T04:47:01.037Z"
   },
   {
    "duration": 30,
    "start_time": "2024-11-24T04:47:01.813Z"
   },
   {
    "duration": 8,
    "start_time": "2024-11-24T04:47:02.731Z"
   },
   {
    "duration": 8,
    "start_time": "2024-11-24T04:47:03.590Z"
   },
   {
    "duration": 38,
    "start_time": "2024-11-24T04:47:08.055Z"
   },
   {
    "duration": 9,
    "start_time": "2024-11-24T04:47:08.775Z"
   },
   {
    "duration": 12,
    "start_time": "2024-11-24T04:47:09.286Z"
   },
   {
    "duration": 9,
    "start_time": "2024-11-24T04:47:10.844Z"
   },
   {
    "duration": 267,
    "start_time": "2024-11-24T04:47:14.745Z"
   },
   {
    "duration": 18,
    "start_time": "2024-11-24T04:47:17.380Z"
   },
   {
    "duration": 237,
    "start_time": "2024-11-24T04:47:17.934Z"
   },
   {
    "duration": 37,
    "start_time": "2024-11-24T04:47:37.650Z"
   },
   {
    "duration": 10,
    "start_time": "2024-11-24T04:47:38.570Z"
   },
   {
    "duration": 21,
    "start_time": "2024-11-24T04:47:40.734Z"
   },
   {
    "duration": 86,
    "start_time": "2024-11-24T04:48:48.729Z"
   },
   {
    "duration": 81,
    "start_time": "2024-11-24T04:49:14.523Z"
   },
   {
    "duration": 38,
    "start_time": "2024-11-24T04:50:01.629Z"
   },
   {
    "duration": 32,
    "start_time": "2024-11-24T04:50:01.841Z"
   },
   {
    "duration": 318,
    "start_time": "2024-11-24T04:50:02.057Z"
   },
   {
    "duration": 30,
    "start_time": "2024-11-24T04:50:02.753Z"
   },
   {
    "duration": 299,
    "start_time": "2024-11-24T04:50:02.960Z"
   },
   {
    "duration": 75,
    "start_time": "2024-11-24T04:50:04.100Z"
   },
   {
    "duration": 63,
    "start_time": "2024-11-24T04:50:04.300Z"
   },
   {
    "duration": 366,
    "start_time": "2024-11-24T04:50:04.548Z"
   },
   {
    "duration": 40,
    "start_time": "2024-11-24T04:50:06.028Z"
   },
   {
    "duration": 7,
    "start_time": "2024-11-24T04:50:06.544Z"
   },
   {
    "duration": 8,
    "start_time": "2024-11-24T04:50:06.792Z"
   },
   {
    "duration": 6,
    "start_time": "2024-11-24T04:50:07.091Z"
   },
   {
    "duration": 5,
    "start_time": "2024-11-24T04:50:07.466Z"
   },
   {
    "duration": 4,
    "start_time": "2024-11-24T04:50:07.713Z"
   },
   {
    "duration": 56,
    "start_time": "2024-11-24T04:50:10.047Z"
   },
   {
    "duration": 5,
    "start_time": "2024-11-24T04:50:11.594Z"
   },
   {
    "duration": 14,
    "start_time": "2024-11-24T04:50:12.479Z"
   },
   {
    "duration": 8,
    "start_time": "2024-11-24T04:50:13.140Z"
   },
   {
    "duration": 15,
    "start_time": "2024-11-24T04:50:14.961Z"
   },
   {
    "duration": 8,
    "start_time": "2024-11-24T04:50:15.346Z"
   },
   {
    "duration": 9,
    "start_time": "2024-11-24T04:50:17.602Z"
   },
   {
    "duration": 81,
    "start_time": "2024-11-24T04:50:27.062Z"
   },
   {
    "duration": 5,
    "start_time": "2024-11-24T04:50:27.842Z"
   },
   {
    "duration": 18,
    "start_time": "2024-11-24T04:50:33.912Z"
   },
   {
    "duration": 28,
    "start_time": "2024-11-24T04:50:34.740Z"
   },
   {
    "duration": 1237,
    "start_time": "2024-11-24T04:51:18.117Z"
   },
   {
    "duration": 1051,
    "start_time": "2024-11-24T04:51:43.832Z"
   },
   {
    "duration": 6,
    "start_time": "2024-11-24T04:51:56.773Z"
   },
   {
    "duration": 538,
    "start_time": "2024-11-24T04:55:57.819Z"
   },
   {
    "duration": 49,
    "start_time": "2024-11-24T04:55:58.358Z"
   },
   {
    "duration": 25,
    "start_time": "2024-11-24T04:55:58.535Z"
   },
   {
    "duration": 8,
    "start_time": "2024-11-24T04:55:59.004Z"
   },
   {
    "duration": 19,
    "start_time": "2024-11-24T04:55:59.774Z"
   },
   {
    "duration": 5,
    "start_time": "2024-11-24T04:56:00.590Z"
   },
   {
    "duration": 10,
    "start_time": "2024-11-24T04:56:00.950Z"
   },
   {
    "duration": 4,
    "start_time": "2024-11-24T04:56:03.232Z"
   },
   {
    "duration": 3,
    "start_time": "2024-11-24T04:56:04.142Z"
   },
   {
    "duration": 83,
    "start_time": "2024-11-24T04:56:05.348Z"
   },
   {
    "duration": 6,
    "start_time": "2024-11-24T04:56:05.973Z"
   },
   {
    "duration": 79,
    "start_time": "2024-11-24T04:56:06.986Z"
   },
   {
    "duration": 78,
    "start_time": "2024-11-24T04:56:07.499Z"
   },
   {
    "duration": 4,
    "start_time": "2024-11-24T04:56:08.731Z"
   },
   {
    "duration": 3,
    "start_time": "2024-11-24T04:56:09.874Z"
   },
   {
    "duration": 1329,
    "start_time": "2024-11-24T04:56:10.880Z"
   },
   {
    "duration": 6,
    "start_time": "2024-11-24T04:56:12.311Z"
   },
   {
    "duration": 8,
    "start_time": "2024-11-24T04:56:13.850Z"
   },
   {
    "duration": 78,
    "start_time": "2024-11-24T04:56:22.550Z"
   },
   {
    "duration": 130,
    "start_time": "2024-11-24T04:56:23.695Z"
   },
   {
    "duration": 73,
    "start_time": "2024-11-24T04:56:24.950Z"
   },
   {
    "duration": 3,
    "start_time": "2024-11-24T04:56:28.223Z"
   },
   {
    "duration": 25,
    "start_time": "2024-11-24T04:56:28.523Z"
   },
   {
    "duration": 158,
    "start_time": "2024-11-24T04:56:29.025Z"
   },
   {
    "duration": 180,
    "start_time": "2024-11-24T04:56:29.310Z"
   },
   {
    "duration": 18,
    "start_time": "2024-11-24T04:56:29.747Z"
   },
   {
    "duration": 19,
    "start_time": "2024-11-24T04:56:30.025Z"
   },
   {
    "duration": 23,
    "start_time": "2024-11-24T04:56:30.860Z"
   },
   {
    "duration": 13,
    "start_time": "2024-11-24T04:56:30.885Z"
   },
   {
    "duration": 23,
    "start_time": "2024-11-24T04:56:31.356Z"
   },
   {
    "duration": 35,
    "start_time": "2024-11-24T04:56:31.873Z"
   },
   {
    "duration": 13,
    "start_time": "2024-11-24T04:56:32.611Z"
   },
   {
    "duration": 62,
    "start_time": "2024-11-24T04:56:33.201Z"
   },
   {
    "duration": 7,
    "start_time": "2024-11-24T04:56:34.531Z"
   },
   {
    "duration": 5875,
    "start_time": "2024-11-24T04:56:35.054Z"
   },
   {
    "duration": 9,
    "start_time": "2024-11-24T04:56:40.931Z"
   },
   {
    "duration": 92,
    "start_time": "2024-11-24T04:56:40.941Z"
   },
   {
    "duration": 6,
    "start_time": "2024-11-24T04:56:41.035Z"
   },
   {
    "duration": 27,
    "start_time": "2024-11-24T04:56:41.042Z"
   },
   {
    "duration": 48,
    "start_time": "2024-11-24T04:56:41.070Z"
   },
   {
    "duration": 13,
    "start_time": "2024-11-24T04:56:41.120Z"
   },
   {
    "duration": 25,
    "start_time": "2024-11-24T04:56:41.135Z"
   },
   {
    "duration": 9,
    "start_time": "2024-11-24T04:56:41.162Z"
   },
   {
    "duration": 292,
    "start_time": "2024-11-24T04:56:41.174Z"
   },
   {
    "duration": 16,
    "start_time": "2024-11-24T04:56:41.467Z"
   },
   {
    "duration": 311,
    "start_time": "2024-11-24T04:56:41.484Z"
   },
   {
    "duration": 34,
    "start_time": "2024-11-24T04:56:41.797Z"
   },
   {
    "duration": 9,
    "start_time": "2024-11-24T04:56:41.859Z"
   },
   {
    "duration": 32,
    "start_time": "2024-11-24T04:56:43.238Z"
   },
   {
    "duration": 77,
    "start_time": "2024-11-24T04:57:00.591Z"
   },
   {
    "duration": 20,
    "start_time": "2024-11-24T04:57:07.608Z"
   },
   {
    "duration": 74,
    "start_time": "2024-11-24T04:57:10.066Z"
   },
   {
    "duration": 84,
    "start_time": "2024-11-24T04:57:10.989Z"
   },
   {
    "duration": 81,
    "start_time": "2024-11-24T04:57:12.164Z"
   },
   {
    "duration": 36,
    "start_time": "2024-11-24T04:57:57.786Z"
   },
   {
    "duration": 31,
    "start_time": "2024-11-24T04:58:00.377Z"
   },
   {
    "duration": 334,
    "start_time": "2024-11-24T04:58:01.163Z"
   },
   {
    "duration": 29,
    "start_time": "2024-11-24T04:58:02.103Z"
   },
   {
    "duration": 309,
    "start_time": "2024-11-24T04:58:02.414Z"
   },
   {
    "duration": 74,
    "start_time": "2024-11-24T04:58:04.384Z"
   },
   {
    "duration": 57,
    "start_time": "2024-11-24T04:58:04.877Z"
   },
   {
    "duration": 377,
    "start_time": "2024-11-24T04:58:05.470Z"
   },
   {
    "duration": 34,
    "start_time": "2024-11-24T04:58:08.181Z"
   },
   {
    "duration": 8,
    "start_time": "2024-11-24T04:58:09.148Z"
   },
   {
    "duration": 8,
    "start_time": "2024-11-24T04:58:09.801Z"
   },
   {
    "duration": 6,
    "start_time": "2024-11-24T04:58:10.436Z"
   },
   {
    "duration": 7,
    "start_time": "2024-11-24T04:58:11.105Z"
   },
   {
    "duration": 3,
    "start_time": "2024-11-24T04:58:11.736Z"
   },
   {
    "duration": 48,
    "start_time": "2024-11-24T04:58:13.872Z"
   },
   {
    "duration": 4,
    "start_time": "2024-11-24T04:58:15.505Z"
   },
   {
    "duration": 13,
    "start_time": "2024-11-24T04:58:16.362Z"
   },
   {
    "duration": 7,
    "start_time": "2024-11-24T04:58:17.239Z"
   },
   {
    "duration": 14,
    "start_time": "2024-11-24T04:58:17.899Z"
   },
   {
    "duration": 7,
    "start_time": "2024-11-24T04:58:18.474Z"
   },
   {
    "duration": 8,
    "start_time": "2024-11-24T04:58:19.086Z"
   },
   {
    "duration": 82,
    "start_time": "2024-11-24T04:59:52.577Z"
   },
   {
    "duration": 76,
    "start_time": "2024-11-24T05:00:05.112Z"
   },
   {
    "duration": 106,
    "start_time": "2024-11-24T05:00:47.415Z"
   },
   {
    "duration": 9,
    "start_time": "2024-11-24T05:01:14.803Z"
   },
   {
    "duration": 97,
    "start_time": "2024-11-24T05:01:20.842Z"
   },
   {
    "duration": 15,
    "start_time": "2024-11-24T05:02:04.362Z"
   },
   {
    "duration": 5,
    "start_time": "2024-11-24T05:02:04.881Z"
   },
   {
    "duration": 18,
    "start_time": "2024-11-24T05:02:06.103Z"
   },
   {
    "duration": 31,
    "start_time": "2024-11-24T05:02:06.720Z"
   },
   {
    "duration": 16,
    "start_time": "2024-11-24T05:02:07.333Z"
   },
   {
    "duration": 8,
    "start_time": "2024-11-24T05:02:07.949Z"
   },
   {
    "duration": 8,
    "start_time": "2024-11-24T05:02:08.469Z"
   },
   {
    "duration": 8,
    "start_time": "2024-11-24T05:02:09.112Z"
   },
   {
    "duration": 19,
    "start_time": "2024-11-24T05:02:09.686Z"
   },
   {
    "duration": 15,
    "start_time": "2024-11-24T05:02:10.343Z"
   },
   {
    "duration": 9,
    "start_time": "2024-11-24T05:02:11.120Z"
   },
   {
    "duration": 523,
    "start_time": "2024-11-24T05:02:12.470Z"
   },
   {
    "duration": 1059,
    "start_time": "2024-11-24T11:17:07.896Z"
   },
   {
    "duration": 121,
    "start_time": "2024-11-24T11:17:10.023Z"
   },
   {
    "duration": 53,
    "start_time": "2024-11-24T11:17:10.730Z"
   },
   {
    "duration": 10,
    "start_time": "2024-11-24T11:17:11.274Z"
   },
   {
    "duration": 35,
    "start_time": "2024-11-24T11:17:11.851Z"
   },
   {
    "duration": 7,
    "start_time": "2024-11-24T11:17:12.259Z"
   },
   {
    "duration": 13,
    "start_time": "2024-11-24T11:17:12.474Z"
   },
   {
    "duration": 3,
    "start_time": "2024-11-24T11:17:13.184Z"
   },
   {
    "duration": 4,
    "start_time": "2024-11-24T11:17:13.490Z"
   },
   {
    "duration": 109,
    "start_time": "2024-11-24T11:17:13.803Z"
   },
   {
    "duration": 7,
    "start_time": "2024-11-24T11:17:14.143Z"
   },
   {
    "duration": 123,
    "start_time": "2024-11-24T11:17:14.719Z"
   },
   {
    "duration": 113,
    "start_time": "2024-11-24T11:17:14.924Z"
   },
   {
    "duration": 4,
    "start_time": "2024-11-24T11:17:15.341Z"
   },
   {
    "duration": 4,
    "start_time": "2024-11-24T11:17:15.578Z"
   },
   {
    "duration": 1422,
    "start_time": "2024-11-24T11:17:16.256Z"
   },
   {
    "duration": 6,
    "start_time": "2024-11-24T11:17:17.680Z"
   },
   {
    "duration": 39,
    "start_time": "2024-11-24T11:17:17.687Z"
   },
   {
    "duration": 91,
    "start_time": "2024-11-24T11:17:17.728Z"
   },
   {
    "duration": 137,
    "start_time": "2024-11-24T11:17:18.133Z"
   },
   {
    "duration": 92,
    "start_time": "2024-11-24T11:17:18.355Z"
   },
   {
    "duration": 3,
    "start_time": "2024-11-24T11:17:23.115Z"
   },
   {
    "duration": 50,
    "start_time": "2024-11-24T11:17:24.182Z"
   },
   {
    "duration": 1219,
    "start_time": "2024-11-24T11:17:25.167Z"
   },
   {
    "duration": 195,
    "start_time": "2024-11-24T11:17:26.388Z"
   },
   {
    "duration": 25,
    "start_time": "2024-11-24T11:17:27.520Z"
   },
   {
    "duration": 24,
    "start_time": "2024-11-24T11:17:28.186Z"
   },
   {
    "duration": 29,
    "start_time": "2024-11-24T11:17:28.391Z"
   },
   {
    "duration": 18,
    "start_time": "2024-11-24T11:17:28.953Z"
   },
   {
    "duration": 37,
    "start_time": "2024-11-24T11:17:29.599Z"
   },
   {
    "duration": 55,
    "start_time": "2024-11-24T11:17:30.215Z"
   },
   {
    "duration": 13,
    "start_time": "2024-11-24T11:17:30.793Z"
   },
   {
    "duration": 70,
    "start_time": "2024-11-24T11:17:31.348Z"
   },
   {
    "duration": 9,
    "start_time": "2024-11-24T11:17:32.022Z"
   },
   {
    "duration": 7059,
    "start_time": "2024-11-24T11:17:32.341Z"
   },
   {
    "duration": 15,
    "start_time": "2024-11-24T11:17:39.404Z"
   },
   {
    "duration": 78,
    "start_time": "2024-11-24T11:17:39.422Z"
   },
   {
    "duration": 7,
    "start_time": "2024-11-24T11:17:41.034Z"
   },
   {
    "duration": 7,
    "start_time": "2024-11-24T11:17:42.366Z"
   },
   {
    "duration": 52,
    "start_time": "2024-11-24T11:17:43.804Z"
   },
   {
    "duration": 12,
    "start_time": "2024-11-24T11:17:44.623Z"
   },
   {
    "duration": 15,
    "start_time": "2024-11-24T11:17:45.440Z"
   },
   {
    "duration": 12,
    "start_time": "2024-11-24T11:17:46.157Z"
   },
   {
    "duration": 328,
    "start_time": "2024-11-24T11:17:48.105Z"
   },
   {
    "duration": 18,
    "start_time": "2024-11-24T11:17:48.820Z"
   },
   {
    "duration": 327,
    "start_time": "2024-11-24T11:17:49.030Z"
   },
   {
    "duration": 44,
    "start_time": "2024-11-24T11:17:49.540Z"
   },
   {
    "duration": 13,
    "start_time": "2024-11-24T11:17:49.738Z"
   },
   {
    "duration": 27,
    "start_time": "2024-11-24T11:17:49.975Z"
   },
   {
    "duration": 90,
    "start_time": "2024-11-24T11:17:50.192Z"
   },
   {
    "duration": 99,
    "start_time": "2024-11-24T11:17:50.460Z"
   },
   {
    "duration": 92,
    "start_time": "2024-11-24T11:17:50.666Z"
   },
   {
    "duration": 64,
    "start_time": "2024-11-24T11:17:52.409Z"
   },
   {
    "duration": 34,
    "start_time": "2024-11-24T11:17:52.651Z"
   },
   {
    "duration": 371,
    "start_time": "2024-11-24T11:17:52.918Z"
   },
   {
    "duration": 31,
    "start_time": "2024-11-24T11:17:53.633Z"
   },
   {
    "duration": 359,
    "start_time": "2024-11-24T11:17:53.841Z"
   },
   {
    "duration": 105,
    "start_time": "2024-11-24T11:17:54.975Z"
   },
   {
    "duration": 70,
    "start_time": "2024-11-24T11:17:55.269Z"
   },
   {
    "duration": 445,
    "start_time": "2024-11-24T11:17:55.486Z"
   },
   {
    "duration": 50,
    "start_time": "2024-11-24T11:17:58.663Z"
   },
   {
    "duration": 10,
    "start_time": "2024-11-24T11:17:59.485Z"
   },
   {
    "duration": 9,
    "start_time": "2024-11-24T11:18:00.234Z"
   },
   {
    "duration": 10,
    "start_time": "2024-11-24T11:18:00.843Z"
   },
   {
    "duration": 10,
    "start_time": "2024-11-24T11:18:01.428Z"
   },
   {
    "duration": 3,
    "start_time": "2024-11-24T11:18:01.944Z"
   },
   {
    "duration": 67,
    "start_time": "2024-11-24T11:18:07.063Z"
   },
   {
    "duration": 6,
    "start_time": "2024-11-24T11:18:08.885Z"
   },
   {
    "duration": 17,
    "start_time": "2024-11-24T11:18:09.504Z"
   },
   {
    "duration": 8,
    "start_time": "2024-11-24T11:18:10.438Z"
   },
   {
    "duration": 17,
    "start_time": "2024-11-24T11:18:10.955Z"
   },
   {
    "duration": 9,
    "start_time": "2024-11-24T11:18:12.781Z"
   },
   {
    "duration": 11,
    "start_time": "2024-11-24T11:18:13.704Z"
   },
   {
    "duration": 197,
    "start_time": "2024-11-24T11:18:18.544Z"
   },
   {
    "duration": 102,
    "start_time": "2024-11-24T11:18:19.132Z"
   },
   {
    "duration": 95,
    "start_time": "2024-11-24T11:18:19.848Z"
   },
   {
    "duration": 114,
    "start_time": "2024-11-24T11:18:20.461Z"
   },
   {
    "duration": 17,
    "start_time": "2024-11-24T11:18:21.606Z"
   },
   {
    "duration": 5,
    "start_time": "2024-11-24T11:18:22.238Z"
   },
   {
    "duration": 35,
    "start_time": "2024-11-24T11:18:23.736Z"
   },
   {
    "duration": 36,
    "start_time": "2024-11-24T11:18:26.954Z"
   },
   {
    "duration": 22,
    "start_time": "2024-11-24T11:18:27.757Z"
   },
   {
    "duration": 9,
    "start_time": "2024-11-24T11:18:32.234Z"
   },
   {
    "duration": 10,
    "start_time": "2024-11-24T11:18:32.650Z"
   },
   {
    "duration": 8,
    "start_time": "2024-11-24T11:18:33.259Z"
   },
   {
    "duration": 29,
    "start_time": "2024-11-24T11:18:33.884Z"
   },
   {
    "duration": 18,
    "start_time": "2024-11-24T11:18:34.808Z"
   },
   {
    "duration": 10,
    "start_time": "2024-11-24T11:18:37.165Z"
   },
   {
    "duration": 664,
    "start_time": "2024-11-24T11:18:39.211Z"
   },
   {
    "duration": 646,
    "start_time": "2024-11-24T11:51:25.034Z"
   },
   {
    "duration": 71,
    "start_time": "2024-11-24T11:51:25.683Z"
   },
   {
    "duration": 30,
    "start_time": "2024-11-24T11:51:25.755Z"
   },
   {
    "duration": 11,
    "start_time": "2024-11-24T11:51:26.027Z"
   },
   {
    "duration": 23,
    "start_time": "2024-11-24T11:51:26.642Z"
   },
   {
    "duration": 8,
    "start_time": "2024-11-24T11:51:27.127Z"
   },
   {
    "duration": 11,
    "start_time": "2024-11-24T11:51:27.339Z"
   },
   {
    "duration": 4,
    "start_time": "2024-11-24T11:51:28.764Z"
   },
   {
    "duration": 4,
    "start_time": "2024-11-24T11:51:29.589Z"
   },
   {
    "duration": 82,
    "start_time": "2024-11-24T11:51:30.302Z"
   },
   {
    "duration": 7,
    "start_time": "2024-11-24T11:51:30.441Z"
   },
   {
    "duration": 88,
    "start_time": "2024-11-24T11:51:30.845Z"
   },
   {
    "duration": 105,
    "start_time": "2024-11-24T11:51:31.047Z"
   },
   {
    "duration": 5,
    "start_time": "2024-11-24T11:51:31.441Z"
   },
   {
    "duration": 4,
    "start_time": "2024-11-24T11:51:31.632Z"
   },
   {
    "duration": 1463,
    "start_time": "2024-11-24T11:51:32.040Z"
   },
   {
    "duration": 6,
    "start_time": "2024-11-24T11:51:33.505Z"
   },
   {
    "duration": 12,
    "start_time": "2024-11-24T11:51:33.512Z"
   },
   {
    "duration": 97,
    "start_time": "2024-11-24T11:51:33.526Z"
   },
   {
    "duration": 129,
    "start_time": "2024-11-24T11:51:33.730Z"
   },
   {
    "duration": 95,
    "start_time": "2024-11-24T11:51:33.986Z"
   },
   {
    "duration": 5,
    "start_time": "2024-11-24T11:51:35.323Z"
   },
   {
    "duration": 28,
    "start_time": "2024-11-24T11:51:35.528Z"
   },
   {
    "duration": 154,
    "start_time": "2024-11-24T11:51:35.935Z"
   },
   {
    "duration": 177,
    "start_time": "2024-11-24T11:51:36.166Z"
   },
   {
    "duration": 20,
    "start_time": "2024-11-24T11:51:36.658Z"
   },
   {
    "duration": 18,
    "start_time": "2024-11-24T11:51:36.862Z"
   },
   {
    "duration": 29,
    "start_time": "2024-11-24T11:51:37.077Z"
   },
   {
    "duration": 14,
    "start_time": "2024-11-24T11:51:37.515Z"
   },
   {
    "duration": 25,
    "start_time": "2024-11-24T11:51:37.984Z"
   },
   {
    "duration": 42,
    "start_time": "2024-11-24T11:51:38.496Z"
   },
   {
    "duration": 12,
    "start_time": "2024-11-24T11:51:39.006Z"
   },
   {
    "duration": 57,
    "start_time": "2024-11-24T11:51:39.541Z"
   },
   {
    "duration": 9,
    "start_time": "2024-11-24T11:51:40.135Z"
   },
   {
    "duration": 6939,
    "start_time": "2024-11-24T11:51:40.441Z"
   },
   {
    "duration": 31,
    "start_time": "2024-11-24T11:51:47.381Z"
   },
   {
    "duration": 65,
    "start_time": "2024-11-24T11:51:47.416Z"
   },
   {
    "duration": 29,
    "start_time": "2024-11-24T11:51:47.483Z"
   },
   {
    "duration": 8,
    "start_time": "2024-11-24T11:51:47.514Z"
   },
   {
    "duration": 61,
    "start_time": "2024-11-24T11:51:47.523Z"
   },
   {
    "duration": 32,
    "start_time": "2024-11-24T11:51:47.586Z"
   },
   {
    "duration": 18,
    "start_time": "2024-11-24T11:51:47.620Z"
   },
   {
    "duration": 18,
    "start_time": "2024-11-24T11:51:47.640Z"
   },
   {
    "duration": 379,
    "start_time": "2024-11-24T11:51:47.965Z"
   },
   {
    "duration": 28,
    "start_time": "2024-11-24T11:52:28.388Z"
   },
   {
    "duration": 321,
    "start_time": "2024-11-24T11:52:29.100Z"
   },
   {
    "duration": 40,
    "start_time": "2024-11-24T11:52:30.452Z"
   },
   {
    "duration": 11,
    "start_time": "2024-11-24T11:52:30.816Z"
   },
   {
    "duration": 29,
    "start_time": "2024-11-24T11:52:31.021Z"
   },
   {
    "duration": 96,
    "start_time": "2024-11-24T11:52:31.226Z"
   },
   {
    "duration": 98,
    "start_time": "2024-11-24T11:52:31.456Z"
   },
   {
    "duration": 98,
    "start_time": "2024-11-24T11:52:31.680Z"
   },
   {
    "duration": 72,
    "start_time": "2024-11-24T11:52:33.788Z"
   },
   {
    "duration": 37,
    "start_time": "2024-11-24T11:52:34.098Z"
   },
   {
    "duration": 380,
    "start_time": "2024-11-24T11:52:34.307Z"
   },
   {
    "duration": 32,
    "start_time": "2024-11-24T11:52:35.125Z"
   },
   {
    "duration": 486,
    "start_time": "2024-11-24T11:52:35.327Z"
   },
   {
    "duration": 102,
    "start_time": "2024-11-24T11:52:36.452Z"
   },
   {
    "duration": 71,
    "start_time": "2024-11-24T11:52:36.865Z"
   },
   {
    "duration": 446,
    "start_time": "2024-11-24T11:52:37.218Z"
   },
   {
    "duration": 44,
    "start_time": "2024-11-24T11:52:39.662Z"
   },
   {
    "duration": 8,
    "start_time": "2024-11-24T11:52:40.570Z"
   },
   {
    "duration": 10,
    "start_time": "2024-11-24T11:52:41.062Z"
   },
   {
    "duration": 6,
    "start_time": "2024-11-24T11:52:41.572Z"
   },
   {
    "duration": 6,
    "start_time": "2024-11-24T11:52:41.810Z"
   },
   {
    "duration": 4,
    "start_time": "2024-11-24T11:52:42.038Z"
   },
   {
    "duration": 60,
    "start_time": "2024-11-24T11:52:43.139Z"
   },
   {
    "duration": 5,
    "start_time": "2024-11-24T11:52:44.348Z"
   },
   {
    "duration": 16,
    "start_time": "2024-11-24T11:52:44.681Z"
   },
   {
    "duration": 9,
    "start_time": "2024-11-24T11:52:45.070Z"
   },
   {
    "duration": 17,
    "start_time": "2024-11-24T11:52:45.567Z"
   },
   {
    "duration": 8,
    "start_time": "2024-11-24T11:52:46.179Z"
   },
   {
    "duration": 10,
    "start_time": "2024-11-24T11:52:47.018Z"
   },
   {
    "duration": 86,
    "start_time": "2024-11-24T11:52:50.727Z"
   },
   {
    "duration": 87,
    "start_time": "2024-11-24T11:52:51.714Z"
   },
   {
    "duration": 100,
    "start_time": "2024-11-24T11:52:52.934Z"
   },
   {
    "duration": 114,
    "start_time": "2024-11-24T11:52:56.931Z"
   },
   {
    "duration": 23,
    "start_time": "2024-11-24T11:54:37.487Z"
   },
   {
    "duration": 19,
    "start_time": "2024-11-24T11:54:38.315Z"
   },
   {
    "duration": 94,
    "start_time": "2024-11-24T11:54:39.033Z"
   },
   {
    "duration": 18,
    "start_time": "2024-11-24T11:54:56.223Z"
   },
   {
    "duration": 4,
    "start_time": "2024-11-24T11:55:07.842Z"
   },
   {
    "duration": 20,
    "start_time": "2024-11-24T11:55:22.651Z"
   },
   {
    "duration": 27,
    "start_time": "2024-11-24T11:55:42.865Z"
   },
   {
    "duration": 21,
    "start_time": "2024-11-24T11:55:48.145Z"
   },
   {
    "duration": 28,
    "start_time": "2024-11-24T11:56:50.612Z"
   },
   {
    "duration": 20,
    "start_time": "2024-11-24T11:56:51.941Z"
   },
   {
    "duration": 7,
    "start_time": "2024-11-24T11:56:53.510Z"
   },
   {
    "duration": 11,
    "start_time": "2024-11-24T11:57:25.776Z"
   },
   {
    "duration": 79,
    "start_time": "2024-11-24T11:57:28.496Z"
   },
   {
    "duration": 10,
    "start_time": "2024-11-24T11:58:58.914Z"
   },
   {
    "duration": 9,
    "start_time": "2024-11-24T11:58:59.667Z"
   },
   {
    "duration": 23,
    "start_time": "2024-11-24T11:59:02.708Z"
   },
   {
    "duration": 17,
    "start_time": "2024-11-24T11:59:27.714Z"
   },
   {
    "duration": 14,
    "start_time": "2024-11-24T11:59:29.227Z"
   },
   {
    "duration": 68,
    "start_time": "2024-11-24T12:00:02.015Z"
   },
   {
    "duration": 582,
    "start_time": "2024-11-24T12:01:21.669Z"
   },
   {
    "duration": 54,
    "start_time": "2024-11-24T12:01:22.253Z"
   },
   {
    "duration": 30,
    "start_time": "2024-11-24T12:01:22.309Z"
   },
   {
    "duration": 10,
    "start_time": "2024-11-24T12:01:22.730Z"
   },
   {
    "duration": 26,
    "start_time": "2024-11-24T12:01:23.400Z"
   },
   {
    "duration": 6,
    "start_time": "2024-11-24T12:01:23.810Z"
   },
   {
    "duration": 11,
    "start_time": "2024-11-24T12:01:24.021Z"
   },
   {
    "duration": 4,
    "start_time": "2024-11-24T12:01:24.732Z"
   },
   {
    "duration": 4,
    "start_time": "2024-11-24T12:01:24.940Z"
   },
   {
    "duration": 83,
    "start_time": "2024-11-24T12:01:25.143Z"
   },
   {
    "duration": 7,
    "start_time": "2024-11-24T12:01:25.356Z"
   },
   {
    "duration": 88,
    "start_time": "2024-11-24T12:01:25.772Z"
   },
   {
    "duration": 88,
    "start_time": "2024-11-24T12:01:25.983Z"
   },
   {
    "duration": 4,
    "start_time": "2024-11-24T12:01:26.384Z"
   },
   {
    "duration": 4,
    "start_time": "2024-11-24T12:01:26.594Z"
   },
   {
    "duration": 1449,
    "start_time": "2024-11-24T12:01:26.991Z"
   },
   {
    "duration": 6,
    "start_time": "2024-11-24T12:01:28.442Z"
   },
   {
    "duration": 52,
    "start_time": "2024-11-24T12:01:28.450Z"
   },
   {
    "duration": 95,
    "start_time": "2024-11-24T12:01:28.507Z"
   },
   {
    "duration": 102,
    "start_time": "2024-11-24T12:01:28.722Z"
   },
   {
    "duration": 83,
    "start_time": "2024-11-24T12:01:28.931Z"
   },
   {
    "duration": 4,
    "start_time": "2024-11-24T12:01:30.274Z"
   },
   {
    "duration": 27,
    "start_time": "2024-11-24T12:01:30.504Z"
   },
   {
    "duration": 149,
    "start_time": "2024-11-24T12:01:30.977Z"
   },
   {
    "duration": 168,
    "start_time": "2024-11-24T12:01:31.183Z"
   },
   {
    "duration": 19,
    "start_time": "2024-11-24T12:01:31.694Z"
   },
   {
    "duration": 21,
    "start_time": "2024-11-24T12:01:31.897Z"
   },
   {
    "duration": 19,
    "start_time": "2024-11-24T12:01:32.138Z"
   },
   {
    "duration": 13,
    "start_time": "2024-11-24T12:01:32.643Z"
   },
   {
    "duration": 26,
    "start_time": "2024-11-24T12:01:33.146Z"
   },
   {
    "duration": 34,
    "start_time": "2024-11-24T12:01:33.682Z"
   },
   {
    "duration": 13,
    "start_time": "2024-11-24T12:01:34.258Z"
   },
   {
    "duration": 51,
    "start_time": "2024-11-24T12:01:34.692Z"
   },
   {
    "duration": 7,
    "start_time": "2024-11-24T12:01:35.178Z"
   },
   {
    "duration": 6807,
    "start_time": "2024-11-24T12:01:35.420Z"
   },
   {
    "duration": 11,
    "start_time": "2024-11-24T12:01:42.228Z"
   },
   {
    "duration": 73,
    "start_time": "2024-11-24T12:01:42.240Z"
   },
   {
    "duration": 7,
    "start_time": "2024-11-24T12:01:42.315Z"
   },
   {
    "duration": 27,
    "start_time": "2024-11-24T12:01:42.323Z"
   },
   {
    "duration": 56,
    "start_time": "2024-11-24T12:01:42.351Z"
   },
   {
    "duration": 10,
    "start_time": "2024-11-24T12:01:42.408Z"
   },
   {
    "duration": 20,
    "start_time": "2024-11-24T12:01:42.420Z"
   },
   {
    "duration": 29,
    "start_time": "2024-11-24T12:01:42.441Z"
   },
   {
    "duration": 292,
    "start_time": "2024-11-24T12:01:42.472Z"
   },
   {
    "duration": 17,
    "start_time": "2024-11-24T12:01:42.766Z"
   },
   {
    "duration": 300,
    "start_time": "2024-11-24T12:01:42.784Z"
   },
   {
    "duration": 46,
    "start_time": "2024-11-24T12:01:43.086Z"
   },
   {
    "duration": 11,
    "start_time": "2024-11-24T12:01:43.134Z"
   },
   {
    "duration": 31,
    "start_time": "2024-11-24T12:01:43.147Z"
   },
   {
    "duration": 99,
    "start_time": "2024-11-24T12:01:43.180Z"
   },
   {
    "duration": 103,
    "start_time": "2024-11-24T12:01:43.281Z"
   },
   {
    "duration": 90,
    "start_time": "2024-11-24T12:01:43.397Z"
   },
   {
    "duration": 65,
    "start_time": "2024-11-24T12:01:44.821Z"
   },
   {
    "duration": 36,
    "start_time": "2024-11-24T12:01:45.128Z"
   },
   {
    "duration": 375,
    "start_time": "2024-11-24T12:01:45.725Z"
   },
   {
    "duration": 34,
    "start_time": "2024-11-24T12:01:46.443Z"
   },
   {
    "duration": 359,
    "start_time": "2024-11-24T12:01:46.651Z"
   },
   {
    "duration": 130,
    "start_time": "2024-11-24T12:01:48.342Z"
   },
   {
    "duration": 70,
    "start_time": "2024-11-24T12:01:48.596Z"
   },
   {
    "duration": 448,
    "start_time": "2024-11-24T12:01:48.817Z"
   },
   {
    "duration": 46,
    "start_time": "2024-11-24T12:01:50.333Z"
   },
   {
    "duration": 8,
    "start_time": "2024-11-24T12:01:50.794Z"
   },
   {
    "duration": 10,
    "start_time": "2024-11-24T12:01:51.050Z"
   },
   {
    "duration": 7,
    "start_time": "2024-11-24T12:01:51.259Z"
   },
   {
    "duration": 6,
    "start_time": "2024-11-24T12:01:51.461Z"
   },
   {
    "duration": 4,
    "start_time": "2024-11-24T12:01:51.689Z"
   },
   {
    "duration": 59,
    "start_time": "2024-11-24T12:01:52.714Z"
   },
   {
    "duration": 6,
    "start_time": "2024-11-24T12:01:53.439Z"
   },
   {
    "duration": 17,
    "start_time": "2024-11-24T12:01:53.711Z"
   },
   {
    "duration": 9,
    "start_time": "2024-11-24T12:01:53.922Z"
   },
   {
    "duration": 19,
    "start_time": "2024-11-24T12:01:54.229Z"
   },
   {
    "duration": 9,
    "start_time": "2024-11-24T12:01:54.529Z"
   },
   {
    "duration": 10,
    "start_time": "2024-11-24T12:01:54.844Z"
   },
   {
    "duration": 202,
    "start_time": "2024-11-24T12:01:56.787Z"
   },
   {
    "duration": 80,
    "start_time": "2024-11-24T12:01:57.399Z"
   },
   {
    "duration": 106,
    "start_time": "2024-11-24T12:01:58.730Z"
   },
   {
    "duration": 107,
    "start_time": "2024-11-24T12:01:59.344Z"
   },
   {
    "duration": 13,
    "start_time": "2024-11-24T12:02:03.033Z"
   },
   {
    "duration": 19,
    "start_time": "2024-11-24T12:02:03.788Z"
   },
   {
    "duration": 87,
    "start_time": "2024-11-24T12:02:04.772Z"
   },
   {
    "duration": 18,
    "start_time": "2024-11-24T12:02:06.823Z"
   },
   {
    "duration": 4,
    "start_time": "2024-11-24T12:02:08.615Z"
   },
   {
    "duration": 19,
    "start_time": "2024-11-24T12:02:09.792Z"
   },
   {
    "duration": 27,
    "start_time": "2024-11-24T12:02:10.244Z"
   },
   {
    "duration": 20,
    "start_time": "2024-11-24T12:02:10.709Z"
   },
   {
    "duration": 11,
    "start_time": "2024-11-24T12:02:11.254Z"
   },
   {
    "duration": 9,
    "start_time": "2024-11-24T12:02:11.854Z"
   },
   {
    "duration": 22,
    "start_time": "2024-11-24T12:02:12.251Z"
   },
   {
    "duration": 17,
    "start_time": "2024-11-24T12:02:12.666Z"
   },
   {
    "duration": 12,
    "start_time": "2024-11-24T12:02:13.099Z"
   },
   {
    "duration": 68,
    "start_time": "2024-11-24T12:02:14.293Z"
   },
   {
    "duration": 295,
    "start_time": "2024-11-24T12:19:19.931Z"
   },
   {
    "duration": 1074,
    "start_time": "2024-11-24T12:20:35.619Z"
   },
   {
    "duration": 72,
    "start_time": "2024-11-24T12:21:05.609Z"
   },
   {
    "duration": 177,
    "start_time": "2024-11-24T12:43:29.718Z"
   },
   {
    "duration": 1083,
    "start_time": "2024-11-24T17:24:11.561Z"
   },
   {
    "duration": 101,
    "start_time": "2024-11-24T17:24:12.646Z"
   },
   {
    "duration": 34,
    "start_time": "2024-11-24T17:24:12.749Z"
   },
   {
    "duration": 10,
    "start_time": "2024-11-24T17:24:12.785Z"
   },
   {
    "duration": 24,
    "start_time": "2024-11-24T17:24:13.269Z"
   },
   {
    "duration": 6,
    "start_time": "2024-11-24T17:24:13.672Z"
   },
   {
    "duration": 12,
    "start_time": "2024-11-24T17:24:13.877Z"
   },
   {
    "duration": 4,
    "start_time": "2024-11-24T17:24:14.590Z"
   },
   {
    "duration": 4,
    "start_time": "2024-11-24T17:24:14.852Z"
   },
   {
    "duration": 125,
    "start_time": "2024-11-24T17:24:15.101Z"
   },
   {
    "duration": 9,
    "start_time": "2024-11-24T17:24:15.312Z"
   },
   {
    "duration": 145,
    "start_time": "2024-11-24T17:24:15.822Z"
   },
   {
    "duration": 121,
    "start_time": "2024-11-24T17:24:15.982Z"
   },
   {
    "duration": 4,
    "start_time": "2024-11-24T17:24:16.459Z"
   },
   {
    "duration": 4,
    "start_time": "2024-11-24T17:24:16.741Z"
   },
   {
    "duration": 1425,
    "start_time": "2024-11-24T17:24:17.150Z"
   },
   {
    "duration": 5,
    "start_time": "2024-11-24T17:24:18.577Z"
   },
   {
    "duration": 26,
    "start_time": "2024-11-24T17:24:18.584Z"
   },
   {
    "duration": 97,
    "start_time": "2024-11-24T17:24:18.612Z"
   },
   {
    "duration": 140,
    "start_time": "2024-11-24T17:24:18.938Z"
   },
   {
    "duration": 88,
    "start_time": "2024-11-24T17:24:19.200Z"
   },
   {
    "duration": 4,
    "start_time": "2024-11-24T17:24:20.632Z"
   },
   {
    "duration": 28,
    "start_time": "2024-11-24T17:24:20.882Z"
   },
   {
    "duration": 1238,
    "start_time": "2024-11-24T17:24:21.386Z"
   },
   {
    "duration": 177,
    "start_time": "2024-11-24T17:24:22.627Z"
   },
   {
    "duration": 29,
    "start_time": "2024-11-24T17:24:22.805Z"
   },
   {
    "duration": 56,
    "start_time": "2024-11-24T17:24:22.836Z"
   },
   {
    "duration": 27,
    "start_time": "2024-11-24T17:24:22.893Z"
   },
   {
    "duration": 15,
    "start_time": "2024-11-24T17:24:23.031Z"
   },
   {
    "duration": 28,
    "start_time": "2024-11-24T17:24:23.504Z"
   },
   {
    "duration": 46,
    "start_time": "2024-11-24T17:24:24.015Z"
   },
   {
    "duration": 14,
    "start_time": "2024-11-24T17:24:24.430Z"
   },
   {
    "duration": 59,
    "start_time": "2024-11-24T17:24:24.935Z"
   },
   {
    "duration": 8,
    "start_time": "2024-11-24T17:24:25.376Z"
   },
   {
    "duration": 7170,
    "start_time": "2024-11-24T17:24:25.600Z"
   },
   {
    "duration": 11,
    "start_time": "2024-11-24T17:24:32.772Z"
   },
   {
    "duration": 167,
    "start_time": "2024-11-24T17:24:32.785Z"
   },
   {
    "duration": 7,
    "start_time": "2024-11-24T17:24:32.954Z"
   },
   {
    "duration": 85,
    "start_time": "2024-11-24T17:24:32.963Z"
   },
   {
    "duration": 78,
    "start_time": "2024-11-24T17:24:33.050Z"
   },
   {
    "duration": 10,
    "start_time": "2024-11-24T17:24:33.130Z"
   },
   {
    "duration": 17,
    "start_time": "2024-11-24T17:24:33.142Z"
   },
   {
    "duration": 64,
    "start_time": "2024-11-24T17:24:33.160Z"
   },
   {
    "duration": 430,
    "start_time": "2024-11-24T17:24:33.226Z"
   },
   {
    "duration": 18,
    "start_time": "2024-11-24T17:24:33.657Z"
   },
   {
    "duration": 320,
    "start_time": "2024-11-24T17:24:33.676Z"
   },
   {
    "duration": 53,
    "start_time": "2024-11-24T17:24:33.998Z"
   },
   {
    "duration": 11,
    "start_time": "2024-11-24T17:24:34.053Z"
   },
   {
    "duration": 66,
    "start_time": "2024-11-24T17:24:34.065Z"
   },
   {
    "duration": 108,
    "start_time": "2024-11-24T17:24:34.133Z"
   },
   {
    "duration": 109,
    "start_time": "2024-11-24T17:24:34.244Z"
   },
   {
    "duration": 110,
    "start_time": "2024-11-24T17:24:34.355Z"
   },
   {
    "duration": 78,
    "start_time": "2024-11-24T17:24:34.469Z"
   },
   {
    "duration": 51,
    "start_time": "2024-11-24T17:24:34.549Z"
   },
   {
    "duration": 397,
    "start_time": "2024-11-24T17:24:34.602Z"
   },
   {
    "duration": 41,
    "start_time": "2024-11-24T17:24:35.002Z"
   },
   {
    "duration": 401,
    "start_time": "2024-11-24T17:24:35.046Z"
   },
   {
    "duration": 114,
    "start_time": "2024-11-24T17:24:36.317Z"
   },
   {
    "duration": 74,
    "start_time": "2024-11-24T17:24:36.611Z"
   },
   {
    "duration": 480,
    "start_time": "2024-11-24T17:24:36.844Z"
   },
   {
    "duration": 48,
    "start_time": "2024-11-24T17:24:39.293Z"
   },
   {
    "duration": 8,
    "start_time": "2024-11-24T17:24:40.745Z"
   },
   {
    "duration": 10,
    "start_time": "2024-11-24T17:24:41.061Z"
   },
   {
    "duration": 7,
    "start_time": "2024-11-24T17:24:41.324Z"
   },
   {
    "duration": 6,
    "start_time": "2024-11-24T17:24:41.525Z"
   },
   {
    "duration": 4,
    "start_time": "2024-11-24T17:24:41.753Z"
   },
   {
    "duration": 70,
    "start_time": "2024-11-24T17:24:42.704Z"
   },
   {
    "duration": 6,
    "start_time": "2024-11-24T17:24:43.571Z"
   },
   {
    "duration": 16,
    "start_time": "2024-11-24T17:24:43.980Z"
   },
   {
    "duration": 10,
    "start_time": "2024-11-24T17:24:44.290Z"
   },
   {
    "duration": 17,
    "start_time": "2024-11-24T17:24:44.523Z"
   },
   {
    "duration": 9,
    "start_time": "2024-11-24T17:24:44.948Z"
   },
   {
    "duration": 10,
    "start_time": "2024-11-24T17:24:45.211Z"
   },
   {
    "duration": 179,
    "start_time": "2024-11-24T17:24:46.796Z"
   },
   {
    "duration": 83,
    "start_time": "2024-11-24T17:24:47.155Z"
   },
   {
    "duration": 100,
    "start_time": "2024-11-24T17:24:47.464Z"
   },
   {
    "duration": 107,
    "start_time": "2024-11-24T17:24:48.435Z"
   },
   {
    "duration": 15,
    "start_time": "2024-11-24T17:24:49.202Z"
   },
   {
    "duration": 18,
    "start_time": "2024-11-24T17:24:49.429Z"
   },
   {
    "duration": 101,
    "start_time": "2024-11-24T17:24:49.721Z"
   },
   {
    "duration": 16,
    "start_time": "2024-11-24T17:24:50.231Z"
   },
   {
    "duration": 6,
    "start_time": "2024-11-24T17:24:50.435Z"
   },
   {
    "duration": 17,
    "start_time": "2024-11-24T17:24:51.052Z"
   },
   {
    "duration": 28,
    "start_time": "2024-11-24T17:24:51.460Z"
   },
   {
    "duration": 21,
    "start_time": "2024-11-24T17:24:51.707Z"
   },
   {
    "duration": 12,
    "start_time": "2024-11-24T17:24:51.983Z"
   },
   {
    "duration": 10,
    "start_time": "2024-11-24T17:24:52.226Z"
   },
   {
    "duration": 22,
    "start_time": "2024-11-24T17:24:52.481Z"
   },
   {
    "duration": 17,
    "start_time": "2024-11-24T17:24:52.999Z"
   },
   {
    "duration": 12,
    "start_time": "2024-11-24T17:24:53.430Z"
   },
   {
    "duration": 312,
    "start_time": "2024-11-24T17:24:53.816Z"
   },
   {
    "duration": 494,
    "start_time": "2024-11-24T17:24:55.259Z"
   },
   {
    "duration": 627,
    "start_time": "2024-11-24T17:43:23.518Z"
   },
   {
    "duration": 61,
    "start_time": "2024-11-24T17:43:24.147Z"
   },
   {
    "duration": 31,
    "start_time": "2024-11-24T17:43:24.487Z"
   },
   {
    "duration": 14,
    "start_time": "2024-11-24T17:43:24.954Z"
   },
   {
    "duration": 24,
    "start_time": "2024-11-24T17:43:25.568Z"
   },
   {
    "duration": 7,
    "start_time": "2024-11-24T17:43:25.979Z"
   },
   {
    "duration": 13,
    "start_time": "2024-11-24T17:43:26.180Z"
   },
   {
    "duration": 4,
    "start_time": "2024-11-24T17:43:26.796Z"
   },
   {
    "duration": 3,
    "start_time": "2024-11-24T17:43:27.036Z"
   },
   {
    "duration": 78,
    "start_time": "2024-11-24T17:43:27.237Z"
   },
   {
    "duration": 7,
    "start_time": "2024-11-24T17:43:27.439Z"
   },
   {
    "duration": 112,
    "start_time": "2024-11-24T17:43:27.923Z"
   },
   {
    "duration": 96,
    "start_time": "2024-11-24T17:43:28.125Z"
   },
   {
    "duration": 4,
    "start_time": "2024-11-24T17:43:28.554Z"
   },
   {
    "duration": 4,
    "start_time": "2024-11-24T17:43:28.789Z"
   },
   {
    "duration": 1416,
    "start_time": "2024-11-24T17:43:29.252Z"
   },
   {
    "duration": 5,
    "start_time": "2024-11-24T17:43:30.670Z"
   },
   {
    "duration": 19,
    "start_time": "2024-11-24T17:43:30.677Z"
   },
   {
    "duration": 193,
    "start_time": "2024-11-24T17:43:30.699Z"
   },
   {
    "duration": 127,
    "start_time": "2024-11-24T17:43:31.094Z"
   },
   {
    "duration": 85,
    "start_time": "2024-11-24T17:43:31.300Z"
   },
   {
    "duration": 3,
    "start_time": "2024-11-24T17:43:32.859Z"
   },
   {
    "duration": 27,
    "start_time": "2024-11-24T17:43:33.142Z"
   },
   {
    "duration": 165,
    "start_time": "2024-11-24T17:43:33.656Z"
   },
   {
    "duration": 178,
    "start_time": "2024-11-24T17:43:33.964Z"
   },
   {
    "duration": 19,
    "start_time": "2024-11-24T17:43:34.421Z"
   },
   {
    "duration": 20,
    "start_time": "2024-11-24T17:43:34.726Z"
   },
   {
    "duration": 20,
    "start_time": "2024-11-24T17:43:34.986Z"
   },
   {
    "duration": 13,
    "start_time": "2024-11-24T17:43:35.415Z"
   },
   {
    "duration": 27,
    "start_time": "2024-11-24T17:43:35.910Z"
   },
   {
    "duration": 45,
    "start_time": "2024-11-24T17:43:36.434Z"
   },
   {
    "duration": 14,
    "start_time": "2024-11-24T17:43:36.934Z"
   },
   {
    "duration": 145,
    "start_time": "2024-11-24T17:43:37.587Z"
   },
   {
    "duration": 10,
    "start_time": "2024-11-24T17:43:38.159Z"
   },
   {
    "duration": 6906,
    "start_time": "2024-11-24T17:43:38.407Z"
   },
   {
    "duration": 13,
    "start_time": "2024-11-24T17:43:45.314Z"
   },
   {
    "duration": 85,
    "start_time": "2024-11-24T17:43:45.329Z"
   },
   {
    "duration": 7,
    "start_time": "2024-11-24T17:43:45.416Z"
   },
   {
    "duration": 22,
    "start_time": "2024-11-24T17:43:45.425Z"
   },
   {
    "duration": 91,
    "start_time": "2024-11-24T17:43:45.449Z"
   },
   {
    "duration": 11,
    "start_time": "2024-11-24T17:43:45.541Z"
   },
   {
    "duration": 18,
    "start_time": "2024-11-24T17:43:45.553Z"
   },
   {
    "duration": 13,
    "start_time": "2024-11-24T17:43:45.573Z"
   },
   {
    "duration": 325,
    "start_time": "2024-11-24T17:43:45.588Z"
   },
   {
    "duration": 18,
    "start_time": "2024-11-24T17:43:45.914Z"
   },
   {
    "duration": 305,
    "start_time": "2024-11-24T17:43:45.934Z"
   },
   {
    "duration": 36,
    "start_time": "2024-11-24T17:43:46.241Z"
   },
   {
    "duration": 10,
    "start_time": "2024-11-24T17:43:46.279Z"
   },
   {
    "duration": 51,
    "start_time": "2024-11-24T17:43:46.290Z"
   },
   {
    "duration": 93,
    "start_time": "2024-11-24T17:43:46.342Z"
   },
   {
    "duration": 213,
    "start_time": "2024-11-24T17:43:46.436Z"
   },
   {
    "duration": 103,
    "start_time": "2024-11-24T17:43:46.650Z"
   },
   {
    "duration": 66,
    "start_time": "2024-11-24T17:43:54.583Z"
   },
   {
    "duration": 52,
    "start_time": "2024-11-24T17:43:54.854Z"
   },
   {
    "duration": 431,
    "start_time": "2024-11-24T17:43:55.066Z"
   },
   {
    "duration": 35,
    "start_time": "2024-11-24T17:43:55.776Z"
   },
   {
    "duration": 383,
    "start_time": "2024-11-24T17:43:56.008Z"
   },
   {
    "duration": 100,
    "start_time": "2024-11-24T17:43:57.211Z"
   },
   {
    "duration": 67,
    "start_time": "2024-11-24T17:43:57.410Z"
   },
   {
    "duration": 478,
    "start_time": "2024-11-24T17:43:57.631Z"
   },
   {
    "duration": 46,
    "start_time": "2024-11-24T17:43:58.983Z"
   },
   {
    "duration": 10,
    "start_time": "2024-11-24T17:43:59.494Z"
   },
   {
    "duration": 11,
    "start_time": "2024-11-24T17:43:59.719Z"
   },
   {
    "duration": 6,
    "start_time": "2024-11-24T17:43:59.990Z"
   },
   {
    "duration": 7,
    "start_time": "2024-11-24T17:44:00.218Z"
   },
   {
    "duration": 3,
    "start_time": "2024-11-24T17:44:00.485Z"
   },
   {
    "duration": 56,
    "start_time": "2024-11-24T17:44:01.406Z"
   },
   {
    "duration": 6,
    "start_time": "2024-11-24T17:44:02.225Z"
   },
   {
    "duration": 16,
    "start_time": "2024-11-24T17:44:02.456Z"
   },
   {
    "duration": 12,
    "start_time": "2024-11-24T17:44:02.675Z"
   },
   {
    "duration": 17,
    "start_time": "2024-11-24T17:44:02.887Z"
   },
   {
    "duration": 9,
    "start_time": "2024-11-24T17:44:03.148Z"
   },
   {
    "duration": 9,
    "start_time": "2024-11-24T17:44:03.356Z"
   },
   {
    "duration": 87,
    "start_time": "2024-11-24T17:44:04.926Z"
   },
   {
    "duration": 81,
    "start_time": "2024-11-24T17:44:05.195Z"
   },
   {
    "duration": 98,
    "start_time": "2024-11-24T17:44:05.400Z"
   },
   {
    "duration": 131,
    "start_time": "2024-11-24T17:44:05.710Z"
   },
   {
    "duration": 14,
    "start_time": "2024-11-24T17:44:06.420Z"
   },
   {
    "duration": 18,
    "start_time": "2024-11-24T17:44:06.662Z"
   },
   {
    "duration": 94,
    "start_time": "2024-11-24T17:44:06.933Z"
   },
   {
    "duration": 19,
    "start_time": "2024-11-24T17:44:07.451Z"
   },
   {
    "duration": 5,
    "start_time": "2024-11-24T17:44:07.704Z"
   },
   {
    "duration": 18,
    "start_time": "2024-11-24T17:44:08.273Z"
   },
   {
    "duration": 27,
    "start_time": "2024-11-24T17:44:08.516Z"
   },
   {
    "duration": 21,
    "start_time": "2024-11-24T17:44:08.778Z"
   },
   {
    "duration": 12,
    "start_time": "2024-11-24T17:44:09.087Z"
   },
   {
    "duration": 10,
    "start_time": "2024-11-24T17:44:09.392Z"
   },
   {
    "duration": 22,
    "start_time": "2024-11-24T17:44:09.639Z"
   },
   {
    "duration": 17,
    "start_time": "2024-11-24T17:44:09.907Z"
   },
   {
    "duration": 14,
    "start_time": "2024-11-24T17:44:10.164Z"
   },
   {
    "duration": 294,
    "start_time": "2024-11-24T17:44:10.524Z"
   },
   {
    "duration": 69,
    "start_time": "2024-11-24T17:44:11.138Z"
   },
   {
    "duration": 944,
    "start_time": "2024-11-25T04:38:00.431Z"
   },
   {
    "duration": 132,
    "start_time": "2024-11-25T04:38:02.204Z"
   },
   {
    "duration": 25,
    "start_time": "2024-11-25T04:38:02.660Z"
   },
   {
    "duration": 9,
    "start_time": "2024-11-25T04:38:03.076Z"
   },
   {
    "duration": 18,
    "start_time": "2024-11-25T04:38:03.701Z"
   },
   {
    "duration": 5,
    "start_time": "2024-11-25T04:38:04.116Z"
   },
   {
    "duration": 9,
    "start_time": "2024-11-25T04:38:04.346Z"
   },
   {
    "duration": 3,
    "start_time": "2024-11-25T04:38:05.022Z"
   },
   {
    "duration": 4,
    "start_time": "2024-11-25T04:38:05.226Z"
   },
   {
    "duration": 101,
    "start_time": "2024-11-25T04:38:05.429Z"
   },
   {
    "duration": 6,
    "start_time": "2024-11-25T04:38:05.633Z"
   },
   {
    "duration": 111,
    "start_time": "2024-11-25T04:38:06.244Z"
   },
   {
    "duration": 105,
    "start_time": "2024-11-25T04:38:06.455Z"
   },
   {
    "duration": 4,
    "start_time": "2024-11-25T04:38:06.899Z"
   },
   {
    "duration": 4,
    "start_time": "2024-11-25T04:38:07.166Z"
   },
   {
    "duration": 1410,
    "start_time": "2024-11-25T04:38:07.614Z"
   },
   {
    "duration": 6,
    "start_time": "2024-11-25T04:38:09.025Z"
   },
   {
    "duration": 10,
    "start_time": "2024-11-25T04:38:09.032Z"
   },
   {
    "duration": 80,
    "start_time": "2024-11-25T04:38:09.056Z"
   },
   {
    "duration": 131,
    "start_time": "2024-11-25T04:38:09.541Z"
   },
   {
    "duration": 82,
    "start_time": "2024-11-25T04:38:09.770Z"
   },
   {
    "duration": 5,
    "start_time": "2024-11-25T04:38:11.374Z"
   },
   {
    "duration": 27,
    "start_time": "2024-11-25T04:38:11.676Z"
   },
   {
    "duration": 1080,
    "start_time": "2024-11-25T04:38:12.186Z"
   },
   {
    "duration": 172,
    "start_time": "2024-11-25T04:38:13.268Z"
   },
   {
    "duration": 19,
    "start_time": "2024-11-25T04:38:13.442Z"
   },
   {
    "duration": 18,
    "start_time": "2024-11-25T04:38:13.463Z"
   },
   {
    "duration": 31,
    "start_time": "2024-11-25T04:38:13.516Z"
   },
   {
    "duration": 18,
    "start_time": "2024-11-25T04:38:14.335Z"
   },
   {
    "duration": 30,
    "start_time": "2024-11-25T04:38:14.768Z"
   },
   {
    "duration": 49,
    "start_time": "2024-11-25T04:38:15.267Z"
   },
   {
    "duration": 11,
    "start_time": "2024-11-25T04:38:15.770Z"
   },
   {
    "duration": 49,
    "start_time": "2024-11-25T04:38:16.383Z"
   },
   {
    "duration": 9,
    "start_time": "2024-11-25T04:38:16.893Z"
   },
   {
    "duration": 6303,
    "start_time": "2024-11-25T04:38:17.105Z"
   },
   {
    "duration": 9,
    "start_time": "2024-11-25T04:38:23.410Z"
   },
   {
    "duration": 51,
    "start_time": "2024-11-25T04:38:23.421Z"
   },
   {
    "duration": 9,
    "start_time": "2024-11-25T04:38:23.475Z"
   },
   {
    "duration": 33,
    "start_time": "2024-11-25T04:38:23.485Z"
   },
   {
    "duration": 45,
    "start_time": "2024-11-25T04:38:23.520Z"
   },
   {
    "duration": 10,
    "start_time": "2024-11-25T04:38:23.567Z"
   },
   {
    "duration": 29,
    "start_time": "2024-11-25T04:38:23.578Z"
   },
   {
    "duration": 9,
    "start_time": "2024-11-25T04:38:23.609Z"
   },
   {
    "duration": 271,
    "start_time": "2024-11-25T04:38:23.620Z"
   },
   {
    "duration": 23,
    "start_time": "2024-11-25T04:38:23.893Z"
   },
   {
    "duration": 258,
    "start_time": "2024-11-25T04:38:23.918Z"
   },
   {
    "duration": 43,
    "start_time": "2024-11-25T04:38:24.178Z"
   },
   {
    "duration": 9,
    "start_time": "2024-11-25T04:38:24.223Z"
   },
   {
    "duration": 32,
    "start_time": "2024-11-25T04:38:24.233Z"
   },
   {
    "duration": 87,
    "start_time": "2024-11-25T04:38:24.267Z"
   },
   {
    "duration": 115,
    "start_time": "2024-11-25T04:38:24.356Z"
   },
   {
    "duration": 94,
    "start_time": "2024-11-25T04:38:24.472Z"
   },
   {
    "duration": 37,
    "start_time": "2024-11-25T04:38:26.972Z"
   },
   {
    "duration": 49,
    "start_time": "2024-11-25T04:38:27.187Z"
   },
   {
    "duration": 318,
    "start_time": "2024-11-25T04:38:27.443Z"
   },
   {
    "duration": 30,
    "start_time": "2024-11-25T04:38:28.163Z"
   },
   {
    "duration": 307,
    "start_time": "2024-11-25T04:38:28.368Z"
   },
   {
    "duration": 76,
    "start_time": "2024-11-25T04:38:29.593Z"
   },
   {
    "duration": 79,
    "start_time": "2024-11-25T04:38:29.810Z"
   },
   {
    "duration": 400,
    "start_time": "2024-11-25T04:38:30.046Z"
   },
   {
    "duration": 40,
    "start_time": "2024-11-25T04:38:31.547Z"
   },
   {
    "duration": 8,
    "start_time": "2024-11-25T04:38:32.062Z"
   },
   {
    "duration": 8,
    "start_time": "2024-11-25T04:38:32.285Z"
   },
   {
    "duration": 8,
    "start_time": "2024-11-25T04:38:32.567Z"
   },
   {
    "duration": 7,
    "start_time": "2024-11-25T04:38:32.872Z"
   },
   {
    "duration": 3,
    "start_time": "2024-11-25T04:38:33.080Z"
   },
   {
    "duration": 63,
    "start_time": "2024-11-25T04:38:34.102Z"
   },
   {
    "duration": 5,
    "start_time": "2024-11-25T04:38:34.919Z"
   },
   {
    "duration": 14,
    "start_time": "2024-11-25T04:38:35.154Z"
   },
   {
    "duration": 7,
    "start_time": "2024-11-25T04:38:35.430Z"
   },
   {
    "duration": 14,
    "start_time": "2024-11-25T04:38:35.662Z"
   },
   {
    "duration": 9,
    "start_time": "2024-11-25T04:38:35.942Z"
   },
   {
    "duration": 8,
    "start_time": "2024-11-25T04:38:36.181Z"
   },
   {
    "duration": 148,
    "start_time": "2024-11-25T04:38:38.094Z"
   },
   {
    "duration": 73,
    "start_time": "2024-11-25T04:38:38.330Z"
   },
   {
    "duration": 89,
    "start_time": "2024-11-25T04:38:38.604Z"
   },
   {
    "duration": 102,
    "start_time": "2024-11-25T04:38:38.909Z"
   },
   {
    "duration": 12,
    "start_time": "2024-11-25T04:38:39.659Z"
   },
   {
    "duration": 19,
    "start_time": "2024-11-25T04:38:39.953Z"
   },
   {
    "duration": 82,
    "start_time": "2024-11-25T04:38:40.241Z"
   },
   {
    "duration": 16,
    "start_time": "2024-11-25T04:38:40.759Z"
   },
   {
    "duration": 5,
    "start_time": "2024-11-25T04:38:41.061Z"
   },
   {
    "duration": 24,
    "start_time": "2024-11-25T04:38:41.572Z"
   },
   {
    "duration": 34,
    "start_time": "2024-11-25T04:38:41.826Z"
   },
   {
    "duration": 18,
    "start_time": "2024-11-25T04:38:42.015Z"
   },
   {
    "duration": 10,
    "start_time": "2024-11-25T04:38:42.290Z"
   },
   {
    "duration": 9,
    "start_time": "2024-11-25T04:38:42.498Z"
   },
   {
    "duration": 19,
    "start_time": "2024-11-25T04:38:42.740Z"
   },
   {
    "duration": 20,
    "start_time": "2024-11-25T04:38:43.009Z"
   },
   {
    "duration": 12,
    "start_time": "2024-11-25T04:38:43.244Z"
   },
   {
    "duration": 248,
    "start_time": "2024-11-25T04:38:43.983Z"
   },
   {
    "duration": 420,
    "start_time": "2024-11-25T04:38:44.863Z"
   },
   {
    "duration": 49,
    "start_time": "2024-11-25T04:41:51.062Z"
   },
   {
    "duration": 25,
    "start_time": "2024-11-25T04:42:33.337Z"
   },
   {
    "duration": 26,
    "start_time": "2024-11-25T04:43:19.592Z"
   },
   {
    "duration": 16,
    "start_time": "2024-11-25T04:45:01.688Z"
   },
   {
    "duration": 14,
    "start_time": "2024-11-25T04:55:59.942Z"
   },
   {
    "duration": 15,
    "start_time": "2024-11-25T04:56:32.483Z"
   },
   {
    "duration": 2053,
    "start_time": "2024-11-25T04:58:57.365Z"
   },
   {
    "duration": 9,
    "start_time": "2024-11-25T05:02:54.538Z"
   },
   {
    "duration": 11,
    "start_time": "2024-11-25T05:04:15.528Z"
   },
   {
    "duration": 13,
    "start_time": "2024-11-25T05:04:38.873Z"
   },
   {
    "duration": 83,
    "start_time": "2024-11-25T05:11:19.791Z"
   },
   {
    "duration": 87,
    "start_time": "2024-11-25T05:12:12.036Z"
   },
   {
    "duration": 234,
    "start_time": "2024-11-25T05:12:42.612Z"
   },
   {
    "duration": 92,
    "start_time": "2024-11-25T05:13:38.267Z"
   },
   {
    "duration": 93,
    "start_time": "2024-11-25T05:14:04.019Z"
   },
   {
    "duration": 127,
    "start_time": "2024-11-25T05:14:57.699Z"
   },
   {
    "duration": 166,
    "start_time": "2024-11-25T05:16:14.009Z"
   },
   {
    "duration": 34,
    "start_time": "2024-11-25T05:16:23.307Z"
   },
   {
    "duration": 54,
    "start_time": "2024-11-25T05:16:51.749Z"
   },
   {
    "duration": 17,
    "start_time": "2024-11-25T05:17:18.789Z"
   },
   {
    "duration": 24,
    "start_time": "2024-11-25T05:17:41.609Z"
   },
   {
    "duration": 17,
    "start_time": "2024-11-25T05:18:27.930Z"
   },
   {
    "duration": 28,
    "start_time": "2024-11-25T05:18:41.147Z"
   },
   {
    "duration": 18,
    "start_time": "2024-11-25T05:19:28.426Z"
   },
   {
    "duration": 7,
    "start_time": "2024-11-25T05:19:49.338Z"
   },
   {
    "duration": 13,
    "start_time": "2024-11-25T05:19:58.347Z"
   },
   {
    "duration": 14,
    "start_time": "2024-11-25T05:19:59.381Z"
   },
   {
    "duration": 5,
    "start_time": "2024-11-25T05:20:04.965Z"
   },
   {
    "duration": 23,
    "start_time": "2024-11-25T05:21:56.390Z"
   },
   {
    "duration": 14,
    "start_time": "2024-11-25T05:22:24.851Z"
   },
   {
    "duration": 12,
    "start_time": "2024-11-25T05:22:44.961Z"
   },
   {
    "duration": 12,
    "start_time": "2024-11-25T05:23:06.935Z"
   },
   {
    "duration": 10,
    "start_time": "2024-11-25T05:23:09.398Z"
   },
   {
    "duration": 7,
    "start_time": "2024-11-25T05:24:09.807Z"
   },
   {
    "duration": 51,
    "start_time": "2024-11-25T05:26:58.361Z"
   },
   {
    "duration": 66,
    "start_time": "2024-11-25T05:27:09.962Z"
   },
   {
    "duration": 75,
    "start_time": "2024-11-25T05:27:31.331Z"
   },
   {
    "duration": 47,
    "start_time": "2024-11-25T05:27:45.464Z"
   },
   {
    "duration": 4,
    "start_time": "2024-11-25T05:28:01.130Z"
   },
   {
    "duration": 558,
    "start_time": "2024-11-25T05:30:09.478Z"
   },
   {
    "duration": 48,
    "start_time": "2024-11-25T05:30:10.038Z"
   },
   {
    "duration": 24,
    "start_time": "2024-11-25T05:30:10.088Z"
   },
   {
    "duration": 11,
    "start_time": "2024-11-25T05:30:10.461Z"
   },
   {
    "duration": 18,
    "start_time": "2024-11-25T05:30:11.179Z"
   },
   {
    "duration": 5,
    "start_time": "2024-11-25T05:30:11.587Z"
   },
   {
    "duration": 10,
    "start_time": "2024-11-25T05:30:11.829Z"
   },
   {
    "duration": 3,
    "start_time": "2024-11-25T05:30:12.443Z"
   },
   {
    "duration": 4,
    "start_time": "2024-11-25T05:30:12.660Z"
   },
   {
    "duration": 70,
    "start_time": "2024-11-25T05:30:12.838Z"
   },
   {
    "duration": 8,
    "start_time": "2024-11-25T05:30:13.044Z"
   },
   {
    "duration": 86,
    "start_time": "2024-11-25T05:30:13.435Z"
   },
   {
    "duration": 88,
    "start_time": "2024-11-25T05:30:13.637Z"
   },
   {
    "duration": 4,
    "start_time": "2024-11-25T05:30:14.044Z"
   },
   {
    "duration": 4,
    "start_time": "2024-11-25T05:30:14.247Z"
   },
   {
    "duration": 1392,
    "start_time": "2024-11-25T05:30:14.659Z"
   },
   {
    "duration": 5,
    "start_time": "2024-11-25T05:30:16.053Z"
   },
   {
    "duration": 8,
    "start_time": "2024-11-25T05:30:16.059Z"
   },
   {
    "duration": 73,
    "start_time": "2024-11-25T05:30:16.069Z"
   },
   {
    "duration": 112,
    "start_time": "2024-11-25T05:30:16.399Z"
   },
   {
    "duration": 75,
    "start_time": "2024-11-25T05:30:16.605Z"
   },
   {
    "duration": 3,
    "start_time": "2024-11-25T05:30:17.948Z"
   },
   {
    "duration": 24,
    "start_time": "2024-11-25T05:30:18.178Z"
   },
   {
    "duration": 132,
    "start_time": "2024-11-25T05:30:18.654Z"
   },
   {
    "duration": 164,
    "start_time": "2024-11-25T05:30:18.857Z"
   },
   {
    "duration": 18,
    "start_time": "2024-11-25T05:30:19.305Z"
   },
   {
    "duration": 18,
    "start_time": "2024-11-25T05:30:19.580Z"
   },
   {
    "duration": 18,
    "start_time": "2024-11-25T05:30:19.817Z"
   },
   {
    "duration": 11,
    "start_time": "2024-11-25T05:30:20.299Z"
   },
   {
    "duration": 30,
    "start_time": "2024-11-25T05:30:20.802Z"
   },
   {
    "duration": 36,
    "start_time": "2024-11-25T05:30:21.317Z"
   },
   {
    "duration": 10,
    "start_time": "2024-11-25T05:30:21.829Z"
   },
   {
    "duration": 51,
    "start_time": "2024-11-25T05:30:22.294Z"
   },
   {
    "duration": 9,
    "start_time": "2024-11-25T05:30:22.804Z"
   },
   {
    "duration": 6086,
    "start_time": "2024-11-25T05:30:23.079Z"
   },
   {
    "duration": 12,
    "start_time": "2024-11-25T05:30:29.168Z"
   },
   {
    "duration": 46,
    "start_time": "2024-11-25T05:30:29.181Z"
   },
   {
    "duration": 9,
    "start_time": "2024-11-25T05:30:29.229Z"
   },
   {
    "duration": 6,
    "start_time": "2024-11-25T05:30:29.240Z"
   },
   {
    "duration": 40,
    "start_time": "2024-11-25T05:30:29.248Z"
   },
   {
    "duration": 11,
    "start_time": "2024-11-25T05:30:29.307Z"
   },
   {
    "duration": 15,
    "start_time": "2024-11-25T05:30:29.319Z"
   },
   {
    "duration": 27,
    "start_time": "2024-11-25T05:30:29.335Z"
   },
   {
    "duration": 248,
    "start_time": "2024-11-25T05:30:29.365Z"
   },
   {
    "duration": 15,
    "start_time": "2024-11-25T05:30:29.614Z"
   },
   {
    "duration": 235,
    "start_time": "2024-11-25T05:30:29.716Z"
   },
   {
    "duration": 39,
    "start_time": "2024-11-25T05:30:30.463Z"
   },
   {
    "duration": 13,
    "start_time": "2024-11-25T05:30:30.940Z"
   },
   {
    "duration": 31,
    "start_time": "2024-11-25T05:30:31.451Z"
   },
   {
    "duration": 77,
    "start_time": "2024-11-25T05:30:32.002Z"
   },
   {
    "duration": 200,
    "start_time": "2024-11-25T05:30:32.483Z"
   },
   {
    "duration": 84,
    "start_time": "2024-11-25T05:30:33.120Z"
   },
   {
    "duration": 37,
    "start_time": "2024-11-25T05:30:36.273Z"
   },
   {
    "duration": 30,
    "start_time": "2024-11-25T05:30:36.572Z"
   },
   {
    "duration": 317,
    "start_time": "2024-11-25T05:30:36.808Z"
   },
   {
    "duration": 29,
    "start_time": "2024-11-25T05:30:37.513Z"
   },
   {
    "duration": 334,
    "start_time": "2024-11-25T05:30:37.708Z"
   },
   {
    "duration": 73,
    "start_time": "2024-11-25T05:30:39.032Z"
   },
   {
    "duration": 61,
    "start_time": "2024-11-25T05:30:39.243Z"
   },
   {
    "duration": 382,
    "start_time": "2024-11-25T05:30:39.467Z"
   },
   {
    "duration": 35,
    "start_time": "2024-11-25T05:30:40.873Z"
   },
   {
    "duration": 9,
    "start_time": "2024-11-25T05:30:41.318Z"
   },
   {
    "duration": 10,
    "start_time": "2024-11-25T05:30:41.542Z"
   },
   {
    "duration": 6,
    "start_time": "2024-11-25T05:30:41.803Z"
   },
   {
    "duration": 6,
    "start_time": "2024-11-25T05:30:42.033Z"
   },
   {
    "duration": 4,
    "start_time": "2024-11-25T05:30:42.305Z"
   },
   {
    "duration": 57,
    "start_time": "2024-11-25T05:30:43.232Z"
   },
   {
    "duration": 5,
    "start_time": "2024-11-25T05:30:43.899Z"
   },
   {
    "duration": 15,
    "start_time": "2024-11-25T05:30:44.152Z"
   },
   {
    "duration": 6,
    "start_time": "2024-11-25T05:30:44.357Z"
   },
   {
    "duration": 15,
    "start_time": "2024-11-25T05:30:44.561Z"
   },
   {
    "duration": 9,
    "start_time": "2024-11-25T05:30:44.770Z"
   },
   {
    "duration": 9,
    "start_time": "2024-11-25T05:30:45.012Z"
   },
   {
    "duration": 79,
    "start_time": "2024-11-25T05:30:46.443Z"
   },
   {
    "duration": 74,
    "start_time": "2024-11-25T05:30:46.655Z"
   },
   {
    "duration": 92,
    "start_time": "2024-11-25T05:30:46.917Z"
   },
   {
    "duration": 101,
    "start_time": "2024-11-25T05:30:47.120Z"
   },
   {
    "duration": 16,
    "start_time": "2024-11-25T05:30:47.837Z"
   },
   {
    "duration": 19,
    "start_time": "2024-11-25T05:30:48.080Z"
   },
   {
    "duration": 85,
    "start_time": "2024-11-25T05:30:48.303Z"
   },
   {
    "duration": 17,
    "start_time": "2024-11-25T05:30:48.770Z"
   },
   {
    "duration": 4,
    "start_time": "2024-11-25T05:30:49.013Z"
   },
   {
    "duration": 16,
    "start_time": "2024-11-25T05:30:49.477Z"
   },
   {
    "duration": 24,
    "start_time": "2024-11-25T05:30:49.711Z"
   },
   {
    "duration": 16,
    "start_time": "2024-11-25T05:30:49.935Z"
   },
   {
    "duration": 9,
    "start_time": "2024-11-25T05:30:50.191Z"
   },
   {
    "duration": 9,
    "start_time": "2024-11-25T05:30:50.395Z"
   },
   {
    "duration": 19,
    "start_time": "2024-11-25T05:30:50.632Z"
   },
   {
    "duration": 15,
    "start_time": "2024-11-25T05:30:50.907Z"
   },
   {
    "duration": 10,
    "start_time": "2024-11-25T05:30:51.134Z"
   },
   {
    "duration": 234,
    "start_time": "2024-11-25T05:30:51.422Z"
   },
   {
    "duration": 70,
    "start_time": "2024-11-25T05:30:51.658Z"
   },
   {
    "duration": 40,
    "start_time": "2024-11-25T05:30:55.008Z"
   },
   {
    "duration": 22,
    "start_time": "2024-11-25T05:30:55.210Z"
   },
   {
    "duration": 17,
    "start_time": "2024-11-25T05:30:55.448Z"
   },
   {
    "duration": 7,
    "start_time": "2024-11-25T05:30:55.722Z"
   },
   {
    "duration": 13,
    "start_time": "2024-11-25T05:30:55.952Z"
   },
   {
    "duration": 12,
    "start_time": "2024-11-25T05:30:56.235Z"
   },
   {
    "duration": 7,
    "start_time": "2024-11-25T05:30:56.677Z"
   },
   {
    "duration": 11,
    "start_time": "2024-11-25T05:30:57.463Z"
   },
   {
    "duration": 9,
    "start_time": "2024-11-25T05:30:57.693Z"
   },
   {
    "duration": 60,
    "start_time": "2024-11-25T05:30:58.799Z"
   },
   {
    "duration": 56,
    "start_time": "2024-11-25T05:30:59.021Z"
   },
   {
    "duration": 5,
    "start_time": "2024-11-25T05:30:59.257Z"
   },
   {
    "duration": 6,
    "start_time": "2024-11-25T05:30:59.514Z"
   },
   {
    "duration": 167,
    "start_time": "2024-11-25T05:32:45.952Z"
   },
   {
    "duration": 537,
    "start_time": "2024-11-25T05:32:59.730Z"
   },
   {
    "duration": 180,
    "start_time": "2024-11-25T05:33:05.568Z"
   },
   {
    "duration": 156,
    "start_time": "2024-11-25T05:33:15.603Z"
   },
   {
    "duration": 183,
    "start_time": "2024-11-25T05:33:20.536Z"
   },
   {
    "duration": 172,
    "start_time": "2024-11-25T05:33:38.779Z"
   },
   {
    "duration": 69,
    "start_time": "2024-11-25T05:34:55.544Z"
   },
   {
    "duration": 195,
    "start_time": "2024-11-25T05:35:04.761Z"
   },
   {
    "duration": 189,
    "start_time": "2024-11-25T05:35:08.552Z"
   },
   {
    "duration": 11,
    "start_time": "2024-11-25T05:38:58.589Z"
   },
   {
    "duration": 15,
    "start_time": "2024-11-25T05:39:02.969Z"
   },
   {
    "duration": 47,
    "start_time": "2024-11-25T05:39:51.776Z"
   },
   {
    "duration": 25,
    "start_time": "2024-11-25T05:40:03.137Z"
   },
   {
    "duration": 1120,
    "start_time": "2024-11-25T05:40:49.790Z"
   },
   {
    "duration": 1231,
    "start_time": "2024-11-25T05:41:06.838Z"
   },
   {
    "duration": 1161,
    "start_time": "2024-11-25T05:41:09.142Z"
   },
   {
    "duration": 1198,
    "start_time": "2024-11-25T05:41:29.702Z"
   },
   {
    "duration": 1125,
    "start_time": "2024-11-25T05:41:41.653Z"
   },
   {
    "duration": 1493,
    "start_time": "2024-11-25T05:41:56.653Z"
   },
   {
    "duration": 40,
    "start_time": "2024-11-25T05:42:43.100Z"
   },
   {
    "duration": 55,
    "start_time": "2024-11-25T05:43:01.581Z"
   },
   {
    "duration": 41,
    "start_time": "2024-11-25T05:43:29.797Z"
   },
   {
    "duration": 41,
    "start_time": "2024-11-25T05:43:46.168Z"
   },
   {
    "duration": 550,
    "start_time": "2024-11-25T05:45:08.928Z"
   },
   {
    "duration": 95,
    "start_time": "2024-11-25T05:45:09.480Z"
   },
   {
    "duration": 22,
    "start_time": "2024-11-25T05:45:09.618Z"
   },
   {
    "duration": 9,
    "start_time": "2024-11-25T05:45:10.055Z"
   },
   {
    "duration": 29,
    "start_time": "2024-11-25T05:45:10.692Z"
   },
   {
    "duration": 6,
    "start_time": "2024-11-25T05:45:11.153Z"
   },
   {
    "duration": 11,
    "start_time": "2024-11-25T05:45:11.356Z"
   },
   {
    "duration": 4,
    "start_time": "2024-11-25T05:45:12.029Z"
   },
   {
    "duration": 3,
    "start_time": "2024-11-25T05:45:12.254Z"
   },
   {
    "duration": 101,
    "start_time": "2024-11-25T05:45:12.484Z"
   },
   {
    "duration": 7,
    "start_time": "2024-11-25T05:45:12.687Z"
   },
   {
    "duration": 91,
    "start_time": "2024-11-25T05:45:13.119Z"
   },
   {
    "duration": 71,
    "start_time": "2024-11-25T05:45:13.313Z"
   },
   {
    "duration": 4,
    "start_time": "2024-11-25T05:45:13.756Z"
   },
   {
    "duration": 4,
    "start_time": "2024-11-25T05:45:13.970Z"
   },
   {
    "duration": 1424,
    "start_time": "2024-11-25T05:45:14.446Z"
   },
   {
    "duration": 5,
    "start_time": "2024-11-25T05:45:15.871Z"
   },
   {
    "duration": 22,
    "start_time": "2024-11-25T05:45:15.877Z"
   },
   {
    "duration": 39,
    "start_time": "2024-11-25T05:45:15.901Z"
   },
   {
    "duration": 24,
    "start_time": "2024-11-25T05:45:16.022Z"
   },
   {
    "duration": 94,
    "start_time": "2024-11-25T05:45:16.503Z"
   },
   {
    "duration": 73,
    "start_time": "2024-11-25T05:45:16.745Z"
   },
   {
    "duration": 3,
    "start_time": "2024-11-25T05:45:18.187Z"
   },
   {
    "duration": 25,
    "start_time": "2024-11-25T05:45:18.428Z"
   },
   {
    "duration": 132,
    "start_time": "2024-11-25T05:45:18.862Z"
   },
   {
    "duration": 158,
    "start_time": "2024-11-25T05:45:19.101Z"
   },
   {
    "duration": 23,
    "start_time": "2024-11-25T05:45:19.643Z"
   },
   {
    "duration": 18,
    "start_time": "2024-11-25T05:45:19.861Z"
   },
   {
    "duration": 18,
    "start_time": "2024-11-25T05:45:20.118Z"
   },
   {
    "duration": 12,
    "start_time": "2024-11-25T05:45:20.623Z"
   },
   {
    "duration": 23,
    "start_time": "2024-11-25T05:45:21.112Z"
   },
   {
    "duration": 38,
    "start_time": "2024-11-25T05:45:21.632Z"
   },
   {
    "duration": 10,
    "start_time": "2024-11-25T05:45:22.163Z"
   },
   {
    "duration": 49,
    "start_time": "2024-11-25T05:45:22.765Z"
   },
   {
    "duration": 11,
    "start_time": "2024-11-25T05:45:23.271Z"
   },
   {
    "duration": 1166,
    "start_time": "2024-11-25T05:45:23.565Z"
   },
   {
    "duration": 1085,
    "start_time": "2024-11-25T05:45:24.733Z"
   },
   {
    "duration": 1233,
    "start_time": "2024-11-25T05:45:25.820Z"
   },
   {
    "duration": 1231,
    "start_time": "2024-11-25T05:45:27.055Z"
   },
   {
    "duration": 1357,
    "start_time": "2024-11-25T05:45:28.288Z"
   },
   {
    "duration": 9,
    "start_time": "2024-11-25T05:45:29.647Z"
   },
   {
    "duration": 48,
    "start_time": "2024-11-25T05:45:29.657Z"
   },
   {
    "duration": 12,
    "start_time": "2024-11-25T05:45:29.707Z"
   },
   {
    "duration": 32,
    "start_time": "2024-11-25T05:45:29.721Z"
   },
   {
    "duration": 38,
    "start_time": "2024-11-25T05:45:29.756Z"
   },
   {
    "duration": 22,
    "start_time": "2024-11-25T05:45:29.795Z"
   },
   {
    "duration": 38,
    "start_time": "2024-11-25T05:45:29.818Z"
   },
   {
    "duration": 46,
    "start_time": "2024-11-25T05:45:29.857Z"
   },
   {
    "duration": 279,
    "start_time": "2024-11-25T05:45:29.904Z"
   },
   {
    "duration": 22,
    "start_time": "2024-11-25T05:45:30.185Z"
   },
   {
    "duration": 269,
    "start_time": "2024-11-25T05:45:30.208Z"
   },
   {
    "duration": 30,
    "start_time": "2024-11-25T05:45:30.479Z"
   },
   {
    "duration": 45,
    "start_time": "2024-11-25T05:45:30.511Z"
   },
   {
    "duration": 79,
    "start_time": "2024-11-25T05:45:30.557Z"
   },
   {
    "duration": 83,
    "start_time": "2024-11-25T05:45:30.637Z"
   },
   {
    "duration": 95,
    "start_time": "2024-11-25T05:45:30.721Z"
   },
   {
    "duration": 104,
    "start_time": "2024-11-25T05:45:30.822Z"
   },
   {
    "duration": 34,
    "start_time": "2024-11-25T05:45:32.402Z"
   },
   {
    "duration": 41,
    "start_time": "2024-11-25T05:45:32.665Z"
   },
   {
    "duration": 320,
    "start_time": "2024-11-25T05:45:32.908Z"
   },
   {
    "duration": 29,
    "start_time": "2024-11-25T05:45:33.687Z"
   },
   {
    "duration": 382,
    "start_time": "2024-11-25T05:45:33.906Z"
   },
   {
    "duration": 118,
    "start_time": "2024-11-25T05:45:35.135Z"
   },
   {
    "duration": 80,
    "start_time": "2024-11-25T05:45:35.375Z"
   },
   {
    "duration": 362,
    "start_time": "2024-11-25T05:45:35.635Z"
   },
   {
    "duration": 42,
    "start_time": "2024-11-25T05:45:37.083Z"
   },
   {
    "duration": 9,
    "start_time": "2024-11-25T05:45:37.584Z"
   },
   {
    "duration": 10,
    "start_time": "2024-11-25T05:45:37.826Z"
   },
   {
    "duration": 7,
    "start_time": "2024-11-25T05:45:38.092Z"
   },
   {
    "duration": 6,
    "start_time": "2024-11-25T05:45:38.323Z"
   },
   {
    "duration": 4,
    "start_time": "2024-11-25T05:45:38.564Z"
   },
   {
    "duration": 56,
    "start_time": "2024-11-25T05:45:39.535Z"
   },
   {
    "duration": 5,
    "start_time": "2024-11-25T05:45:40.296Z"
   },
   {
    "duration": 13,
    "start_time": "2024-11-25T05:45:40.553Z"
   },
   {
    "duration": 9,
    "start_time": "2024-11-25T05:45:40.797Z"
   },
   {
    "duration": 18,
    "start_time": "2024-11-25T05:45:41.057Z"
   },
   {
    "duration": 9,
    "start_time": "2024-11-25T05:45:41.326Z"
   },
   {
    "duration": 10,
    "start_time": "2024-11-25T05:45:41.572Z"
   },
   {
    "duration": 83,
    "start_time": "2024-11-25T05:45:43.119Z"
   },
   {
    "duration": 101,
    "start_time": "2024-11-25T05:45:44.002Z"
   },
   {
    "duration": 117,
    "start_time": "2024-11-25T05:45:44.106Z"
   },
   {
    "duration": 109,
    "start_time": "2024-11-25T05:45:44.225Z"
   },
   {
    "duration": 15,
    "start_time": "2024-11-25T05:45:44.645Z"
   },
   {
    "duration": 17,
    "start_time": "2024-11-25T05:45:44.903Z"
   },
   {
    "duration": 78,
    "start_time": "2024-11-25T05:45:45.156Z"
   },
   {
    "duration": 10,
    "start_time": "2024-11-25T05:45:45.976Z"
   },
   {
    "duration": 5,
    "start_time": "2024-11-25T05:45:45.988Z"
   },
   {
    "duration": 19,
    "start_time": "2024-11-25T05:45:46.495Z"
   },
   {
    "duration": 23,
    "start_time": "2024-11-25T05:45:46.766Z"
   },
   {
    "duration": 16,
    "start_time": "2024-11-25T05:45:47.027Z"
   },
   {
    "duration": 12,
    "start_time": "2024-11-25T05:45:47.317Z"
   },
   {
    "duration": 10,
    "start_time": "2024-11-25T05:45:47.537Z"
   },
   {
    "duration": 19,
    "start_time": "2024-11-25T05:45:47.823Z"
   },
   {
    "duration": 15,
    "start_time": "2024-11-25T05:45:48.064Z"
   },
   {
    "duration": 9,
    "start_time": "2024-11-25T05:45:48.336Z"
   },
   {
    "duration": 240,
    "start_time": "2024-11-25T05:45:48.584Z"
   },
   {
    "duration": 58,
    "start_time": "2024-11-25T05:45:48.852Z"
   },
   {
    "duration": 47,
    "start_time": "2024-11-25T05:45:51.739Z"
   },
   {
    "duration": 22,
    "start_time": "2024-11-25T05:45:52.025Z"
   },
   {
    "duration": 19,
    "start_time": "2024-11-25T05:45:52.234Z"
   },
   {
    "duration": 6,
    "start_time": "2024-11-25T05:45:52.489Z"
   },
   {
    "duration": 13,
    "start_time": "2024-11-25T05:45:52.739Z"
   },
   {
    "duration": 169,
    "start_time": "2024-11-25T05:45:52.959Z"
   },
   {
    "duration": 14,
    "start_time": "2024-11-25T05:45:53.249Z"
   },
   {
    "duration": 169,
    "start_time": "2024-11-25T05:45:53.468Z"
   },
   {
    "duration": 5,
    "start_time": "2024-11-25T05:45:53.967Z"
   },
   {
    "duration": 11,
    "start_time": "2024-11-25T05:45:54.733Z"
   },
   {
    "duration": 11,
    "start_time": "2024-11-25T05:45:54.992Z"
   },
   {
    "duration": 60,
    "start_time": "2024-11-25T05:45:56.322Z"
   },
   {
    "duration": 53,
    "start_time": "2024-11-25T05:45:56.586Z"
   },
   {
    "duration": 4,
    "start_time": "2024-11-25T05:45:56.868Z"
   },
   {
    "duration": 8,
    "start_time": "2024-11-25T05:45:57.273Z"
   },
   {
    "duration": 364,
    "start_time": "2024-11-25T06:13:37.306Z"
   },
   {
    "duration": 389,
    "start_time": "2024-11-25T06:13:43.099Z"
   },
   {
    "duration": 514,
    "start_time": "2024-11-25T06:17:55.813Z"
   },
   {
    "duration": 58,
    "start_time": "2024-11-25T06:17:56.330Z"
   },
   {
    "duration": 23,
    "start_time": "2024-11-25T06:17:56.390Z"
   },
   {
    "duration": 9,
    "start_time": "2024-11-25T06:17:56.772Z"
   },
   {
    "duration": 19,
    "start_time": "2024-11-25T06:17:57.354Z"
   },
   {
    "duration": 5,
    "start_time": "2024-11-25T06:17:57.764Z"
   },
   {
    "duration": 9,
    "start_time": "2024-11-25T06:17:58.000Z"
   },
   {
    "duration": 3,
    "start_time": "2024-11-25T06:17:58.581Z"
   },
   {
    "duration": 4,
    "start_time": "2024-11-25T06:17:58.785Z"
   },
   {
    "duration": 91,
    "start_time": "2024-11-25T06:17:58.942Z"
   },
   {
    "duration": 6,
    "start_time": "2024-11-25T06:17:59.143Z"
   },
   {
    "duration": 79,
    "start_time": "2024-11-25T06:17:59.606Z"
   },
   {
    "duration": 69,
    "start_time": "2024-11-25T06:17:59.745Z"
   },
   {
    "duration": 4,
    "start_time": "2024-11-25T06:18:00.165Z"
   },
   {
    "duration": 5,
    "start_time": "2024-11-25T06:18:00.426Z"
   },
   {
    "duration": 1378,
    "start_time": "2024-11-25T06:18:00.847Z"
   },
   {
    "duration": 6,
    "start_time": "2024-11-25T06:18:02.228Z"
   },
   {
    "duration": 19,
    "start_time": "2024-11-25T06:18:02.236Z"
   },
   {
    "duration": 44,
    "start_time": "2024-11-25T06:18:02.257Z"
   },
   {
    "duration": 39,
    "start_time": "2024-11-25T06:18:02.308Z"
   },
   {
    "duration": 100,
    "start_time": "2024-11-25T06:18:02.675Z"
   },
   {
    "duration": 82,
    "start_time": "2024-11-25T06:18:02.900Z"
   },
   {
    "duration": 4,
    "start_time": "2024-11-25T06:18:04.212Z"
   },
   {
    "duration": 27,
    "start_time": "2024-11-25T06:18:04.415Z"
   },
   {
    "duration": 134,
    "start_time": "2024-11-25T06:18:04.831Z"
   },
   {
    "duration": 151,
    "start_time": "2024-11-25T06:18:05.059Z"
   },
   {
    "duration": 17,
    "start_time": "2024-11-25T06:18:05.488Z"
   },
   {
    "duration": 18,
    "start_time": "2024-11-25T06:18:05.685Z"
   },
   {
    "duration": 17,
    "start_time": "2024-11-25T06:18:05.960Z"
   },
   {
    "duration": 11,
    "start_time": "2024-11-25T06:18:06.385Z"
   },
   {
    "duration": 24,
    "start_time": "2024-11-25T06:18:06.785Z"
   },
   {
    "duration": 32,
    "start_time": "2024-11-25T06:18:07.285Z"
   },
   {
    "duration": 10,
    "start_time": "2024-11-25T06:18:07.691Z"
   },
   {
    "duration": 51,
    "start_time": "2024-11-25T06:18:08.125Z"
   },
   {
    "duration": 7,
    "start_time": "2024-11-25T06:18:08.611Z"
   },
   {
    "duration": 1101,
    "start_time": "2024-11-25T06:18:08.822Z"
   },
   {
    "duration": 1292,
    "start_time": "2024-11-25T06:18:09.924Z"
   },
   {
    "duration": 1296,
    "start_time": "2024-11-25T06:18:11.217Z"
   },
   {
    "duration": 1392,
    "start_time": "2024-11-25T06:18:12.515Z"
   },
   {
    "duration": 1424,
    "start_time": "2024-11-25T06:18:13.908Z"
   },
   {
    "duration": 9,
    "start_time": "2024-11-25T06:18:15.333Z"
   },
   {
    "duration": 58,
    "start_time": "2024-11-25T06:18:15.344Z"
   },
   {
    "duration": 7,
    "start_time": "2024-11-25T06:18:15.403Z"
   },
   {
    "duration": 22,
    "start_time": "2024-11-25T06:18:15.411Z"
   },
   {
    "duration": 37,
    "start_time": "2024-11-25T06:18:15.435Z"
   },
   {
    "duration": 15,
    "start_time": "2024-11-25T06:18:15.473Z"
   },
   {
    "duration": 42,
    "start_time": "2024-11-25T06:18:15.489Z"
   },
   {
    "duration": 28,
    "start_time": "2024-11-25T06:18:15.533Z"
   },
   {
    "duration": 291,
    "start_time": "2024-11-25T06:18:15.562Z"
   },
   {
    "duration": 16,
    "start_time": "2024-11-25T06:18:15.854Z"
   },
   {
    "duration": 290,
    "start_time": "2024-11-25T06:18:15.871Z"
   },
   {
    "duration": 29,
    "start_time": "2024-11-25T06:18:16.163Z"
   },
   {
    "duration": 21,
    "start_time": "2024-11-25T06:18:16.194Z"
   },
   {
    "duration": 25,
    "start_time": "2024-11-25T06:18:16.216Z"
   },
   {
    "duration": 90,
    "start_time": "2024-11-25T06:18:16.242Z"
   },
   {
    "duration": 97,
    "start_time": "2024-11-25T06:18:16.334Z"
   },
   {
    "duration": 97,
    "start_time": "2024-11-25T06:18:16.433Z"
   },
   {
    "duration": 34,
    "start_time": "2024-11-25T06:18:17.544Z"
   },
   {
    "duration": 46,
    "start_time": "2024-11-25T06:18:17.843Z"
   },
   {
    "duration": 411,
    "start_time": "2024-11-25T06:18:18.141Z"
   },
   {
    "duration": 30,
    "start_time": "2024-11-25T06:18:19.001Z"
   },
   {
    "duration": 314,
    "start_time": "2024-11-25T06:18:19.216Z"
   },
   {
    "duration": 73,
    "start_time": "2024-11-25T06:18:20.697Z"
   },
   {
    "duration": 59,
    "start_time": "2024-11-25T06:18:20.932Z"
   },
   {
    "duration": 409,
    "start_time": "2024-11-25T06:18:21.208Z"
   },
   {
    "duration": 41,
    "start_time": "2024-11-25T06:18:22.581Z"
   },
   {
    "duration": 9,
    "start_time": "2024-11-25T06:18:23.052Z"
   },
   {
    "duration": 11,
    "start_time": "2024-11-25T06:18:23.258Z"
   },
   {
    "duration": 8,
    "start_time": "2024-11-25T06:18:23.500Z"
   },
   {
    "duration": 7,
    "start_time": "2024-11-25T06:18:23.769Z"
   },
   {
    "duration": 3,
    "start_time": "2024-11-25T06:18:23.975Z"
   },
   {
    "duration": 49,
    "start_time": "2024-11-25T06:18:24.903Z"
   },
   {
    "duration": 5,
    "start_time": "2024-11-25T06:18:25.552Z"
   },
   {
    "duration": 13,
    "start_time": "2024-11-25T06:18:25.821Z"
   },
   {
    "duration": 7,
    "start_time": "2024-11-25T06:18:26.024Z"
   },
   {
    "duration": 14,
    "start_time": "2024-11-25T06:18:26.259Z"
   },
   {
    "duration": 7,
    "start_time": "2024-11-25T06:18:26.444Z"
   },
   {
    "duration": 8,
    "start_time": "2024-11-25T06:18:26.662Z"
   },
   {
    "duration": 72,
    "start_time": "2024-11-25T06:18:27.983Z"
   },
   {
    "duration": 73,
    "start_time": "2024-11-25T06:18:28.212Z"
   },
   {
    "duration": 87,
    "start_time": "2024-11-25T06:18:28.479Z"
   },
   {
    "duration": 103,
    "start_time": "2024-11-25T06:18:28.704Z"
   },
   {
    "duration": 17,
    "start_time": "2024-11-25T06:18:29.439Z"
   },
   {
    "duration": 16,
    "start_time": "2024-11-25T06:18:29.707Z"
   },
   {
    "duration": 83,
    "start_time": "2024-11-25T06:18:29.949Z"
   },
   {
    "duration": 10,
    "start_time": "2024-11-25T06:18:30.372Z"
   },
   {
    "duration": 4,
    "start_time": "2024-11-25T06:18:30.668Z"
   },
   {
    "duration": 17,
    "start_time": "2024-11-25T06:18:31.152Z"
   },
   {
    "duration": 24,
    "start_time": "2024-11-25T06:18:31.366Z"
   },
   {
    "duration": 16,
    "start_time": "2024-11-25T06:18:31.653Z"
   },
   {
    "duration": 10,
    "start_time": "2024-11-25T06:18:31.895Z"
   },
   {
    "duration": 8,
    "start_time": "2024-11-25T06:18:32.169Z"
   },
   {
    "duration": 24,
    "start_time": "2024-11-25T06:18:32.418Z"
   },
   {
    "duration": 22,
    "start_time": "2024-11-25T06:18:32.577Z"
   },
   {
    "duration": 12,
    "start_time": "2024-11-25T06:18:32.807Z"
   },
   {
    "duration": 327,
    "start_time": "2024-11-25T06:18:33.011Z"
   },
   {
    "duration": 96,
    "start_time": "2024-11-25T06:18:33.340Z"
   },
   {
    "duration": 36,
    "start_time": "2024-11-25T06:18:36.809Z"
   },
   {
    "duration": 21,
    "start_time": "2024-11-25T06:18:37.081Z"
   },
   {
    "duration": 21,
    "start_time": "2024-11-25T06:18:37.292Z"
   },
   {
    "duration": 7,
    "start_time": "2024-11-25T06:18:37.525Z"
   },
   {
    "duration": 14,
    "start_time": "2024-11-25T06:18:37.743Z"
   },
   {
    "duration": 182,
    "start_time": "2024-11-25T06:18:38.004Z"
   },
   {
    "duration": 13,
    "start_time": "2024-11-25T06:18:38.209Z"
   },
   {
    "duration": 195,
    "start_time": "2024-11-25T06:18:38.458Z"
   },
   {
    "duration": 6,
    "start_time": "2024-11-25T06:18:38.874Z"
   },
   {
    "duration": 14,
    "start_time": "2024-11-25T06:18:39.647Z"
   },
   {
    "duration": 12,
    "start_time": "2024-11-25T06:18:39.864Z"
   },
   {
    "duration": 69,
    "start_time": "2024-11-25T06:18:40.872Z"
   },
   {
    "duration": 57,
    "start_time": "2024-11-25T06:18:41.115Z"
   },
   {
    "duration": 4,
    "start_time": "2024-11-25T06:18:41.340Z"
   },
   {
    "duration": 7,
    "start_time": "2024-11-25T06:18:41.592Z"
   },
   {
    "duration": 584,
    "start_time": "2024-11-25T06:35:52.752Z"
   },
   {
    "duration": 46,
    "start_time": "2024-11-25T06:35:53.337Z"
   },
   {
    "duration": 23,
    "start_time": "2024-11-25T06:35:53.385Z"
   },
   {
    "duration": 9,
    "start_time": "2024-11-25T06:35:53.776Z"
   },
   {
    "duration": 29,
    "start_time": "2024-11-25T06:35:54.319Z"
   },
   {
    "duration": 14,
    "start_time": "2024-11-25T06:35:54.705Z"
   },
   {
    "duration": 17,
    "start_time": "2024-11-25T06:35:54.903Z"
   },
   {
    "duration": 4,
    "start_time": "2024-11-25T06:35:55.521Z"
   },
   {
    "duration": 4,
    "start_time": "2024-11-25T06:35:55.718Z"
   },
   {
    "duration": 95,
    "start_time": "2024-11-25T06:35:55.924Z"
   },
   {
    "duration": 6,
    "start_time": "2024-11-25T06:35:56.126Z"
   },
   {
    "duration": 93,
    "start_time": "2024-11-25T06:35:56.539Z"
   },
   {
    "duration": 85,
    "start_time": "2024-11-25T06:35:56.746Z"
   },
   {
    "duration": 4,
    "start_time": "2024-11-25T06:35:57.158Z"
   },
   {
    "duration": 4,
    "start_time": "2024-11-25T06:35:57.360Z"
   },
   {
    "duration": 1420,
    "start_time": "2024-11-25T06:35:57.772Z"
   },
   {
    "duration": 22,
    "start_time": "2024-11-25T06:35:59.194Z"
   },
   {
    "duration": 8,
    "start_time": "2024-11-25T06:35:59.223Z"
   },
   {
    "duration": 70,
    "start_time": "2024-11-25T06:35:59.233Z"
   },
   {
    "duration": 37,
    "start_time": "2024-11-25T06:35:59.305Z"
   },
   {
    "duration": 120,
    "start_time": "2024-11-25T06:35:59.717Z"
   },
   {
    "duration": 75,
    "start_time": "2024-11-25T06:35:59.924Z"
   },
   {
    "duration": 4,
    "start_time": "2024-11-25T06:36:01.252Z"
   },
   {
    "duration": 32,
    "start_time": "2024-11-25T06:36:01.488Z"
   },
   {
    "duration": 136,
    "start_time": "2024-11-25T06:36:01.917Z"
   },
   {
    "duration": 256,
    "start_time": "2024-11-25T06:36:02.176Z"
   },
   {
    "duration": 28,
    "start_time": "2024-11-25T06:36:02.616Z"
   },
   {
    "duration": 32,
    "start_time": "2024-11-25T06:36:02.896Z"
   },
   {
    "duration": 26,
    "start_time": "2024-11-25T06:36:03.095Z"
   },
   {
    "duration": 19,
    "start_time": "2024-11-25T06:36:03.505Z"
   },
   {
    "duration": 22,
    "start_time": "2024-11-25T06:36:03.945Z"
   },
   {
    "duration": 39,
    "start_time": "2024-11-25T06:36:04.438Z"
   },
   {
    "duration": 11,
    "start_time": "2024-11-25T06:36:04.937Z"
   },
   {
    "duration": 53,
    "start_time": "2024-11-25T06:36:05.384Z"
   },
   {
    "duration": 20,
    "start_time": "2024-11-25T06:36:05.805Z"
   },
   {
    "duration": 1261,
    "start_time": "2024-11-25T06:36:06.066Z"
   },
   {
    "duration": 1245,
    "start_time": "2024-11-25T06:36:07.329Z"
   },
   {
    "duration": 1325,
    "start_time": "2024-11-25T06:36:08.576Z"
   },
   {
    "duration": 1232,
    "start_time": "2024-11-25T06:36:09.912Z"
   },
   {
    "duration": 1498,
    "start_time": "2024-11-25T06:36:11.145Z"
   },
   {
    "duration": 12,
    "start_time": "2024-11-25T06:36:12.646Z"
   },
   {
    "duration": 68,
    "start_time": "2024-11-25T06:36:12.660Z"
   },
   {
    "duration": 8,
    "start_time": "2024-11-25T06:36:12.730Z"
   },
   {
    "duration": 26,
    "start_time": "2024-11-25T06:36:12.740Z"
   },
   {
    "duration": 35,
    "start_time": "2024-11-25T06:36:12.769Z"
   },
   {
    "duration": 10,
    "start_time": "2024-11-25T06:36:12.819Z"
   },
   {
    "duration": 12,
    "start_time": "2024-11-25T06:36:12.831Z"
   },
   {
    "duration": 17,
    "start_time": "2024-11-25T06:36:12.845Z"
   },
   {
    "duration": 412,
    "start_time": "2024-11-25T06:36:12.864Z"
   },
   {
    "duration": 16,
    "start_time": "2024-11-25T06:36:13.278Z"
   },
   {
    "duration": 271,
    "start_time": "2024-11-25T06:36:13.295Z"
   },
   {
    "duration": 49,
    "start_time": "2024-11-25T06:36:13.567Z"
   },
   {
    "duration": 10,
    "start_time": "2024-11-25T06:36:13.622Z"
   },
   {
    "duration": 30,
    "start_time": "2024-11-25T06:36:13.634Z"
   },
   {
    "duration": 82,
    "start_time": "2024-11-25T06:36:13.665Z"
   },
   {
    "duration": 96,
    "start_time": "2024-11-25T06:36:13.749Z"
   },
   {
    "duration": 91,
    "start_time": "2024-11-25T06:36:13.846Z"
   },
   {
    "duration": 34,
    "start_time": "2024-11-25T06:36:13.955Z"
   },
   {
    "duration": 34,
    "start_time": "2024-11-25T06:36:14.194Z"
   },
   {
    "duration": 363,
    "start_time": "2024-11-25T06:36:14.462Z"
   },
   {
    "duration": 36,
    "start_time": "2024-11-25T06:36:15.108Z"
   },
   {
    "duration": 309,
    "start_time": "2024-11-25T06:36:15.397Z"
   },
   {
    "duration": 86,
    "start_time": "2024-11-25T06:36:16.454Z"
   },
   {
    "duration": 66,
    "start_time": "2024-11-25T06:36:16.717Z"
   },
   {
    "duration": 406,
    "start_time": "2024-11-25T06:36:16.921Z"
   },
   {
    "duration": 33,
    "start_time": "2024-11-25T06:36:18.354Z"
   },
   {
    "duration": 17,
    "start_time": "2024-11-25T06:36:18.803Z"
   },
   {
    "duration": 8,
    "start_time": "2024-11-25T06:36:19.065Z"
   },
   {
    "duration": 7,
    "start_time": "2024-11-25T06:36:19.278Z"
   },
   {
    "duration": 7,
    "start_time": "2024-11-25T06:36:19.517Z"
   },
   {
    "duration": 3,
    "start_time": "2024-11-25T06:36:19.786Z"
   },
   {
    "duration": 84,
    "start_time": "2024-11-25T06:36:20.741Z"
   },
   {
    "duration": 6,
    "start_time": "2024-11-25T06:36:21.430Z"
   },
   {
    "duration": 13,
    "start_time": "2024-11-25T06:36:21.731Z"
   },
   {
    "duration": 7,
    "start_time": "2024-11-25T06:36:21.938Z"
   },
   {
    "duration": 19,
    "start_time": "2024-11-25T06:36:22.171Z"
   },
   {
    "duration": 8,
    "start_time": "2024-11-25T06:36:22.450Z"
   },
   {
    "duration": 8,
    "start_time": "2024-11-25T06:36:22.656Z"
   },
   {
    "duration": 83,
    "start_time": "2024-11-25T06:36:24.191Z"
   },
   {
    "duration": 93,
    "start_time": "2024-11-25T06:36:24.422Z"
   },
   {
    "duration": 95,
    "start_time": "2024-11-25T06:36:24.699Z"
   },
   {
    "duration": 107,
    "start_time": "2024-11-25T06:36:25.017Z"
   },
   {
    "duration": 14,
    "start_time": "2024-11-25T06:36:25.772Z"
   },
   {
    "duration": 13,
    "start_time": "2024-11-25T06:36:26.035Z"
   },
   {
    "duration": 86,
    "start_time": "2024-11-25T06:36:26.262Z"
   },
   {
    "duration": 9,
    "start_time": "2024-11-25T06:36:26.750Z"
   },
   {
    "duration": 4,
    "start_time": "2024-11-25T06:36:26.997Z"
   },
   {
    "duration": 16,
    "start_time": "2024-11-25T06:36:27.578Z"
   },
   {
    "duration": 32,
    "start_time": "2024-11-25T06:36:27.782Z"
   },
   {
    "duration": 17,
    "start_time": "2024-11-25T06:36:28.027Z"
   },
   {
    "duration": 10,
    "start_time": "2024-11-25T06:36:28.289Z"
   },
   {
    "duration": 11,
    "start_time": "2024-11-25T06:36:28.521Z"
   },
   {
    "duration": 19,
    "start_time": "2024-11-25T06:36:28.798Z"
   },
   {
    "duration": 19,
    "start_time": "2024-11-25T06:36:29.013Z"
   },
   {
    "duration": 10,
    "start_time": "2024-11-25T06:36:29.230Z"
   },
   {
    "duration": 250,
    "start_time": "2024-11-25T06:36:29.520Z"
   },
   {
    "duration": 79,
    "start_time": "2024-11-25T06:36:29.771Z"
   },
   {
    "duration": 70,
    "start_time": "2024-11-25T06:36:40.987Z"
   },
   {
    "duration": 30,
    "start_time": "2024-11-25T06:36:50.621Z"
   },
   {
    "duration": 22,
    "start_time": "2024-11-25T06:36:50.829Z"
   },
   {
    "duration": 20,
    "start_time": "2024-11-25T06:36:51.059Z"
   },
   {
    "duration": 9,
    "start_time": "2024-11-25T06:36:51.327Z"
   },
   {
    "duration": 17,
    "start_time": "2024-11-25T06:36:51.529Z"
   },
   {
    "duration": 249,
    "start_time": "2024-11-25T06:36:51.732Z"
   },
   {
    "duration": 46,
    "start_time": "2024-11-25T06:36:51.982Z"
   },
   {
    "duration": 279,
    "start_time": "2024-11-25T06:36:52.192Z"
   },
   {
    "duration": 5,
    "start_time": "2024-11-25T06:36:52.962Z"
   },
   {
    "duration": 14,
    "start_time": "2024-11-25T06:36:53.692Z"
   },
   {
    "duration": 11,
    "start_time": "2024-11-25T06:36:54.042Z"
   },
   {
    "duration": 84,
    "start_time": "2024-11-25T06:36:55.069Z"
   },
   {
    "duration": 73,
    "start_time": "2024-11-25T06:36:55.325Z"
   },
   {
    "duration": 5,
    "start_time": "2024-11-25T06:36:55.525Z"
   },
   {
    "duration": 8,
    "start_time": "2024-11-25T06:36:55.739Z"
   },
   {
    "duration": 295,
    "start_time": "2024-11-25T06:37:15.086Z"
   },
   {
    "duration": 60,
    "start_time": "2024-11-25T06:37:16.455Z"
   },
   {
    "duration": 82,
    "start_time": "2024-11-26T07:51:59.652Z"
   },
   {
    "duration": 941,
    "start_time": "2024-11-26T07:54:20.445Z"
   },
   {
    "duration": 94,
    "start_time": "2024-11-26T07:54:22.162Z"
   },
   {
    "duration": 32,
    "start_time": "2024-11-26T07:54:24.816Z"
   },
   {
    "duration": 9,
    "start_time": "2024-11-26T07:54:26.631Z"
   },
   {
    "duration": 23,
    "start_time": "2024-11-26T07:54:29.626Z"
   },
   {
    "duration": 6,
    "start_time": "2024-11-26T07:54:31.273Z"
   },
   {
    "duration": 10,
    "start_time": "2024-11-26T07:54:32.176Z"
   },
   {
    "duration": 3,
    "start_time": "2024-11-26T07:54:34.323Z"
   },
   {
    "duration": 4,
    "start_time": "2024-11-26T07:54:37.128Z"
   },
   {
    "duration": 94,
    "start_time": "2024-11-26T07:54:38.009Z"
   },
   {
    "duration": 6,
    "start_time": "2024-11-26T07:54:38.963Z"
   },
   {
    "duration": 109,
    "start_time": "2024-11-26T07:54:40.212Z"
   },
   {
    "duration": 100,
    "start_time": "2024-11-26T07:54:40.743Z"
   },
   {
    "duration": 4,
    "start_time": "2024-11-26T07:54:44.940Z"
   },
   {
    "duration": 4,
    "start_time": "2024-11-26T07:54:45.850Z"
   },
   {
    "duration": 1334,
    "start_time": "2024-11-26T07:59:02.727Z"
   },
   {
    "duration": 4,
    "start_time": "2024-11-26T07:59:27.600Z"
   },
   {
    "duration": 58,
    "start_time": "2024-11-26T07:59:30.034Z"
   },
   {
    "duration": 24,
    "start_time": "2024-11-26T07:59:31.731Z"
   },
   {
    "duration": 600,
    "start_time": "2024-11-26T08:10:53.768Z"
   },
   {
    "duration": 84,
    "start_time": "2024-11-26T08:10:54.370Z"
   },
   {
    "duration": 27,
    "start_time": "2024-11-26T08:10:54.456Z"
   },
   {
    "duration": 11,
    "start_time": "2024-11-26T08:10:54.882Z"
   },
   {
    "duration": 24,
    "start_time": "2024-11-26T08:10:55.654Z"
   },
   {
    "duration": 6,
    "start_time": "2024-11-26T08:10:56.098Z"
   },
   {
    "duration": 11,
    "start_time": "2024-11-26T08:10:56.323Z"
   },
   {
    "duration": 4,
    "start_time": "2024-11-26T08:10:57.463Z"
   },
   {
    "duration": 4,
    "start_time": "2024-11-26T08:10:57.807Z"
   },
   {
    "duration": 76,
    "start_time": "2024-11-26T08:10:58.075Z"
   },
   {
    "duration": 6,
    "start_time": "2024-11-26T08:10:58.352Z"
   },
   {
    "duration": 84,
    "start_time": "2024-11-26T08:10:58.961Z"
   },
   {
    "duration": 82,
    "start_time": "2024-11-26T08:10:59.270Z"
   },
   {
    "duration": 4,
    "start_time": "2024-11-26T08:10:59.730Z"
   },
   {
    "duration": 4,
    "start_time": "2024-11-26T08:11:00.139Z"
   },
   {
    "duration": 1373,
    "start_time": "2024-11-26T08:11:02.273Z"
   },
   {
    "duration": 21,
    "start_time": "2024-11-26T08:11:03.648Z"
   },
   {
    "duration": 22,
    "start_time": "2024-11-26T08:11:14.649Z"
   },
   {
    "duration": 21,
    "start_time": "2024-11-26T08:11:17.594Z"
   },
   {
    "duration": 24,
    "start_time": "2024-11-26T08:11:19.965Z"
   },
   {
    "duration": 6,
    "start_time": "2024-11-26T08:11:22.610Z"
   },
   {
    "duration": 8,
    "start_time": "2024-11-26T08:11:23.147Z"
   },
   {
    "duration": 44,
    "start_time": "2024-11-26T08:11:25.268Z"
   },
   {
    "duration": 30,
    "start_time": "2024-11-26T08:11:25.524Z"
   },
   {
    "duration": 131,
    "start_time": "2024-11-26T08:11:26.092Z"
   },
   {
    "duration": 75,
    "start_time": "2024-11-26T08:11:26.433Z"
   },
   {
    "duration": 4,
    "start_time": "2024-11-26T08:11:33.042Z"
   },
   {
    "duration": 27,
    "start_time": "2024-11-26T08:11:33.540Z"
   },
   {
    "duration": 1000,
    "start_time": "2024-11-26T08:11:37.154Z"
   },
   {
    "duration": 240,
    "start_time": "2024-11-26T08:11:38.156Z"
   },
   {
    "duration": 20,
    "start_time": "2024-11-26T08:11:39.008Z"
   },
   {
    "duration": 19,
    "start_time": "2024-11-26T08:11:39.469Z"
   },
   {
    "duration": 25,
    "start_time": "2024-11-26T08:11:39.918Z"
   },
   {
    "duration": 14,
    "start_time": "2024-11-26T08:11:41.609Z"
   },
   {
    "duration": 24,
    "start_time": "2024-11-26T08:11:51.829Z"
   },
   {
    "duration": 44,
    "start_time": "2024-11-26T08:11:53.484Z"
   },
   {
    "duration": 12,
    "start_time": "2024-11-26T08:11:55.658Z"
   },
   {
    "duration": 42,
    "start_time": "2024-11-26T08:11:57.612Z"
   },
   {
    "duration": 8,
    "start_time": "2024-11-26T08:12:01.991Z"
   },
   {
    "duration": 1267,
    "start_time": "2024-11-26T08:12:02.739Z"
   },
   {
    "duration": 1156,
    "start_time": "2024-11-26T08:12:04.008Z"
   },
   {
    "duration": 1284,
    "start_time": "2024-11-26T08:12:05.165Z"
   },
   {
    "duration": 1339,
    "start_time": "2024-11-26T08:12:06.451Z"
   },
   {
    "duration": 1413,
    "start_time": "2024-11-26T08:12:07.791Z"
   },
   {
    "duration": 14,
    "start_time": "2024-11-26T08:13:04.581Z"
   },
   {
    "duration": 91,
    "start_time": "2024-11-26T08:13:33.013Z"
   },
   {
    "duration": 21,
    "start_time": "2024-11-26T08:13:35.587Z"
   },
   {
    "duration": 20,
    "start_time": "2024-11-26T08:13:38.095Z"
   },
   {
    "duration": 13,
    "start_time": "2024-11-26T08:14:16.934Z"
   },
   {
    "duration": 666,
    "start_time": "2024-11-26T08:27:59.024Z"
   },
   {
    "duration": 55,
    "start_time": "2024-11-26T08:27:59.691Z"
   },
   {
    "duration": 29,
    "start_time": "2024-11-26T08:28:02.964Z"
   },
   {
    "duration": 11,
    "start_time": "2024-11-26T08:28:04.224Z"
   },
   {
    "duration": 23,
    "start_time": "2024-11-26T08:28:06.086Z"
   },
   {
    "duration": 6,
    "start_time": "2024-11-26T08:28:07.627Z"
   },
   {
    "duration": 11,
    "start_time": "2024-11-26T08:28:10.543Z"
   },
   {
    "duration": 5,
    "start_time": "2024-11-26T08:28:11.928Z"
   },
   {
    "duration": 4,
    "start_time": "2024-11-26T08:28:12.606Z"
   },
   {
    "duration": 79,
    "start_time": "2024-11-26T08:28:13.086Z"
   },
   {
    "duration": 7,
    "start_time": "2024-11-26T08:28:13.658Z"
   },
   {
    "duration": 82,
    "start_time": "2024-11-26T08:28:15.052Z"
   },
   {
    "duration": 78,
    "start_time": "2024-11-26T08:28:15.568Z"
   },
   {
    "duration": 4,
    "start_time": "2024-11-26T08:28:16.614Z"
   },
   {
    "duration": 4,
    "start_time": "2024-11-26T08:28:17.360Z"
   },
   {
    "duration": 1350,
    "start_time": "2024-11-26T08:28:26.659Z"
   },
   {
    "duration": 20,
    "start_time": "2024-11-26T08:28:30.761Z"
   },
   {
    "duration": 19,
    "start_time": "2024-11-26T08:28:31.504Z"
   },
   {
    "duration": 5,
    "start_time": "2024-11-26T08:28:35.048Z"
   },
   {
    "duration": 7,
    "start_time": "2024-11-26T08:28:35.562Z"
   },
   {
    "duration": 39,
    "start_time": "2024-11-26T08:28:38.001Z"
   },
   {
    "duration": 29,
    "start_time": "2024-11-26T08:28:41.000Z"
   },
   {
    "duration": 123,
    "start_time": "2024-11-26T08:28:44.813Z"
   },
   {
    "duration": 77,
    "start_time": "2024-11-26T08:28:45.350Z"
   },
   {
    "duration": 4,
    "start_time": "2024-11-26T08:28:55.637Z"
   },
   {
    "duration": 27,
    "start_time": "2024-11-26T08:28:56.141Z"
   },
   {
    "duration": 147,
    "start_time": "2024-11-26T08:28:57.838Z"
   },
   {
    "duration": 162,
    "start_time": "2024-11-26T08:28:58.832Z"
   },
   {
    "duration": 19,
    "start_time": "2024-11-26T08:29:01.938Z"
   },
   {
    "duration": 18,
    "start_time": "2024-11-26T08:29:03.150Z"
   },
   {
    "duration": 18,
    "start_time": "2024-11-26T08:29:03.952Z"
   },
   {
    "duration": 13,
    "start_time": "2024-11-26T08:29:14.710Z"
   },
   {
    "duration": 14,
    "start_time": "2024-11-26T08:29:16.594Z"
   },
   {
    "duration": 13,
    "start_time": "2024-11-26T08:29:19.431Z"
   },
   {
    "duration": 14,
    "start_time": "2024-11-26T08:29:20.176Z"
   },
   {
    "duration": 13,
    "start_time": "2024-11-26T08:29:32.597Z"
   },
   {
    "duration": 16,
    "start_time": "2024-11-26T08:30:58.025Z"
   },
   {
    "duration": 31,
    "start_time": "2024-11-26T08:31:00.275Z"
   },
   {
    "duration": 42,
    "start_time": "2024-11-26T08:31:03.497Z"
   },
   {
    "duration": 11,
    "start_time": "2024-11-26T08:31:07.027Z"
   },
   {
    "duration": 43,
    "start_time": "2024-11-26T08:31:08.701Z"
   },
   {
    "duration": 9,
    "start_time": "2024-11-26T08:31:12.033Z"
   },
   {
    "duration": 1405,
    "start_time": "2024-11-26T08:31:12.851Z"
   },
   {
    "duration": 1277,
    "start_time": "2024-11-26T08:31:14.258Z"
   },
   {
    "duration": 1345,
    "start_time": "2024-11-26T08:31:15.537Z"
   },
   {
    "duration": 1330,
    "start_time": "2024-11-26T08:31:16.884Z"
   },
   {
    "duration": 1402,
    "start_time": "2024-11-26T08:31:18.216Z"
   },
   {
    "duration": 9,
    "start_time": "2024-11-26T08:31:21.171Z"
   },
   {
    "duration": 59,
    "start_time": "2024-11-26T08:31:21.919Z"
   },
   {
    "duration": 6,
    "start_time": "2024-11-26T08:31:22.819Z"
   },
   {
    "duration": 7,
    "start_time": "2024-11-26T08:31:23.495Z"
   },
   {
    "duration": 50,
    "start_time": "2024-11-26T08:31:26.586Z"
   },
   {
    "duration": 15,
    "start_time": "2024-11-26T08:31:27.322Z"
   },
   {
    "duration": 13,
    "start_time": "2024-11-26T08:31:28.093Z"
   },
   {
    "duration": 11,
    "start_time": "2024-11-26T08:31:30.406Z"
   },
   {
    "duration": 309,
    "start_time": "2024-11-26T08:31:32.513Z"
   },
   {
    "duration": 18,
    "start_time": "2024-11-26T08:31:36.201Z"
   },
   {
    "duration": 302,
    "start_time": "2024-11-26T08:31:37.286Z"
   },
   {
    "duration": 54,
    "start_time": "2024-11-26T08:31:42.286Z"
   },
   {
    "duration": 17,
    "start_time": "2024-11-26T08:31:43.183Z"
   },
   {
    "duration": 41,
    "start_time": "2024-11-26T08:31:44.005Z"
   },
   {
    "duration": 83,
    "start_time": "2024-11-26T08:31:48.143Z"
   },
   {
    "duration": 89,
    "start_time": "2024-11-26T08:31:59.584Z"
   },
   {
    "duration": 88,
    "start_time": "2024-11-26T08:32:00.086Z"
   },
   {
    "duration": 60,
    "start_time": "2024-11-26T08:32:07.831Z"
   },
   {
    "duration": 61,
    "start_time": "2024-11-26T08:32:10.732Z"
   },
   {
    "duration": 72,
    "start_time": "2024-11-26T08:32:18.329Z"
   },
   {
    "duration": 64,
    "start_time": "2024-11-26T08:32:18.950Z"
   },
   {
    "duration": 42,
    "start_time": "2024-11-26T08:32:27.328Z"
   },
   {
    "duration": 389,
    "start_time": "2024-11-26T08:32:28.070Z"
   },
   {
    "duration": 37,
    "start_time": "2024-11-26T08:32:29.922Z"
   },
   {
    "duration": 406,
    "start_time": "2024-11-26T08:32:30.331Z"
   },
   {
    "duration": 91,
    "start_time": "2024-11-26T08:32:32.584Z"
   },
   {
    "duration": 107,
    "start_time": "2024-11-26T08:32:37.734Z"
   },
   {
    "duration": 64,
    "start_time": "2024-11-26T08:32:48.679Z"
   },
   {
    "duration": 406,
    "start_time": "2024-11-26T08:32:52.453Z"
   },
   {
    "duration": 47,
    "start_time": "2024-11-26T08:32:57.850Z"
   },
   {
    "duration": 9,
    "start_time": "2024-11-26T08:32:59.331Z"
   },
   {
    "duration": 10,
    "start_time": "2024-11-26T08:33:00.199Z"
   },
   {
    "duration": 6,
    "start_time": "2024-11-26T08:33:01.422Z"
   },
   {
    "duration": 5,
    "start_time": "2024-11-26T08:33:03.421Z"
   },
   {
    "duration": 3,
    "start_time": "2024-11-26T08:33:03.854Z"
   },
   {
    "duration": 64,
    "start_time": "2024-11-26T08:33:06.520Z"
   },
   {
    "duration": 5,
    "start_time": "2024-11-26T08:33:09.433Z"
   },
   {
    "duration": 18,
    "start_time": "2024-11-26T08:33:10.328Z"
   },
   {
    "duration": 8,
    "start_time": "2024-11-26T08:33:13.917Z"
   },
   {
    "duration": 17,
    "start_time": "2024-11-26T08:33:14.835Z"
   },
   {
    "duration": 8,
    "start_time": "2024-11-26T08:33:17.599Z"
   },
   {
    "duration": 10,
    "start_time": "2024-11-26T08:33:18.368Z"
   },
   {
    "duration": 8,
    "start_time": "2024-11-26T08:33:21.143Z"
   },
   {
    "duration": 85,
    "start_time": "2024-11-26T08:34:12.118Z"
   },
   {
    "duration": 76,
    "start_time": "2024-11-26T08:34:12.381Z"
   },
   {
    "duration": 90,
    "start_time": "2024-11-26T08:34:12.621Z"
   },
   {
    "duration": 100,
    "start_time": "2024-11-26T08:34:13.166Z"
   },
   {
    "duration": 15,
    "start_time": "2024-11-26T08:34:14.866Z"
   },
   {
    "duration": 18,
    "start_time": "2024-11-26T08:34:15.597Z"
   },
   {
    "duration": 81,
    "start_time": "2024-11-26T08:34:17.944Z"
   },
   {
    "duration": 10,
    "start_time": "2024-11-26T08:34:18.728Z"
   },
   {
    "duration": 5,
    "start_time": "2024-11-26T08:34:19.357Z"
   },
   {
    "duration": 17,
    "start_time": "2024-11-26T08:34:20.443Z"
   },
   {
    "duration": 25,
    "start_time": "2024-11-26T08:34:20.948Z"
   },
   {
    "duration": 19,
    "start_time": "2024-11-26T08:34:21.483Z"
   },
   {
    "duration": 11,
    "start_time": "2024-11-26T08:34:22.074Z"
   },
   {
    "duration": 10,
    "start_time": "2024-11-26T08:34:22.835Z"
   },
   {
    "duration": 22,
    "start_time": "2024-11-26T08:34:25.998Z"
   },
   {
    "duration": 17,
    "start_time": "2024-11-26T08:34:26.839Z"
   },
   {
    "duration": 11,
    "start_time": "2024-11-26T08:34:27.979Z"
   },
   {
    "duration": 270,
    "start_time": "2024-11-26T08:34:34.402Z"
   },
   {
    "duration": 580,
    "start_time": "2024-11-26T08:34:35.995Z"
   },
   {
    "duration": 38,
    "start_time": "2024-11-26T08:35:02.477Z"
   },
   {
    "duration": 12,
    "start_time": "2024-11-26T08:35:03.256Z"
   },
   {
    "duration": 20,
    "start_time": "2024-11-26T08:35:08.629Z"
   },
   {
    "duration": 19,
    "start_time": "2024-11-26T08:35:13.367Z"
   },
   {
    "duration": 7,
    "start_time": "2024-11-26T08:35:17.190Z"
   },
   {
    "duration": 15,
    "start_time": "2024-11-26T08:35:18.882Z"
   },
   {
    "duration": 197,
    "start_time": "2024-11-26T08:35:19.713Z"
   },
   {
    "duration": 13,
    "start_time": "2024-11-26T08:35:22.365Z"
   },
   {
    "duration": 192,
    "start_time": "2024-11-26T08:35:23.177Z"
   },
   {
    "duration": 13,
    "start_time": "2024-11-26T08:35:29.373Z"
   },
   {
    "duration": 13,
    "start_time": "2024-11-26T08:35:34.099Z"
   },
   {
    "duration": 12,
    "start_time": "2024-11-26T08:35:34.801Z"
   },
   {
    "duration": 78,
    "start_time": "2024-11-26T08:35:37.204Z"
   },
   {
    "duration": 64,
    "start_time": "2024-11-26T08:35:40.764Z"
   },
   {
    "duration": 150,
    "start_time": "2024-11-26T08:35:41.461Z"
   },
   {
    "duration": 7,
    "start_time": "2024-11-26T08:35:47.564Z"
   },
   {
    "duration": 77,
    "start_time": "2024-11-26T08:36:54.585Z"
   },
   {
    "duration": 60,
    "start_time": "2024-11-26T08:36:55.394Z"
   },
   {
    "duration": 4,
    "start_time": "2024-11-26T08:36:56.205Z"
   },
   {
    "duration": 7,
    "start_time": "2024-11-26T08:37:00.774Z"
   }
  ],
  "kernelspec": {
   "display_name": "Python 3 (ipykernel)",
   "language": "python",
   "name": "python3"
  },
  "language_info": {
   "codemirror_mode": {
    "name": "ipython",
    "version": 3
   },
   "file_extension": ".py",
   "mimetype": "text/x-python",
   "name": "python",
   "nbconvert_exporter": "python",
   "pygments_lexer": "ipython3",
   "version": "3.9.13"
  },
  "toc": {
   "base_numbering": 1,
   "nav_menu": {},
   "number_sections": true,
   "sideBar": true,
   "skip_h1_title": true,
   "title_cell": "Table of Contents",
   "title_sidebar": "Contents",
   "toc_cell": false,
   "toc_position": {},
   "toc_section_display": true,
   "toc_window_display": false
  }
 },
 "nbformat": 4,
 "nbformat_minor": 4
}
