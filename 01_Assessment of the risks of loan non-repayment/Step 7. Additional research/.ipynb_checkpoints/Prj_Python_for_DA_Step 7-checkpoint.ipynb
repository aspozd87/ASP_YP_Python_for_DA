{
 "cells": [
  {
   "cell_type": "markdown",
   "metadata": {
    "tags": []
   },
   "source": [
    "## **Описание проекта: оценка рисков невозврата кредита**\n",
    "\n",
    "В вашем распоряжении данные клиентов банка «Скрудж», которые планируют взять кредит. Вам необходимо выяснить, что из имеющихся данных влияет на своевременное погашение кредита и каким именно образом.\n",
    "\n",
    "Исследование поможет в создании модели кредитного скоринга — системы для оценки способности потенциального заёмщика погасить свой кредит.\n",
    "\n",
    "По каждому клиенту есть информация о его семейном положении, образовании, доходе и другие данные. Вам предстоит подготовить данные к анализу и исследовать их, в процессе отвечая на вопросы.\n",
    "\n",
    "### Описание данных\n",
    "\n",
    "- `children` — количество детей в семье;\n",
    "- `days_employed` — сколько дней работает клиент;\n",
    "- `dob_years` — возраст клиента;\n",
    "- `education` — уровень образования клиента;\n",
    "- `education_id` — идентификатор образования клиента;\n",
    "- `family_status` — семейное положение клиента;\n",
    "- `family_status_id` — идентификатор семейного положения клиента;\n",
    "- `gender` — пол клиента;\n",
    "- `income_type` — тип дохода клиента;\n",
    "- `debt` — был ли у клиента когда-либо просрочен платёж по кредиту;\n",
    "- `total_income` — ежемесячный доход;\n",
    "- `purpose` — причина оформления кредита.\n",
    "\n"
   ]
  },
  {
   "cell_type": "markdown",
   "metadata": {},
   "source": [
    "__Цель работы__\n",
    "- В рамках проекта необходимо проанализировать данные клинетов банка Скрудж для лдальнейшего опредления характеритсик заёмщика, влияющих на своевременное погашение кредита. Это поможет в дальнейшем создать основу для модели кредитного скоринга — системы для оценки способности потенциального заёмщика погасить свой кредит.\n",
    "\n",
    "__План работы__ <a class=\"anchor\" id=\"ch0\"></a>\n",
    "\n",
    "* [Первичный анализ данных ](#ch1)\n",
    "* [Предобработка](#ch2)\n",
    "* [Выбросы и аномальные значения](#ch3)\n",
    "  - загрузка и изучение структуры данных\n",
    "  - проверка и устранение пропущенных значений\n",
    "  - устраненние некорректных значений\n",
    "  - устранение неявных дубликатов\n",
    "* [Создание дополнительных признаков](#ch4)\n",
    "  - разделите клиентов по уровню дохода\n",
    "  - разделение по возрастным группам\n",
    "  - разделение по количеству детей\n",
    "* [Исследование влияюших факторов](#ch5)\n",
    "  - Уровень дохода\n",
    "    - Анализ влияния дохода на своевременное погашение кредита\n",
    "  - Образование\n",
    "    - Исследование связи между уровнем образования и вероятностью задолженности\n",
    "   - Возраст\n",
    "     - Анализ возрастных категорий и их связи с задолженностью по кредитам\n",
    "    - Количество детей\n",
    "      - влияние количества детей на риск задолженности\n",
    "* [Анализ данных](#ch5)\n",
    "  - построение графиков и сводных таблиц для наглядной визуализации сравннеия должников и не должников \n",
    "* [Проверка исследовательских гипотез](#ch5)\n",
    "  - У клиентов с детьми более высокий уровень финансовой ответственности и, следовательно, более низкий риск просрочек по кредиту.\n",
    "  - Одинокие мужчины с низким доходом чаще оказываются должниками, чем семейные мужчины со средним доходом.\n",
    "* [Выводы](#ch6)\n",
    "  - описание полученных результатов и итоговые выводы проведённого исследования\n",
    "  \n",
    "* [Проведение дополнительного исследования](#ch7)   \n",
    "\n",
    "__Датасет содержит данные, которые несут в себе информацию о клиентах банка Скрудж:__\n",
    "- ___демография___\n",
    "  - возраст, семейное положение, количество детей\n",
    "- ___финансновые показатели___\n",
    "  - уровень дохода, тип занятости\n",
    "- ___данные об образовании___\n",
    "- ___цель кредита___\n",
    "- ____информацию о своевременности возврата кредита____"
   ]
  },
  {
   "cell_type": "markdown",
   "metadata": {
    "tags": []
   },
   "source": [
    "\n",
    "## Шаг 6. Выводы  <a class=\"anchor\" id=\"ch6\"></a>\n",
    "\n"
   ]
  },
  {
   "cell_type": "markdown",
   "metadata": {},
   "source": [
    "- На основе построенных графиков в шаге 5 можно сделать следующие выводы\n",
    "  - Уровень дохода\n",
    "     - с увеличением дохода количество должников в основном снижается\n",
    "     - наибольшее количество дллжников наблюдается среди людей снизким и очень низкми доходом\n",
    "     - __то есть уровень дохода один из главных рисков возникнвоения задолжности__\n",
    "  - Образование\n",
    "       - основные должники срели людей со средним образованием\n",
    "       - __чем выше уровень образования, тем меньше вероятность быть должником__\n",
    "  - Возраст\n",
    "     - в обоих категориях с одной стороны основнвая масса людей без задоллжности, сдругой строны количество должников сопоставимо\n",
    "     - однако после 40 недолжников существенно больше, что может быть связано с опытом и ростом финансовой грамотности\n",
    "  - Количество детей\n",
    "     - среди клиентов без детей самое большое количество как должников, так и недолжников\n",
    "     - с деьтми от 3 и выше количество должников существенно падает\n",
    "     - возможно наличие детей не позволяет быть более финансово рискованным\n",
    "\n",
    "__Распределение между должниками и недолжниками действительно отличается в зависимости от уровня дохода, образования, возраста и количества детей.__\n",
    "- Низкий доход и среднее образование увеличиают вероятность задолженности\n",
    "- Высшее образование  и высокий уровень дохода плюс возраст от 40 снижают риск стать должником."
   ]
  },
  {
   "cell_type": "markdown",
   "metadata": {},
   "source": [
    "Вывод по гипотезе 1\n",
    "- таблица и визуализация не подтверждают гипотезу о том, что клиенты с детьми имеют более высокий уровень финансовой ответственности."
   ]
  },
  {
   "cell_type": "markdown",
   "metadata": {},
   "source": [
    "Вывод по гипотезе 2\n",
    "- Гипотеза о том, что одинокие мужчины с низким доходом чаще оказываются должниками, чем семейные мужчины со средним доходом, подтверждается\n",
    "- __Одинокие мужчины с низким доходом имеют более высокую вероятность просрочить кредиту по сравнению с семейными мужчинами со средним доходом.__"
   ]
  },
  {
   "cell_type": "markdown",
   "metadata": {},
   "source": [
    "Таким образом первая гипотеза не подтверждается, вторая гпитеза подтвреждается"
   ]
  },
  {
   "cell_type": "markdown",
   "metadata": {},
   "source": [
    "<div class=\"alert alert-info\">\n",
    "  <b> * <a href=\"#ch0\">к содержанию</a> </b> \n",
    "</div>\n"
   ]
  },
  {
   "cell_type": "markdown",
   "metadata": {},
   "source": [
    "---"
   ]
  },
  {
   "cell_type": "markdown",
   "metadata": {
    "tags": []
   },
   "source": [
    "\n"
   ]
  },
  {
   "cell_type": "markdown",
   "metadata": {
    "tags": []
   },
   "source": [
    "\n",
    "## Шаг 7. Проведение дополнительного исследования <a class=\"anchor\" id=\"ch7\"></a>\n",
    "\n"
   ]
  },
  {
   "cell_type": "markdown",
   "metadata": {
    "tags": []
   },
   "source": [
    "\n",
    "(Необязательное задание) Исследуйте причины оформления кредита. Правда ли, что люди, которые брали кредит на образование, реже всего оказывались должниками?\n",
    "\n"
   ]
  },
  {
   "cell_type": "markdown",
   "metadata": {
    "tags": []
   },
   "source": [
    "\n"
   ]
  },
  {
   "cell_type": "code",
   "execution_count": 176,
   "metadata": {
    "tags": []
   },
   "outputs": [
    {
     "name": "stdout",
     "output_type": "stream",
     "text": [
      "Уникальные значения в поле purpose: ['purchase of the house' 'car purchase' 'supplementary education'\n",
      " 'to have a wedding' 'housing transactions' 'education' 'having a wedding'\n",
      " 'purchase of the house for my family' 'buy real estate'\n",
      " 'buy commercial real estate' 'buy residential real estate'\n",
      " 'construction of own property' 'property' 'building a property'\n",
      " 'buying a second-hand car' 'buying my own car'\n",
      " 'transactions with commercial real estate' 'building a real estate'\n",
      " 'housing' 'transactions with my real estate' 'cars'\n",
      " 'second-hand car purchase' 'getting an education' 'to become educated'\n",
      " 'car' 'wedding ceremony' 'to get a supplementary education'\n",
      " 'purchase of my own house' 'real estate transactions' 'to own a car'\n",
      " 'purchase of a car' 'profile education' 'university education'\n",
      " 'buying property for renting out' 'to buy a car' 'housing renovation'\n",
      " 'going to university' 'getting higher education']\n"
     ]
    }
   ],
   "source": [
    "# Изучите уникальные значения в поле purpose\n",
    "unique_purposes = df['purpose'].unique()\n",
    "print('Уникальные значения в поле purpose:', unique_purposes)"
   ]
  },
  {
   "cell_type": "markdown",
   "metadata": {
    "tags": []
   },
   "source": [
    "\n"
   ]
  },
  {
   "cell_type": "markdown",
   "metadata": {
    "tags": []
   },
   "source": [
    "делим клиентов на группы по образованию и остальным причинам\n"
   ]
  },
  {
   "cell_type": "code",
   "execution_count": 177,
   "metadata": {
    "tags": []
   },
   "outputs": [],
   "source": [
    "# Функция для разделения на группы по цели кредита\n",
    "def find_education_purpose(purpose):\n",
    "    if 'education' in purpose.lower():\n",
    "        return 'education'\n",
    "    else:\n",
    "        return 'other'\n",
    "\n",
    "\n",
    "df['purpose_category'] = df['purpose'].apply(find_education_purpose)"
   ]
  },
  {
   "cell_type": "markdown",
   "metadata": {
    "tags": []
   },
   "source": [
    "\n"
   ]
  },
  {
   "cell_type": "code",
   "execution_count": 178,
   "metadata": {},
   "outputs": [
    {
     "data": {
      "text/html": [
       "<div>\n",
       "<style scoped>\n",
       "    .dataframe tbody tr th:only-of-type {\n",
       "        vertical-align: middle;\n",
       "    }\n",
       "\n",
       "    .dataframe tbody tr th {\n",
       "        vertical-align: top;\n",
       "    }\n",
       "\n",
       "    .dataframe thead th {\n",
       "        text-align: right;\n",
       "    }\n",
       "</style>\n",
       "<table border=\"1\" class=\"dataframe\">\n",
       "  <thead>\n",
       "    <tr style=\"text-align: right;\">\n",
       "      <th>debt</th>\n",
       "      <th>0</th>\n",
       "      <th>1</th>\n",
       "      <th>debt_ratio</th>\n",
       "    </tr>\n",
       "    <tr>\n",
       "      <th>purpose_category</th>\n",
       "      <th></th>\n",
       "      <th></th>\n",
       "      <th></th>\n",
       "    </tr>\n",
       "  </thead>\n",
       "  <tbody>\n",
       "    <tr>\n",
       "      <th>education</th>\n",
       "      <td>2644</td>\n",
       "      <td>275</td>\n",
       "      <td>0.094210</td>\n",
       "    </tr>\n",
       "    <tr>\n",
       "      <th>other</th>\n",
       "      <td>15868</td>\n",
       "      <td>1374</td>\n",
       "      <td>0.079689</td>\n",
       "    </tr>\n",
       "  </tbody>\n",
       "</table>\n",
       "</div>"
      ],
      "text/plain": [
       "debt                  0     1  debt_ratio\n",
       "purpose_category                         \n",
       "education          2644   275    0.094210\n",
       "other             15868  1374    0.079689"
      ]
     },
     "metadata": {},
     "output_type": "display_data"
    },
    {
     "data": {
      "image/png": "[encoded data removed]",
      "text/plain": [
       "<Figure size 720x432 with 1 Axes>"
      ]
     },
     "metadata": {
      "needs_background": "light"
     },
     "output_type": "display_data"
    }
   ],
   "source": [
    "purpose_debt_pivot = df.pivot_table(index='purpose_category', columns='debt', values='purpose', aggfunc='count', fill_value=0)\n",
    "\n",
    "\n",
    "purpose_debt_pivot['debt_ratio'] = purpose_debt_pivot[1] / (purpose_debt_pivot[0] + purpose_debt_pivot[1])\n",
    "display(purpose_debt_pivot)\n",
    "\n",
    "\n",
    "purpose_debt_pivot[['debt_ratio']].plot(kind='bar', figsize=(10, 6), color='red')\n",
    "plt.title('Доля должников по категориям целей кредита')\n",
    "plt.xlabel('Цель кредита')\n",
    "plt.ylabel('Доля должников')\n",
    "plt.show()"
   ]
  },
  {
   "cell_type": "markdown",
   "metadata": {},
   "source": [
    "таким образом должников среди людей, бравших кредит на оьразование выше, чем по остальным причинам\n",
    "- гпиотеза не подтвержена"
   ]
  },
  {
   "cell_type": "markdown",
   "metadata": {},
   "source": [
    "<div class=\"alert alert-info\">\n",
    "  <b> * <a href=\"#ch0\">к содержанию</a> </b> \n",
    "</div>\n"
   ]
  },
  {
   "cell_type": "markdown",
   "metadata": {},
   "source": [
    "---"
   ]
  }
 ],
 "metadata": {
  "ExecuteTimeLog": [
   {
    "duration": 1377,
    "start_time": "2024-10-28T04:08:28.817Z"
   },
   {
    "duration": 255,
    "start_time": "2024-10-28T04:10:31.182Z"
   },
   {
    "duration": 3,
    "start_time": "2024-10-28T04:11:14.812Z"
   },
   {
    "duration": 19,
    "start_time": "2024-10-28T04:11:54.410Z"
   },
   {
    "duration": 29,
    "start_time": "2024-10-28T04:12:46.769Z"
   },
   {
    "duration": 130,
    "start_time": "2024-10-28T04:15:28.357Z"
   },
   {
    "duration": 31,
    "start_time": "2024-10-28T04:15:47.096Z"
   },
   {
    "duration": 31,
    "start_time": "2024-10-28T04:16:03.074Z"
   },
   {
    "duration": 28,
    "start_time": "2024-10-28T04:16:24.744Z"
   },
   {
    "duration": 26,
    "start_time": "2024-10-28T04:16:34.575Z"
   },
   {
    "duration": 12,
    "start_time": "2024-10-28T04:35:34.639Z"
   },
   {
    "duration": 12,
    "start_time": "2024-10-28T04:37:07.309Z"
   },
   {
    "duration": 34,
    "start_time": "2024-10-28T04:42:58.002Z"
   },
   {
    "duration": 55,
    "start_time": "2024-10-28T04:43:15.340Z"
   },
   {
    "duration": 62,
    "start_time": "2024-10-28T04:43:20.615Z"
   },
   {
    "duration": 17,
    "start_time": "2024-10-28T04:44:14.727Z"
   },
   {
    "duration": 5,
    "start_time": "2024-10-28T04:50:07.188Z"
   },
   {
    "duration": 66,
    "start_time": "2024-10-28T04:54:20.380Z"
   },
   {
    "duration": 5,
    "start_time": "2024-10-28T04:54:26.759Z"
   },
   {
    "duration": 11,
    "start_time": "2024-10-28T04:54:56.217Z"
   },
   {
    "duration": 5,
    "start_time": "2024-10-28T04:57:03.626Z"
   },
   {
    "duration": 6,
    "start_time": "2024-10-28T04:58:01.049Z"
   },
   {
    "duration": 5,
    "start_time": "2024-10-28T05:01:33.017Z"
   },
   {
    "duration": 5,
    "start_time": "2024-10-28T05:04:10.608Z"
   },
   {
    "duration": 7,
    "start_time": "2024-10-28T05:04:11.029Z"
   },
   {
    "duration": 6,
    "start_time": "2024-10-28T05:05:44.840Z"
   },
   {
    "duration": 5,
    "start_time": "2024-10-28T05:06:31.720Z"
   },
   {
    "duration": 7,
    "start_time": "2024-10-28T05:06:44.311Z"
   },
   {
    "duration": 7,
    "start_time": "2024-10-28T05:06:44.738Z"
   },
   {
    "duration": 6,
    "start_time": "2024-10-28T05:06:45.665Z"
   },
   {
    "duration": 5,
    "start_time": "2024-10-28T05:06:55.171Z"
   },
   {
    "duration": 46,
    "start_time": "2024-10-28T05:07:16.976Z"
   },
   {
    "duration": 17,
    "start_time": "2024-10-28T05:07:21.940Z"
   },
   {
    "duration": 5,
    "start_time": "2024-10-28T05:07:35.007Z"
   },
   {
    "duration": 6,
    "start_time": "2024-10-28T05:08:15.345Z"
   },
   {
    "duration": 4,
    "start_time": "2024-10-28T05:09:00.297Z"
   },
   {
    "duration": 66,
    "start_time": "2024-10-28T05:09:01.031Z"
   },
   {
    "duration": 3,
    "start_time": "2024-10-28T05:09:01.950Z"
   },
   {
    "duration": 27,
    "start_time": "2024-10-28T05:09:02.653Z"
   },
   {
    "duration": 15,
    "start_time": "2024-10-28T05:09:03.880Z"
   },
   {
    "duration": 12,
    "start_time": "2024-10-28T05:09:04.192Z"
   },
   {
    "duration": 19,
    "start_time": "2024-10-28T05:09:04.824Z"
   },
   {
    "duration": 4,
    "start_time": "2024-10-28T05:09:05.855Z"
   },
   {
    "duration": 4,
    "start_time": "2024-10-28T05:09:06.488Z"
   },
   {
    "duration": 11,
    "start_time": "2024-10-28T05:09:07.161Z"
   },
   {
    "duration": 5,
    "start_time": "2024-10-28T05:09:09.115Z"
   },
   {
    "duration": 6,
    "start_time": "2024-10-28T05:11:23.048Z"
   },
   {
    "duration": 10,
    "start_time": "2024-10-28T05:12:33.027Z"
   },
   {
    "duration": 6,
    "start_time": "2024-10-28T05:12:39.839Z"
   },
   {
    "duration": 5,
    "start_time": "2024-10-28T05:12:58.890Z"
   },
   {
    "duration": 11,
    "start_time": "2024-10-28T05:13:59.855Z"
   },
   {
    "duration": 5,
    "start_time": "2024-10-28T05:14:00.459Z"
   },
   {
    "duration": 5,
    "start_time": "2024-10-28T05:14:29.617Z"
   },
   {
    "duration": 5,
    "start_time": "2024-10-28T05:14:38.527Z"
   },
   {
    "duration": 6,
    "start_time": "2024-10-28T05:14:46.427Z"
   },
   {
    "duration": 6,
    "start_time": "2024-10-28T05:14:46.860Z"
   },
   {
    "duration": 5,
    "start_time": "2024-10-28T05:14:58.207Z"
   },
   {
    "duration": 5,
    "start_time": "2024-10-28T05:14:58.801Z"
   },
   {
    "duration": 5,
    "start_time": "2024-10-28T05:16:17.953Z"
   },
   {
    "duration": 5,
    "start_time": "2024-10-28T05:16:18.674Z"
   },
   {
    "duration": 6,
    "start_time": "2024-10-28T05:16:25.362Z"
   },
   {
    "duration": 6,
    "start_time": "2024-10-28T05:16:25.945Z"
   },
   {
    "duration": 11,
    "start_time": "2024-10-28T05:16:26.664Z"
   },
   {
    "duration": 6,
    "start_time": "2024-10-28T05:16:27.166Z"
   },
   {
    "duration": 6,
    "start_time": "2024-10-28T05:16:27.614Z"
   },
   {
    "duration": 5,
    "start_time": "2024-10-28T05:16:28.605Z"
   },
   {
    "duration": 16,
    "start_time": "2024-10-28T05:17:29.041Z"
   },
   {
    "duration": 60,
    "start_time": "2024-10-28T05:18:09.981Z"
   },
   {
    "duration": 97,
    "start_time": "2024-10-28T05:18:35.933Z"
   },
   {
    "duration": 51,
    "start_time": "2024-10-28T05:19:05.107Z"
   },
   {
    "duration": 16,
    "start_time": "2024-10-28T05:19:12.458Z"
   },
   {
    "duration": 27,
    "start_time": "2024-10-28T05:20:33.979Z"
   },
   {
    "duration": 32,
    "start_time": "2024-10-28T05:20:47.060Z"
   },
   {
    "duration": 30,
    "start_time": "2024-10-28T05:22:59.879Z"
   },
   {
    "duration": 41,
    "start_time": "2024-10-28T05:23:15.859Z"
   },
   {
    "duration": 38,
    "start_time": "2024-10-28T05:23:21.901Z"
   },
   {
    "duration": 32,
    "start_time": "2024-10-28T05:27:00.931Z"
   },
   {
    "duration": 730,
    "start_time": "2024-10-28T05:32:30.990Z"
   },
   {
    "duration": 20,
    "start_time": "2024-10-28T05:32:59.646Z"
   },
   {
    "duration": 174,
    "start_time": "2024-10-28T05:49:35.672Z"
   },
   {
    "duration": 122,
    "start_time": "2024-10-28T05:49:36.236Z"
   },
   {
    "duration": 104,
    "start_time": "2024-10-28T05:50:23.212Z"
   },
   {
    "duration": 10,
    "start_time": "2024-10-28T06:00:02.263Z"
   },
   {
    "duration": 5,
    "start_time": "2024-10-28T06:08:58.530Z"
   },
   {
    "duration": 5,
    "start_time": "2024-10-28T06:09:37.233Z"
   },
   {
    "duration": 23,
    "start_time": "2024-10-28T06:09:52.912Z"
   },
   {
    "duration": 18,
    "start_time": "2024-10-28T06:10:53.213Z"
   },
   {
    "duration": 24,
    "start_time": "2024-10-28T06:11:00.603Z"
   },
   {
    "duration": 16,
    "start_time": "2024-10-28T06:11:22.045Z"
   },
   {
    "duration": 5,
    "start_time": "2024-10-28T06:11:35.909Z"
   },
   {
    "duration": 16,
    "start_time": "2024-10-28T06:13:01.541Z"
   },
   {
    "duration": 8,
    "start_time": "2024-10-28T06:15:41.386Z"
   },
   {
    "duration": 9,
    "start_time": "2024-10-28T06:15:41.827Z"
   },
   {
    "duration": 16,
    "start_time": "2024-10-28T06:16:02.890Z"
   },
   {
    "duration": 5,
    "start_time": "2024-10-28T06:16:03.621Z"
   },
   {
    "duration": 8,
    "start_time": "2024-10-28T06:16:32.401Z"
   },
   {
    "duration": 9,
    "start_time": "2024-10-28T06:16:48.984Z"
   },
   {
    "duration": 5,
    "start_time": "2024-10-28T06:21:03.156Z"
   },
   {
    "duration": 5,
    "start_time": "2024-10-28T06:21:18.891Z"
   },
   {
    "duration": 23,
    "start_time": "2024-10-28T06:21:27.173Z"
   },
   {
    "duration": 5,
    "start_time": "2024-10-28T06:21:57.525Z"
   },
   {
    "duration": 5,
    "start_time": "2024-10-28T06:22:05.772Z"
   },
   {
    "duration": 5,
    "start_time": "2024-10-28T06:22:07.028Z"
   },
   {
    "duration": 5,
    "start_time": "2024-10-28T06:25:39.495Z"
   },
   {
    "duration": 6,
    "start_time": "2024-10-28T06:25:40.353Z"
   },
   {
    "duration": 12,
    "start_time": "2024-10-28T06:26:22.520Z"
   },
   {
    "duration": 3,
    "start_time": "2024-10-28T06:26:32.431Z"
   },
   {
    "duration": 66,
    "start_time": "2024-10-28T06:26:33.042Z"
   },
   {
    "duration": 3,
    "start_time": "2024-10-28T06:26:33.664Z"
   },
   {
    "duration": 25,
    "start_time": "2024-10-28T06:26:34.304Z"
   },
   {
    "duration": 11,
    "start_time": "2024-10-28T06:26:35.497Z"
   },
   {
    "duration": 12,
    "start_time": "2024-10-28T06:26:35.711Z"
   },
   {
    "duration": 19,
    "start_time": "2024-10-28T06:26:36.147Z"
   },
   {
    "duration": 3,
    "start_time": "2024-10-28T06:26:37.044Z"
   },
   {
    "duration": 4,
    "start_time": "2024-10-28T06:26:37.756Z"
   },
   {
    "duration": 12,
    "start_time": "2024-10-28T06:26:38.583Z"
   },
   {
    "duration": 5,
    "start_time": "2024-10-28T06:26:39.200Z"
   },
   {
    "duration": 5,
    "start_time": "2024-10-28T06:26:40.413Z"
   },
   {
    "duration": 11,
    "start_time": "2024-10-28T06:26:41.541Z"
   },
   {
    "duration": 5,
    "start_time": "2024-10-28T06:26:41.745Z"
   },
   {
    "duration": 6,
    "start_time": "2024-10-28T06:26:42.049Z"
   },
   {
    "duration": 5,
    "start_time": "2024-10-28T06:26:42.304Z"
   },
   {
    "duration": 17,
    "start_time": "2024-10-28T06:26:43.799Z"
   },
   {
    "duration": 31,
    "start_time": "2024-10-28T06:26:44.326Z"
   },
   {
    "duration": 40,
    "start_time": "2024-10-28T06:26:45.021Z"
   },
   {
    "duration": 34,
    "start_time": "2024-10-28T06:26:45.893Z"
   },
   {
    "duration": 19,
    "start_time": "2024-10-28T06:26:47.607Z"
   },
   {
    "duration": 120,
    "start_time": "2024-10-28T06:26:48.814Z"
   },
   {
    "duration": 112,
    "start_time": "2024-10-28T06:26:49.329Z"
   },
   {
    "duration": 124,
    "start_time": "2024-10-28T06:26:49.944Z"
   },
   {
    "duration": 7,
    "start_time": "2024-10-28T06:26:51.695Z"
   },
   {
    "duration": 9,
    "start_time": "2024-10-28T06:26:52.228Z"
   },
   {
    "duration": 17,
    "start_time": "2024-10-28T06:26:54.974Z"
   },
   {
    "duration": 6,
    "start_time": "2024-10-28T06:26:55.506Z"
   },
   {
    "duration": 6,
    "start_time": "2024-10-28T06:26:56.649Z"
   },
   {
    "duration": 9,
    "start_time": "2024-10-28T06:26:57.205Z"
   },
   {
    "duration": 5,
    "start_time": "2024-10-28T06:26:58.989Z"
   },
   {
    "duration": 5,
    "start_time": "2024-10-28T06:26:59.564Z"
   },
   {
    "duration": 6,
    "start_time": "2024-10-28T06:27:01.736Z"
   },
   {
    "duration": 6,
    "start_time": "2024-10-28T06:27:04.118Z"
   },
   {
    "duration": 9,
    "start_time": "2024-10-28T06:27:04.787Z"
   },
   {
    "duration": 6,
    "start_time": "2024-10-28T06:27:17.071Z"
   },
   {
    "duration": 5,
    "start_time": "2024-10-28T06:27:17.583Z"
   },
   {
    "duration": 8,
    "start_time": "2024-10-28T06:27:18.119Z"
   },
   {
    "duration": 471,
    "start_time": "2024-10-28T06:31:04.915Z"
   },
   {
    "duration": 433,
    "start_time": "2024-10-28T06:32:22.138Z"
   },
   {
    "duration": 504,
    "start_time": "2024-10-28T06:32:32.663Z"
   },
   {
    "duration": 441,
    "start_time": "2024-10-28T06:33:03.834Z"
   },
   {
    "duration": 2,
    "start_time": "2024-10-28T06:33:19.391Z"
   },
   {
    "duration": 63,
    "start_time": "2024-10-28T06:33:20.079Z"
   },
   {
    "duration": 4,
    "start_time": "2024-10-28T06:33:20.695Z"
   },
   {
    "duration": 26,
    "start_time": "2024-10-28T06:33:21.306Z"
   },
   {
    "duration": 12,
    "start_time": "2024-10-28T06:33:22.230Z"
   },
   {
    "duration": 14,
    "start_time": "2024-10-28T06:33:22.433Z"
   },
   {
    "duration": 19,
    "start_time": "2024-10-28T06:33:22.844Z"
   },
   {
    "duration": 4,
    "start_time": "2024-10-28T06:33:23.353Z"
   },
   {
    "duration": 5,
    "start_time": "2024-10-28T06:33:23.868Z"
   },
   {
    "duration": 12,
    "start_time": "2024-10-28T06:33:24.279Z"
   },
   {
    "duration": 6,
    "start_time": "2024-10-28T06:33:24.788Z"
   },
   {
    "duration": 6,
    "start_time": "2024-10-28T06:33:25.609Z"
   },
   {
    "duration": 10,
    "start_time": "2024-10-28T06:33:26.017Z"
   },
   {
    "duration": 6,
    "start_time": "2024-10-28T06:33:26.223Z"
   },
   {
    "duration": 6,
    "start_time": "2024-10-28T06:33:26.454Z"
   },
   {
    "duration": 5,
    "start_time": "2024-10-28T06:33:26.731Z"
   },
   {
    "duration": 17,
    "start_time": "2024-10-28T06:33:27.494Z"
   },
   {
    "duration": 33,
    "start_time": "2024-10-28T06:33:28.200Z"
   },
   {
    "duration": 37,
    "start_time": "2024-10-28T06:33:29.218Z"
   },
   {
    "duration": 31,
    "start_time": "2024-10-28T06:33:30.318Z"
   },
   {
    "duration": 20,
    "start_time": "2024-10-28T06:33:32.473Z"
   },
   {
    "duration": 121,
    "start_time": "2024-10-28T06:33:35.236Z"
   },
   {
    "duration": 461,
    "start_time": "2024-10-28T06:33:36.719Z"
   },
   {
    "duration": 121,
    "start_time": "2024-10-28T06:33:45.982Z"
   },
   {
    "duration": 415,
    "start_time": "2024-10-28T06:33:47.269Z"
   },
   {
    "duration": 142,
    "start_time": "2024-10-28T06:33:53.884Z"
   },
   {
    "duration": 485,
    "start_time": "2024-10-28T06:33:54.908Z"
   },
   {
    "duration": 151,
    "start_time": "2024-10-28T06:39:33.776Z"
   },
   {
    "duration": 124,
    "start_time": "2024-10-28T06:39:40.117Z"
   },
   {
    "duration": 121,
    "start_time": "2024-10-28T06:39:45.436Z"
   },
   {
    "duration": 651,
    "start_time": "2024-10-28T06:40:23.809Z"
   },
   {
    "duration": 111,
    "start_time": "2024-10-28T06:44:10.417Z"
   },
   {
    "duration": 470,
    "start_time": "2024-10-28T06:44:18.507Z"
   },
   {
    "duration": 101,
    "start_time": "2024-10-28T06:49:36.869Z"
   },
   {
    "duration": 479,
    "start_time": "2024-10-28T06:49:43.566Z"
   },
   {
    "duration": 1314,
    "start_time": "2024-10-28T12:43:07.845Z"
   },
   {
    "duration": 151,
    "start_time": "2024-10-28T12:43:09.694Z"
   },
   {
    "duration": 3,
    "start_time": "2024-10-28T12:43:12.055Z"
   },
   {
    "duration": 29,
    "start_time": "2024-10-28T12:43:16.285Z"
   },
   {
    "duration": 16,
    "start_time": "2024-10-28T12:46:28.533Z"
   },
   {
    "duration": 12,
    "start_time": "2024-10-28T12:46:36.068Z"
   },
   {
    "duration": 10,
    "start_time": "2024-10-28T12:47:18.701Z"
   },
   {
    "duration": 11,
    "start_time": "2024-10-28T12:47:19.694Z"
   },
   {
    "duration": 4,
    "start_time": "2024-10-28T12:51:17.713Z"
   },
   {
    "duration": 4,
    "start_time": "2024-10-28T12:51:18.900Z"
   },
   {
    "duration": 12,
    "start_time": "2024-10-28T12:51:31.494Z"
   },
   {
    "duration": 6,
    "start_time": "2024-10-28T12:51:47.094Z"
   },
   {
    "duration": 5,
    "start_time": "2024-10-28T12:52:22.095Z"
   },
   {
    "duration": 5,
    "start_time": "2024-10-28T12:52:25.052Z"
   },
   {
    "duration": 10,
    "start_time": "2024-10-28T12:52:47.373Z"
   },
   {
    "duration": 5,
    "start_time": "2024-10-28T12:52:48.094Z"
   },
   {
    "duration": 5,
    "start_time": "2024-10-28T12:52:49.934Z"
   },
   {
    "duration": 5,
    "start_time": "2024-10-28T12:52:50.979Z"
   },
   {
    "duration": 17,
    "start_time": "2024-10-28T12:53:24.760Z"
   },
   {
    "duration": 23,
    "start_time": "2024-10-28T12:53:46.358Z"
   },
   {
    "duration": 28,
    "start_time": "2024-10-28T12:54:21.481Z"
   },
   {
    "duration": 29,
    "start_time": "2024-10-28T12:54:29.880Z"
   },
   {
    "duration": 30,
    "start_time": "2024-10-28T12:54:39.812Z"
   },
   {
    "duration": 14,
    "start_time": "2024-10-28T12:57:52.054Z"
   },
   {
    "duration": 16,
    "start_time": "2024-10-28T12:58:05.257Z"
   },
   {
    "duration": 15,
    "start_time": "2024-10-28T12:59:13.014Z"
   },
   {
    "duration": 14,
    "start_time": "2024-10-28T12:59:21.459Z"
   },
   {
    "duration": 14,
    "start_time": "2024-10-28T12:59:21.927Z"
   },
   {
    "duration": 94,
    "start_time": "2024-10-28T13:00:21.015Z"
   },
   {
    "duration": 4,
    "start_time": "2024-10-28T13:00:27.257Z"
   },
   {
    "duration": 4,
    "start_time": "2024-10-28T13:00:55.841Z"
   },
   {
    "duration": 2,
    "start_time": "2024-10-28T13:01:09.695Z"
   },
   {
    "duration": 123,
    "start_time": "2024-10-28T13:01:12.981Z"
   },
   {
    "duration": 3,
    "start_time": "2024-10-28T13:01:13.746Z"
   },
   {
    "duration": 15,
    "start_time": "2024-10-28T13:01:15.305Z"
   },
   {
    "duration": 13,
    "start_time": "2024-10-28T13:01:16.936Z"
   },
   {
    "duration": 11,
    "start_time": "2024-10-28T13:01:19.901Z"
   },
   {
    "duration": 13,
    "start_time": "2024-10-28T13:01:20.840Z"
   },
   {
    "duration": 18,
    "start_time": "2024-10-28T13:01:25.612Z"
   },
   {
    "duration": 3,
    "start_time": "2024-10-28T13:01:27.364Z"
   },
   {
    "duration": 4,
    "start_time": "2024-10-28T13:01:32.201Z"
   },
   {
    "duration": 11,
    "start_time": "2024-10-28T13:01:33.406Z"
   },
   {
    "duration": 6,
    "start_time": "2024-10-28T13:01:35.167Z"
   },
   {
    "duration": 5,
    "start_time": "2024-10-28T13:01:38.532Z"
   },
   {
    "duration": 9,
    "start_time": "2024-10-28T13:01:40.573Z"
   },
   {
    "duration": 5,
    "start_time": "2024-10-28T13:01:41.204Z"
   },
   {
    "duration": 5,
    "start_time": "2024-10-28T13:01:42.017Z"
   },
   {
    "duration": 5,
    "start_time": "2024-10-28T13:01:45.591Z"
   },
   {
    "duration": 16,
    "start_time": "2024-10-28T13:01:47.023Z"
   },
   {
    "duration": 14,
    "start_time": "2024-10-28T13:01:49.126Z"
   },
   {
    "duration": 15,
    "start_time": "2024-10-28T13:01:56.890Z"
   },
   {
    "duration": 23,
    "start_time": "2024-10-28T13:01:58.492Z"
   },
   {
    "duration": 27,
    "start_time": "2024-10-28T13:02:03.413Z"
   },
   {
    "duration": 27,
    "start_time": "2024-10-28T13:02:05.580Z"
   },
   {
    "duration": 4,
    "start_time": "2024-10-28T13:02:07.338Z"
   },
   {
    "duration": 4,
    "start_time": "2024-10-28T13:02:08.049Z"
   },
   {
    "duration": 57,
    "start_time": "2024-10-28T13:03:50.428Z"
   },
   {
    "duration": 3,
    "start_time": "2024-10-28T13:03:55.950Z"
   },
   {
    "duration": 3,
    "start_time": "2024-10-28T13:04:29.025Z"
   },
   {
    "duration": 3,
    "start_time": "2024-10-28T13:04:35.595Z"
   },
   {
    "duration": 3,
    "start_time": "2024-10-28T13:06:57.229Z"
   },
   {
    "duration": 4,
    "start_time": "2024-10-28T13:07:11.990Z"
   },
   {
    "duration": 4,
    "start_time": "2024-10-28T13:07:22.611Z"
   },
   {
    "duration": 4,
    "start_time": "2024-10-28T13:07:45.142Z"
   },
   {
    "duration": 3,
    "start_time": "2024-10-28T13:09:20.459Z"
   },
   {
    "duration": 22,
    "start_time": "2024-10-28T13:10:00.023Z"
   },
   {
    "duration": 5,
    "start_time": "2024-10-28T13:17:12.777Z"
   },
   {
    "duration": 7,
    "start_time": "2024-10-28T13:17:18.883Z"
   },
   {
    "duration": 4,
    "start_time": "2024-10-28T13:19:03.935Z"
   },
   {
    "duration": 7,
    "start_time": "2024-10-28T13:19:14.005Z"
   },
   {
    "duration": 7,
    "start_time": "2024-10-28T13:20:02.306Z"
   },
   {
    "duration": 7,
    "start_time": "2024-10-28T13:21:30.062Z"
   },
   {
    "duration": 4,
    "start_time": "2024-10-28T13:22:35.741Z"
   },
   {
    "duration": 4,
    "start_time": "2024-10-28T13:22:36.952Z"
   },
   {
    "duration": 3,
    "start_time": "2024-10-28T13:22:39.488Z"
   },
   {
    "duration": 3,
    "start_time": "2024-10-28T13:22:56.190Z"
   },
   {
    "duration": 169,
    "start_time": "2024-10-28T13:22:56.793Z"
   },
   {
    "duration": 4,
    "start_time": "2024-10-28T13:22:57.410Z"
   },
   {
    "duration": 16,
    "start_time": "2024-10-28T13:22:58.227Z"
   },
   {
    "duration": 17,
    "start_time": "2024-10-28T13:22:58.537Z"
   },
   {
    "duration": 10,
    "start_time": "2024-10-28T13:22:59.457Z"
   },
   {
    "duration": 11,
    "start_time": "2024-10-28T13:22:59.683Z"
   },
   {
    "duration": 18,
    "start_time": "2024-10-28T13:23:00.398Z"
   },
   {
    "duration": 3,
    "start_time": "2024-10-28T13:23:00.889Z"
   },
   {
    "duration": 4,
    "start_time": "2024-10-28T13:23:01.332Z"
   },
   {
    "duration": 10,
    "start_time": "2024-10-28T13:23:01.834Z"
   },
   {
    "duration": 6,
    "start_time": "2024-10-28T13:23:02.347Z"
   },
   {
    "duration": 6,
    "start_time": "2024-10-28T13:23:02.939Z"
   },
   {
    "duration": 12,
    "start_time": "2024-10-28T13:23:03.654Z"
   },
   {
    "duration": 6,
    "start_time": "2024-10-28T13:23:03.862Z"
   },
   {
    "duration": 5,
    "start_time": "2024-10-28T13:23:04.168Z"
   },
   {
    "duration": 5,
    "start_time": "2024-10-28T13:23:04.397Z"
   },
   {
    "duration": 16,
    "start_time": "2024-10-28T13:23:05.119Z"
   },
   {
    "duration": 16,
    "start_time": "2024-10-28T13:23:05.396Z"
   },
   {
    "duration": 18,
    "start_time": "2024-10-28T13:23:06.215Z"
   },
   {
    "duration": 27,
    "start_time": "2024-10-28T13:23:06.679Z"
   },
   {
    "duration": 28,
    "start_time": "2024-10-28T13:23:07.146Z"
   },
   {
    "duration": 29,
    "start_time": "2024-10-28T13:23:07.664Z"
   },
   {
    "duration": 5,
    "start_time": "2024-10-28T13:23:08.197Z"
   },
   {
    "duration": 5,
    "start_time": "2024-10-28T13:23:08.471Z"
   },
   {
    "duration": 4,
    "start_time": "2024-10-28T13:23:08.707Z"
   },
   {
    "duration": 20,
    "start_time": "2024-10-28T13:23:09.739Z"
   },
   {
    "duration": 122,
    "start_time": "2024-10-28T13:23:18.196Z"
   },
   {
    "duration": 400,
    "start_time": "2024-10-28T13:23:18.751Z"
   },
   {
    "duration": 7,
    "start_time": "2024-10-28T13:23:19.329Z"
   },
   {
    "duration": 102,
    "start_time": "2024-10-28T13:23:20.452Z"
   },
   {
    "duration": 389,
    "start_time": "2024-10-28T13:23:20.862Z"
   },
   {
    "duration": 7,
    "start_time": "2024-10-28T13:23:21.476Z"
   },
   {
    "duration": 91,
    "start_time": "2024-10-28T13:23:22.598Z"
   },
   {
    "duration": 439,
    "start_time": "2024-10-28T13:23:22.906Z"
   },
   {
    "duration": 7,
    "start_time": "2024-10-28T13:23:30.612Z"
   },
   {
    "duration": 9,
    "start_time": "2024-10-28T13:23:32.045Z"
   },
   {
    "duration": 15,
    "start_time": "2024-10-28T13:23:36.116Z"
   },
   {
    "duration": 6,
    "start_time": "2024-10-28T13:23:36.667Z"
   },
   {
    "duration": 5,
    "start_time": "2024-10-28T13:23:44.516Z"
   },
   {
    "duration": 8,
    "start_time": "2024-10-28T13:23:45.038Z"
   },
   {
    "duration": 5,
    "start_time": "2024-10-28T13:23:47.485Z"
   },
   {
    "duration": 5,
    "start_time": "2024-10-28T13:23:48.405Z"
   },
   {
    "duration": 5,
    "start_time": "2024-10-28T13:23:50.249Z"
   },
   {
    "duration": 4,
    "start_time": "2024-10-28T13:23:50.763Z"
   },
   {
    "duration": 8,
    "start_time": "2024-10-28T13:23:51.270Z"
   },
   {
    "duration": 3,
    "start_time": "2024-10-28T13:23:53.060Z"
   },
   {
    "duration": 4,
    "start_time": "2024-10-28T13:23:54.240Z"
   },
   {
    "duration": 3,
    "start_time": "2024-10-28T13:24:00.109Z"
   },
   {
    "duration": 19,
    "start_time": "2024-10-28T13:25:32.173Z"
   },
   {
    "duration": 2,
    "start_time": "2024-10-28T13:26:45.490Z"
   },
   {
    "duration": 170,
    "start_time": "2024-10-28T13:26:46.090Z"
   },
   {
    "duration": 3,
    "start_time": "2024-10-28T13:26:46.685Z"
   },
   {
    "duration": 22,
    "start_time": "2024-10-28T13:26:47.297Z"
   },
   {
    "duration": 12,
    "start_time": "2024-10-28T13:26:47.503Z"
   },
   {
    "duration": 10,
    "start_time": "2024-10-28T13:26:48.333Z"
   },
   {
    "duration": 12,
    "start_time": "2024-10-28T13:26:48.550Z"
   },
   {
    "duration": 17,
    "start_time": "2024-10-28T13:26:49.195Z"
   },
   {
    "duration": 3,
    "start_time": "2024-10-28T13:26:49.657Z"
   },
   {
    "duration": 4,
    "start_time": "2024-10-28T13:26:50.095Z"
   },
   {
    "duration": 12,
    "start_time": "2024-10-28T13:26:50.575Z"
   },
   {
    "duration": 5,
    "start_time": "2024-10-28T13:26:51.086Z"
   },
   {
    "duration": 4,
    "start_time": "2024-10-28T13:26:51.429Z"
   },
   {
    "duration": 10,
    "start_time": "2024-10-28T13:26:52.111Z"
   },
   {
    "duration": 5,
    "start_time": "2024-10-28T13:26:52.364Z"
   },
   {
    "duration": 6,
    "start_time": "2024-10-28T13:26:52.658Z"
   },
   {
    "duration": 6,
    "start_time": "2024-10-28T13:26:52.930Z"
   },
   {
    "duration": 16,
    "start_time": "2024-10-28T13:26:53.344Z"
   },
   {
    "duration": 16,
    "start_time": "2024-10-28T13:26:53.568Z"
   },
   {
    "duration": 14,
    "start_time": "2024-10-28T13:26:54.773Z"
   },
   {
    "duration": 22,
    "start_time": "2024-10-28T13:26:55.239Z"
   },
   {
    "duration": 27,
    "start_time": "2024-10-28T13:26:55.735Z"
   },
   {
    "duration": 29,
    "start_time": "2024-10-28T13:26:56.442Z"
   },
   {
    "duration": 3,
    "start_time": "2024-10-28T13:26:57.481Z"
   },
   {
    "duration": 3,
    "start_time": "2024-10-28T13:26:57.743Z"
   },
   {
    "duration": 3,
    "start_time": "2024-10-28T13:26:58.498Z"
   },
   {
    "duration": 19,
    "start_time": "2024-10-28T13:27:00.545Z"
   },
   {
    "duration": 111,
    "start_time": "2024-10-28T13:27:01.453Z"
   },
   {
    "duration": 460,
    "start_time": "2024-10-28T13:27:01.678Z"
   },
   {
    "duration": 6,
    "start_time": "2024-10-28T13:27:02.140Z"
   },
   {
    "duration": 186,
    "start_time": "2024-10-28T13:27:02.453Z"
   },
   {
    "duration": 448,
    "start_time": "2024-10-28T13:27:02.773Z"
   },
   {
    "duration": 7,
    "start_time": "2024-10-28T13:27:03.222Z"
   },
   {
    "duration": 94,
    "start_time": "2024-10-28T13:27:04.044Z"
   },
   {
    "duration": 421,
    "start_time": "2024-10-28T13:27:04.503Z"
   },
   {
    "duration": 7,
    "start_time": "2024-10-28T13:27:06.141Z"
   },
   {
    "duration": 8,
    "start_time": "2024-10-28T13:27:06.472Z"
   },
   {
    "duration": 14,
    "start_time": "2024-10-28T13:27:06.904Z"
   },
   {
    "duration": 4,
    "start_time": "2024-10-28T13:27:07.420Z"
   },
   {
    "duration": 5,
    "start_time": "2024-10-28T13:27:08.116Z"
   },
   {
    "duration": 8,
    "start_time": "2024-10-28T13:27:08.339Z"
   },
   {
    "duration": 4,
    "start_time": "2024-10-28T13:27:09.023Z"
   },
   {
    "duration": 4,
    "start_time": "2024-10-28T13:27:09.466Z"
   },
   {
    "duration": 5,
    "start_time": "2024-10-28T13:27:10.235Z"
   },
   {
    "duration": 5,
    "start_time": "2024-10-28T13:27:10.544Z"
   },
   {
    "duration": 8,
    "start_time": "2024-10-28T13:27:10.763Z"
   },
   {
    "duration": 18,
    "start_time": "2024-10-28T13:27:11.363Z"
   },
   {
    "duration": 3,
    "start_time": "2024-10-28T13:27:12.590Z"
   },
   {
    "duration": 3,
    "start_time": "2024-10-28T13:27:13.141Z"
   },
   {
    "duration": 3,
    "start_time": "2024-10-28T13:27:13.922Z"
   },
   {
    "duration": 94,
    "start_time": "2024-10-28T13:28:38.099Z"
   },
   {
    "duration": 93,
    "start_time": "2024-10-28T13:29:00.732Z"
   },
   {
    "duration": 104,
    "start_time": "2024-10-28T13:29:32.910Z"
   },
   {
    "duration": 21,
    "start_time": "2024-10-28T13:31:25.030Z"
   },
   {
    "duration": 58,
    "start_time": "2024-10-28T13:33:27.933Z"
   },
   {
    "duration": 284,
    "start_time": "2024-10-28T13:33:52.878Z"
   },
   {
    "duration": 31,
    "start_time": "2024-10-28T13:34:11.977Z"
   },
   {
    "duration": 82,
    "start_time": "2024-10-28T13:34:59.949Z"
   },
   {
    "duration": 28,
    "start_time": "2024-10-28T13:35:50.739Z"
   },
   {
    "duration": 11,
    "start_time": "2024-10-28T13:38:29.156Z"
   },
   {
    "duration": 16,
    "start_time": "2024-10-28T13:39:08.692Z"
   },
   {
    "duration": 14,
    "start_time": "2024-10-28T13:41:27.534Z"
   },
   {
    "duration": 17,
    "start_time": "2024-10-28T13:42:02.146Z"
   },
   {
    "duration": 14,
    "start_time": "2024-10-28T13:42:26.461Z"
   },
   {
    "duration": 12,
    "start_time": "2024-10-28T13:43:01.335Z"
   },
   {
    "duration": 11,
    "start_time": "2024-10-28T13:45:00.334Z"
   },
   {
    "duration": 16,
    "start_time": "2024-10-28T13:45:08.113Z"
   },
   {
    "duration": 10,
    "start_time": "2024-10-28T13:45:22.751Z"
   },
   {
    "duration": 11,
    "start_time": "2024-10-28T13:45:33.195Z"
   },
   {
    "duration": 3,
    "start_time": "2024-10-28T13:45:48.292Z"
   },
   {
    "duration": 142,
    "start_time": "2024-10-28T13:45:48.984Z"
   },
   {
    "duration": 4,
    "start_time": "2024-10-28T13:45:49.615Z"
   },
   {
    "duration": 17,
    "start_time": "2024-10-28T13:45:50.294Z"
   },
   {
    "duration": 13,
    "start_time": "2024-10-28T13:45:50.499Z"
   },
   {
    "duration": 10,
    "start_time": "2024-10-28T13:45:51.362Z"
   },
   {
    "duration": 11,
    "start_time": "2024-10-28T13:45:51.626Z"
   },
   {
    "duration": 19,
    "start_time": "2024-10-28T13:45:52.262Z"
   },
   {
    "duration": 3,
    "start_time": "2024-10-28T13:45:52.798Z"
   },
   {
    "duration": 4,
    "start_time": "2024-10-28T13:45:53.310Z"
   },
   {
    "duration": 10,
    "start_time": "2024-10-28T13:45:53.931Z"
   },
   {
    "duration": 5,
    "start_time": "2024-10-28T13:45:54.419Z"
   },
   {
    "duration": 5,
    "start_time": "2024-10-28T13:45:54.950Z"
   },
   {
    "duration": 9,
    "start_time": "2024-10-28T13:45:56.061Z"
   },
   {
    "duration": 5,
    "start_time": "2024-10-28T13:45:56.347Z"
   },
   {
    "duration": 6,
    "start_time": "2024-10-28T13:45:56.644Z"
   },
   {
    "duration": 5,
    "start_time": "2024-10-28T13:45:56.876Z"
   },
   {
    "duration": 16,
    "start_time": "2024-10-28T13:45:57.372Z"
   },
   {
    "duration": 15,
    "start_time": "2024-10-28T13:45:57.667Z"
   },
   {
    "duration": 16,
    "start_time": "2024-10-28T13:45:58.405Z"
   },
   {
    "duration": 25,
    "start_time": "2024-10-28T13:45:59.013Z"
   },
   {
    "duration": 29,
    "start_time": "2024-10-28T13:45:59.618Z"
   },
   {
    "duration": 30,
    "start_time": "2024-10-28T13:46:00.228Z"
   },
   {
    "duration": 4,
    "start_time": "2024-10-28T13:46:01.187Z"
   },
   {
    "duration": 3,
    "start_time": "2024-10-28T13:46:01.662Z"
   },
   {
    "duration": 3,
    "start_time": "2024-10-28T13:46:02.004Z"
   },
   {
    "duration": 20,
    "start_time": "2024-10-28T13:46:04.016Z"
   },
   {
    "duration": 113,
    "start_time": "2024-10-28T13:46:05.261Z"
   },
   {
    "duration": 443,
    "start_time": "2024-10-28T13:46:05.599Z"
   },
   {
    "duration": 7,
    "start_time": "2024-10-28T13:46:06.043Z"
   },
   {
    "duration": 104,
    "start_time": "2024-10-28T13:46:06.474Z"
   },
   {
    "duration": 422,
    "start_time": "2024-10-28T13:46:06.717Z"
   },
   {
    "duration": 6,
    "start_time": "2024-10-28T13:46:07.141Z"
   },
   {
    "duration": 173,
    "start_time": "2024-10-28T13:46:07.829Z"
   },
   {
    "duration": 419,
    "start_time": "2024-10-28T13:46:08.318Z"
   },
   {
    "duration": 7,
    "start_time": "2024-10-28T13:46:09.956Z"
   },
   {
    "duration": 9,
    "start_time": "2024-10-28T13:46:10.263Z"
   },
   {
    "duration": 15,
    "start_time": "2024-10-28T13:46:10.804Z"
   },
   {
    "duration": 5,
    "start_time": "2024-10-28T13:46:11.118Z"
   },
   {
    "duration": 5,
    "start_time": "2024-10-28T13:46:11.869Z"
   },
   {
    "duration": 8,
    "start_time": "2024-10-28T13:46:12.007Z"
   },
   {
    "duration": 5,
    "start_time": "2024-10-28T13:46:12.515Z"
   },
   {
    "duration": 5,
    "start_time": "2024-10-28T13:46:12.751Z"
   },
   {
    "duration": 5,
    "start_time": "2024-10-28T13:46:13.372Z"
   },
   {
    "duration": 5,
    "start_time": "2024-10-28T13:46:13.745Z"
   },
   {
    "duration": 9,
    "start_time": "2024-10-28T13:46:13.986Z"
   },
   {
    "duration": 20,
    "start_time": "2024-10-28T13:46:14.563Z"
   },
   {
    "duration": 103,
    "start_time": "2024-10-28T13:46:15.202Z"
   },
   {
    "duration": 93,
    "start_time": "2024-10-28T13:46:15.690Z"
   },
   {
    "duration": 90,
    "start_time": "2024-10-28T13:46:16.100Z"
   },
   {
    "duration": 4,
    "start_time": "2024-10-28T13:46:17.840Z"
   },
   {
    "duration": 4,
    "start_time": "2024-10-28T13:46:18.287Z"
   },
   {
    "duration": 3,
    "start_time": "2024-10-28T13:46:18.801Z"
   },
   {
    "duration": 25,
    "start_time": "2024-10-28T13:46:20.138Z"
   },
   {
    "duration": 14,
    "start_time": "2024-10-28T13:46:22.047Z"
   },
   {
    "duration": 18,
    "start_time": "2024-10-28T13:46:24.088Z"
   },
   {
    "duration": 12,
    "start_time": "2024-10-28T13:46:25.161Z"
   },
   {
    "duration": 201,
    "start_time": "2024-10-28T13:51:23.623Z"
   },
   {
    "duration": 12,
    "start_time": "2024-10-28T13:52:08.566Z"
   },
   {
    "duration": 23,
    "start_time": "2024-10-28T13:52:11.431Z"
   },
   {
    "duration": 58,
    "start_time": "2024-10-28T13:56:46.888Z"
   },
   {
    "duration": 13,
    "start_time": "2024-10-28T13:57:12.798Z"
   },
   {
    "duration": 12,
    "start_time": "2024-10-28T13:57:21.105Z"
   },
   {
    "duration": 13,
    "start_time": "2024-10-28T13:59:33.341Z"
   },
   {
    "duration": 178,
    "start_time": "2024-10-28T14:00:51.219Z"
   },
   {
    "duration": 153,
    "start_time": "2024-10-28T14:02:18.184Z"
   },
   {
    "duration": 163,
    "start_time": "2024-10-28T14:03:23.617Z"
   },
   {
    "duration": 222,
    "start_time": "2024-10-28T14:07:13.491Z"
   },
   {
    "duration": 212,
    "start_time": "2024-10-28T14:07:37.272Z"
   },
   {
    "duration": 273,
    "start_time": "2024-10-28T14:07:43.685Z"
   },
   {
    "duration": 157,
    "start_time": "2024-10-28T14:08:02.118Z"
   },
   {
    "duration": 158,
    "start_time": "2024-10-28T14:08:25.070Z"
   },
   {
    "duration": 16,
    "start_time": "2024-10-28T14:08:51.514Z"
   },
   {
    "duration": 4,
    "start_time": "2024-10-28T14:09:40.320Z"
   },
   {
    "duration": 10,
    "start_time": "2024-10-28T14:09:49.041Z"
   },
   {
    "duration": 144,
    "start_time": "2024-10-28T14:10:44.068Z"
   },
   {
    "duration": 9,
    "start_time": "2024-10-28T14:11:49.696Z"
   },
   {
    "duration": 148,
    "start_time": "2024-10-28T14:11:50.198Z"
   },
   {
    "duration": 15,
    "start_time": "2024-10-28T14:19:54.366Z"
   },
   {
    "duration": 16,
    "start_time": "2024-10-28T14:22:39.591Z"
   },
   {
    "duration": 10,
    "start_time": "2024-10-28T14:22:50.137Z"
   },
   {
    "duration": 6,
    "start_time": "2024-10-28T14:24:55.374Z"
   },
   {
    "duration": 787,
    "start_time": "2024-10-28T14:25:10.581Z"
   },
   {
    "duration": 6,
    "start_time": "2024-10-28T14:25:16.058Z"
   },
   {
    "duration": 7,
    "start_time": "2024-10-28T14:30:01.363Z"
   },
   {
    "duration": 12,
    "start_time": "2024-10-28T14:30:08.824Z"
   },
   {
    "duration": 12,
    "start_time": "2024-10-28T14:30:39.237Z"
   },
   {
    "duration": 29,
    "start_time": "2024-10-28T14:30:56.236Z"
   },
   {
    "duration": 15,
    "start_time": "2024-10-28T14:31:26.275Z"
   },
   {
    "duration": 25,
    "start_time": "2024-10-28T14:32:02.897Z"
   },
   {
    "duration": 21,
    "start_time": "2024-10-28T14:33:44.273Z"
   },
   {
    "duration": 7,
    "start_time": "2024-10-28T14:36:02.721Z"
   },
   {
    "duration": 12,
    "start_time": "2024-10-28T14:36:28.465Z"
   },
   {
    "duration": 21,
    "start_time": "2024-10-28T14:36:40.032Z"
   },
   {
    "duration": 4,
    "start_time": "2024-10-28T14:37:26.689Z"
   },
   {
    "duration": 4,
    "start_time": "2024-10-28T14:38:03.042Z"
   },
   {
    "duration": 24,
    "start_time": "2024-10-28T14:38:50.474Z"
   },
   {
    "duration": 122,
    "start_time": "2024-10-28T14:39:41.482Z"
   },
   {
    "duration": 57,
    "start_time": "2024-10-28T14:40:28.661Z"
   },
   {
    "duration": 19,
    "start_time": "2024-10-28T14:43:31.031Z"
   },
   {
    "duration": 4,
    "start_time": "2024-10-28T14:43:45.988Z"
   },
   {
    "duration": 87,
    "start_time": "2024-10-28T17:32:31.717Z"
   },
   {
    "duration": 93,
    "start_time": "2024-10-28T17:32:47.026Z"
   },
   {
    "duration": 49,
    "start_time": "2024-10-28T17:32:52.653Z"
   },
   {
    "duration": 1701,
    "start_time": "2024-10-28T17:33:38.679Z"
   },
   {
    "duration": 227,
    "start_time": "2024-10-28T17:33:40.383Z"
   },
   {
    "duration": 3,
    "start_time": "2024-10-28T17:33:42.167Z"
   },
   {
    "duration": 25,
    "start_time": "2024-10-28T17:33:43.516Z"
   },
   {
    "duration": 18,
    "start_time": "2024-10-28T17:33:44.108Z"
   },
   {
    "duration": 12,
    "start_time": "2024-10-28T17:33:46.667Z"
   },
   {
    "duration": 21,
    "start_time": "2024-10-28T17:33:46.918Z"
   },
   {
    "duration": 20,
    "start_time": "2024-10-28T17:33:48.239Z"
   },
   {
    "duration": 3,
    "start_time": "2024-10-28T17:33:49.353Z"
   },
   {
    "duration": 5,
    "start_time": "2024-10-28T17:33:50.461Z"
   },
   {
    "duration": 18,
    "start_time": "2024-10-28T17:33:51.317Z"
   },
   {
    "duration": 6,
    "start_time": "2024-10-28T17:33:52.503Z"
   },
   {
    "duration": 6,
    "start_time": "2024-10-28T17:33:53.737Z"
   },
   {
    "duration": 12,
    "start_time": "2024-10-28T17:33:56.914Z"
   },
   {
    "duration": 8,
    "start_time": "2024-10-28T17:33:57.529Z"
   },
   {
    "duration": 6,
    "start_time": "2024-10-28T17:33:58.137Z"
   },
   {
    "duration": 5,
    "start_time": "2024-10-28T17:33:58.766Z"
   },
   {
    "duration": 27,
    "start_time": "2024-10-28T17:34:00.017Z"
   },
   {
    "duration": 24,
    "start_time": "2024-10-28T17:34:00.919Z"
   },
   {
    "duration": 18,
    "start_time": "2024-10-28T17:34:02.748Z"
   },
   {
    "duration": 25,
    "start_time": "2024-10-28T17:34:04.085Z"
   },
   {
    "duration": 51,
    "start_time": "2024-10-28T17:34:05.723Z"
   },
   {
    "duration": 37,
    "start_time": "2024-10-28T17:34:06.991Z"
   },
   {
    "duration": 4,
    "start_time": "2024-10-28T17:34:08.208Z"
   },
   {
    "duration": 8,
    "start_time": "2024-10-28T17:34:08.731Z"
   },
   {
    "duration": 3,
    "start_time": "2024-10-28T17:34:09.709Z"
   },
   {
    "duration": 22,
    "start_time": "2024-10-28T17:34:12.290Z"
   },
   {
    "duration": 140,
    "start_time": "2024-10-28T17:34:14.008Z"
   },
   {
    "duration": 531,
    "start_time": "2024-10-28T17:34:14.356Z"
   },
   {
    "duration": 9,
    "start_time": "2024-10-28T17:34:14.889Z"
   },
   {
    "duration": 145,
    "start_time": "2024-10-28T17:34:15.703Z"
   },
   {
    "duration": 470,
    "start_time": "2024-10-28T17:34:16.264Z"
   },
   {
    "duration": 8,
    "start_time": "2024-10-28T17:34:16.984Z"
   },
   {
    "duration": 97,
    "start_time": "2024-10-28T17:34:18.149Z"
   },
   {
    "duration": 563,
    "start_time": "2024-10-28T17:34:18.723Z"
   },
   {
    "duration": 7,
    "start_time": "2024-10-28T17:34:21.095Z"
   },
   {
    "duration": 13,
    "start_time": "2024-10-28T17:34:22.247Z"
   },
   {
    "duration": 17,
    "start_time": "2024-10-28T17:34:23.455Z"
   },
   {
    "duration": 6,
    "start_time": "2024-10-28T17:34:24.054Z"
   },
   {
    "duration": 6,
    "start_time": "2024-10-28T17:34:29.471Z"
   },
   {
    "duration": 9,
    "start_time": "2024-10-28T17:34:29.883Z"
   },
   {
    "duration": 6,
    "start_time": "2024-10-28T17:34:30.729Z"
   },
   {
    "duration": 10,
    "start_time": "2024-10-28T17:34:31.624Z"
   },
   {
    "duration": 5,
    "start_time": "2024-10-28T17:34:32.755Z"
   },
   {
    "duration": 6,
    "start_time": "2024-10-28T17:34:33.264Z"
   },
   {
    "duration": 10,
    "start_time": "2024-10-28T17:34:33.775Z"
   },
   {
    "duration": 25,
    "start_time": "2024-10-28T17:34:35.220Z"
   },
   {
    "duration": 117,
    "start_time": "2024-10-28T17:34:36.750Z"
   },
   {
    "duration": 108,
    "start_time": "2024-10-28T17:34:37.001Z"
   },
   {
    "duration": 186,
    "start_time": "2024-10-28T17:34:37.302Z"
   },
   {
    "duration": 5,
    "start_time": "2024-10-28T17:34:39.507Z"
   },
   {
    "duration": 14,
    "start_time": "2024-10-28T17:34:39.920Z"
   },
   {
    "duration": 4,
    "start_time": "2024-10-28T17:34:40.469Z"
   },
   {
    "duration": 29,
    "start_time": "2024-10-28T17:34:44.843Z"
   },
   {
    "duration": 21,
    "start_time": "2024-10-28T17:34:47.800Z"
   },
   {
    "duration": 14,
    "start_time": "2024-10-28T17:34:50.406Z"
   },
   {
    "duration": 13,
    "start_time": "2024-10-28T17:34:54.473Z"
   },
   {
    "duration": 14,
    "start_time": "2024-10-28T17:34:57.148Z"
   },
   {
    "duration": 223,
    "start_time": "2024-10-28T17:34:58.858Z"
   },
   {
    "duration": 226,
    "start_time": "2024-10-28T17:48:18.952Z"
   },
   {
    "duration": 271,
    "start_time": "2024-10-28T18:00:21.876Z"
   },
   {
    "duration": 209,
    "start_time": "2024-10-28T18:05:28.756Z"
   },
   {
    "duration": 97,
    "start_time": "2024-10-28T18:16:29.435Z"
   },
   {
    "duration": 72,
    "start_time": "2024-10-28T18:16:38.743Z"
   },
   {
    "duration": 10,
    "start_time": "2024-10-28T18:17:30.665Z"
   },
   {
    "duration": 30,
    "start_time": "2024-10-28T18:17:48.918Z"
   },
   {
    "duration": 9,
    "start_time": "2024-10-28T18:17:49.711Z"
   },
   {
    "duration": 5,
    "start_time": "2024-10-28T18:17:50.435Z"
   },
   {
    "duration": 170,
    "start_time": "2024-10-28T18:17:51.676Z"
   },
   {
    "duration": 133,
    "start_time": "2024-10-28T18:17:59.162Z"
   },
   {
    "duration": 160,
    "start_time": "2024-10-28T18:19:01.335Z"
   },
   {
    "duration": 15,
    "start_time": "2024-10-28T18:26:42.506Z"
   },
   {
    "duration": 12,
    "start_time": "2024-10-28T18:26:53.863Z"
   },
   {
    "duration": 6,
    "start_time": "2024-10-28T18:26:55.039Z"
   },
   {
    "duration": 6,
    "start_time": "2024-10-28T18:26:55.534Z"
   },
   {
    "duration": 23,
    "start_time": "2024-10-28T18:26:56.664Z"
   },
   {
    "duration": 24,
    "start_time": "2024-10-28T18:26:57.450Z"
   },
   {
    "duration": 7,
    "start_time": "2024-10-28T18:26:57.957Z"
   },
   {
    "duration": 27,
    "start_time": "2024-10-28T18:26:59.089Z"
   },
   {
    "duration": 128,
    "start_time": "2024-10-28T18:27:09.229Z"
   },
   {
    "duration": 143,
    "start_time": "2024-10-28T18:27:27.782Z"
   },
   {
    "duration": 155,
    "start_time": "2024-10-28T18:33:08.136Z"
   },
   {
    "duration": 6,
    "start_time": "2024-10-28T18:34:23.706Z"
   },
   {
    "duration": 11,
    "start_time": "2024-10-28T18:37:24.803Z"
   },
   {
    "duration": 26,
    "start_time": "2024-10-28T18:37:35.506Z"
   },
   {
    "duration": 9,
    "start_time": "2024-10-28T18:38:17.216Z"
   },
   {
    "duration": 276,
    "start_time": "2024-10-28T18:38:46.165Z"
   },
   {
    "duration": 4,
    "start_time": "2024-10-28T18:39:38.221Z"
   },
   {
    "duration": 7,
    "start_time": "2024-10-28T18:39:40.025Z"
   },
   {
    "duration": 218,
    "start_time": "2024-10-28T18:39:41.773Z"
   },
   {
    "duration": 177,
    "start_time": "2024-10-28T18:41:25.924Z"
   },
   {
    "duration": 173,
    "start_time": "2024-10-28T18:41:29.896Z"
   },
   {
    "duration": 172,
    "start_time": "2024-10-28T18:41:57.465Z"
   },
   {
    "duration": 174,
    "start_time": "2024-10-28T18:44:18.062Z"
   },
   {
    "duration": 5,
    "start_time": "2024-10-28T18:46:02.692Z"
   },
   {
    "duration": 10,
    "start_time": "2024-10-28T18:46:04.660Z"
   },
   {
    "duration": 170,
    "start_time": "2024-10-28T18:46:42.114Z"
   },
   {
    "duration": 166,
    "start_time": "2024-10-28T18:51:01.396Z"
   },
   {
    "duration": 4,
    "start_time": "2024-10-28T18:51:37.852Z"
   },
   {
    "duration": 170,
    "start_time": "2024-10-28T18:51:38.559Z"
   },
   {
    "duration": 4,
    "start_time": "2024-10-28T18:51:39.206Z"
   },
   {
    "duration": 18,
    "start_time": "2024-10-28T18:51:39.892Z"
   },
   {
    "duration": 13,
    "start_time": "2024-10-28T18:51:40.096Z"
   },
   {
    "duration": 11,
    "start_time": "2024-10-28T18:51:41.017Z"
   },
   {
    "duration": 13,
    "start_time": "2024-10-28T18:51:41.228Z"
   },
   {
    "duration": 19,
    "start_time": "2024-10-28T18:51:41.940Z"
   },
   {
    "duration": 4,
    "start_time": "2024-10-28T18:51:42.394Z"
   },
   {
    "duration": 5,
    "start_time": "2024-10-28T18:51:42.904Z"
   },
   {
    "duration": 11,
    "start_time": "2024-10-28T18:51:43.397Z"
   },
   {
    "duration": 5,
    "start_time": "2024-10-28T18:51:43.889Z"
   },
   {
    "duration": 5,
    "start_time": "2024-10-28T18:51:44.329Z"
   },
   {
    "duration": 11,
    "start_time": "2024-10-28T18:51:45.035Z"
   },
   {
    "duration": 5,
    "start_time": "2024-10-28T18:51:45.320Z"
   },
   {
    "duration": 5,
    "start_time": "2024-10-28T18:51:45.536Z"
   },
   {
    "duration": 6,
    "start_time": "2024-10-28T18:51:45.779Z"
   },
   {
    "duration": 17,
    "start_time": "2024-10-28T18:51:46.266Z"
   },
   {
    "duration": 15,
    "start_time": "2024-10-28T18:51:46.502Z"
   },
   {
    "duration": 17,
    "start_time": "2024-10-28T18:51:47.269Z"
   },
   {
    "duration": 26,
    "start_time": "2024-10-28T18:51:47.706Z"
   },
   {
    "duration": 31,
    "start_time": "2024-10-28T18:51:48.185Z"
   },
   {
    "duration": 31,
    "start_time": "2024-10-28T18:51:48.696Z"
   },
   {
    "duration": 4,
    "start_time": "2024-10-28T18:51:49.236Z"
   },
   {
    "duration": 4,
    "start_time": "2024-10-28T18:51:49.518Z"
   },
   {
    "duration": 4,
    "start_time": "2024-10-28T18:51:49.764Z"
   },
   {
    "duration": 20,
    "start_time": "2024-10-28T18:51:50.953Z"
   },
   {
    "duration": 122,
    "start_time": "2024-10-28T18:51:51.976Z"
   },
   {
    "duration": 474,
    "start_time": "2024-10-28T18:51:52.179Z"
   },
   {
    "duration": 8,
    "start_time": "2024-10-28T18:51:52.656Z"
   },
   {
    "duration": 105,
    "start_time": "2024-10-28T18:51:53.042Z"
   },
   {
    "duration": 442,
    "start_time": "2024-10-28T18:51:53.303Z"
   },
   {
    "duration": 9,
    "start_time": "2024-10-28T18:51:53.747Z"
   },
   {
    "duration": 199,
    "start_time": "2024-10-28T18:51:54.127Z"
   },
   {
    "duration": 445,
    "start_time": "2024-10-28T18:51:54.361Z"
   },
   {
    "duration": 8,
    "start_time": "2024-10-28T18:51:55.463Z"
   },
   {
    "duration": 9,
    "start_time": "2024-10-28T18:51:55.780Z"
   },
   {
    "duration": 16,
    "start_time": "2024-10-28T18:51:56.382Z"
   },
   {
    "duration": 5,
    "start_time": "2024-10-28T18:51:56.636Z"
   },
   {
    "duration": 6,
    "start_time": "2024-10-28T18:51:57.402Z"
   },
   {
    "duration": 9,
    "start_time": "2024-10-28T18:51:57.508Z"
   },
   {
    "duration": 7,
    "start_time": "2024-10-28T18:51:58.020Z"
   },
   {
    "duration": 5,
    "start_time": "2024-10-28T18:51:58.326Z"
   },
   {
    "duration": 6,
    "start_time": "2024-10-28T18:51:58.852Z"
   },
   {
    "duration": 6,
    "start_time": "2024-10-28T18:51:59.144Z"
   },
   {
    "duration": 8,
    "start_time": "2024-10-28T18:51:59.346Z"
   },
   {
    "duration": 19,
    "start_time": "2024-10-28T18:51:59.903Z"
   },
   {
    "duration": 102,
    "start_time": "2024-10-28T18:52:00.479Z"
   },
   {
    "duration": 96,
    "start_time": "2024-10-28T18:52:00.779Z"
   },
   {
    "duration": 109,
    "start_time": "2024-10-28T18:52:01.026Z"
   },
   {
    "duration": 3,
    "start_time": "2024-10-28T18:52:01.602Z"
   },
   {
    "duration": 3,
    "start_time": "2024-10-28T18:52:01.818Z"
   },
   {
    "duration": 3,
    "start_time": "2024-10-28T18:52:02.110Z"
   },
   {
    "duration": 31,
    "start_time": "2024-10-28T18:52:03.465Z"
   },
   {
    "duration": 15,
    "start_time": "2024-10-28T18:52:04.671Z"
   },
   {
    "duration": 17,
    "start_time": "2024-10-28T18:52:05.797Z"
   },
   {
    "duration": 12,
    "start_time": "2024-10-28T18:52:06.352Z"
   },
   {
    "duration": 15,
    "start_time": "2024-10-28T18:52:07.645Z"
   },
   {
    "duration": 206,
    "start_time": "2024-10-28T18:52:08.198Z"
   },
   {
    "duration": 218,
    "start_time": "2024-10-28T18:52:09.005Z"
   },
   {
    "duration": 190,
    "start_time": "2024-10-28T18:52:09.605Z"
   },
   {
    "duration": 189,
    "start_time": "2024-10-28T18:52:10.303Z"
   },
   {
    "duration": 17,
    "start_time": "2024-10-28T18:52:11.331Z"
   },
   {
    "duration": 9,
    "start_time": "2024-10-28T18:52:11.847Z"
   },
   {
    "duration": 4,
    "start_time": "2024-10-28T18:52:12.076Z"
   },
   {
    "duration": 149,
    "start_time": "2024-10-28T18:52:12.373Z"
   },
   {
    "duration": 13,
    "start_time": "2024-10-28T18:52:13.686Z"
   },
   {
    "duration": 5,
    "start_time": "2024-10-28T18:52:14.203Z"
   },
   {
    "duration": 6,
    "start_time": "2024-10-28T18:52:14.550Z"
   },
   {
    "duration": 30,
    "start_time": "2024-10-28T18:52:15.120Z"
   },
   {
    "duration": 21,
    "start_time": "2024-10-28T18:52:15.422Z"
   },
   {
    "duration": 5,
    "start_time": "2024-10-28T18:52:15.670Z"
   },
   {
    "duration": 28,
    "start_time": "2024-10-28T18:52:15.935Z"
   },
   {
    "duration": 141,
    "start_time": "2024-10-28T18:52:16.193Z"
   },
   {
    "duration": 5,
    "start_time": "2024-10-28T18:52:19.470Z"
   },
   {
    "duration": 9,
    "start_time": "2024-10-28T18:52:20.242Z"
   },
   {
    "duration": 179,
    "start_time": "2024-10-28T18:52:20.749Z"
   },
   {
    "duration": 53,
    "start_time": "2024-10-30T05:52:41.711Z"
   },
   {
    "duration": 1481,
    "start_time": "2024-10-30T05:52:54.080Z"
   },
   {
    "duration": 196,
    "start_time": "2024-10-30T05:52:55.563Z"
   },
   {
    "duration": 3,
    "start_time": "2024-10-30T05:52:56.322Z"
   },
   {
    "duration": 18,
    "start_time": "2024-10-30T05:52:57.653Z"
   },
   {
    "duration": 18,
    "start_time": "2024-10-30T05:52:58.391Z"
   },
   {
    "duration": 12,
    "start_time": "2024-10-30T05:53:02.511Z"
   },
   {
    "duration": 12,
    "start_time": "2024-10-30T05:53:15.164Z"
   },
   {
    "duration": 17,
    "start_time": "2024-10-30T05:55:15.073Z"
   },
   {
    "duration": 18,
    "start_time": "2024-10-30T05:55:18.668Z"
   },
   {
    "duration": 3,
    "start_time": "2024-10-30T05:55:20.603Z"
   },
   {
    "duration": 5,
    "start_time": "2024-10-30T05:55:25.734Z"
   },
   {
    "duration": 11,
    "start_time": "2024-10-30T05:55:28.335Z"
   },
   {
    "duration": 12,
    "start_time": "2024-10-30T05:57:01.893Z"
   },
   {
    "duration": 5,
    "start_time": "2024-10-30T05:57:03.156Z"
   },
   {
    "duration": 8,
    "start_time": "2024-10-30T05:57:03.868Z"
   },
   {
    "duration": 5,
    "start_time": "2024-10-30T05:57:53.487Z"
   },
   {
    "duration": 5,
    "start_time": "2024-10-30T05:57:54.207Z"
   },
   {
    "duration": 7,
    "start_time": "2024-10-30T05:58:25.644Z"
   },
   {
    "duration": 5,
    "start_time": "2024-10-30T05:58:26.566Z"
   },
   {
    "duration": 11,
    "start_time": "2024-10-30T05:58:28.243Z"
   },
   {
    "duration": 6,
    "start_time": "2024-10-30T05:58:28.719Z"
   },
   {
    "duration": 6,
    "start_time": "2024-10-30T05:58:30.060Z"
   }
  ],
  "kernelspec": {
   "display_name": "Python 3 (ipykernel)",
   "language": "python",
   "name": "python3"
  },
  "language_info": {
   "codemirror_mode": {
    "name": "ipython",
    "version": 3
   },
   "file_extension": ".py",
   "mimetype": "text/x-python",
   "name": "python",
   "nbconvert_exporter": "python",
   "pygments_lexer": "ipython3",
   "version": "3.9.13"
  },
  "toc": {
   "base_numbering": 1,
   "nav_menu": {},
   "number_sections": true,
   "sideBar": true,
   "skip_h1_title": true,
   "title_cell": "Table of Contents",
   "title_sidebar": "Contents",
   "toc_cell": false,
   "toc_position": {},
   "toc_section_display": true,
   "toc_window_display": false
  }
 },
 "nbformat": 4,
 "nbformat_minor": 4
}
